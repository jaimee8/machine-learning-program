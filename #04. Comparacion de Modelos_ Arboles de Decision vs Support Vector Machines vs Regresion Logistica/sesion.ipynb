{
 "cells": [
  {
   "cell_type": "markdown",
   "metadata": {},
   "source": [
    "<font size=\"+5\">#04. Comparacion de Modelos: Arboles de Decision vs Support Vector Machines vs Regresion Logistica</font>"
   ]
  },
  {
   "cell_type": "markdown",
   "metadata": {},
   "source": [
    "<ul>\n",
    "    <li>Resolver dudas → Pregunta en <img src=\"https://discord.com/assets/f9bb9c4af2b9c32a2c5ee0014661546d.png\" style=\"height: 1em; vertical-align: middle;\"> <a href=\"https://discord.gg/cmB3KGsqMy\">Discord</a></li>\n",
    "    <li>Tutoriales → <img src=\"https://openmoji.org/php/download_asset.php?type=emoji&emoji_hexcode=E044&emoji_variant=color\" style=\"height: 1em; vertical-align: middle;\"> <a href=\"https://www.youtube.com/channel/UCovCte2I3loteQE_kRsfQcw\">YouTube</a></li>\n",
    "    <li>Reservar Clases → <span style=\"color: orange\">@</span> <a href=\"https://sotastica.com/reservar\">sotastica</a></li>\n",
    "</ul>"
   ]
  },
  {
   "cell_type": "markdown",
   "metadata": {},
   "source": [
    "# Cargar Datos"
   ]
  },
  {
   "cell_type": "markdown",
   "metadata": {},
   "source": [
    "> Usaremos la base de datos del **CIS** sobre una muestra de 2455, cuyas características son de aspecto sociológico. El `objetivo es determinar si una persona usa internet o no`. Ejecutaríamos los siguientes comandos para cargar los datos en nuestro `entorno`.\n",
    "\n",
    "```python\n",
    "df = pd.read_csv('https://raw.githubusercontent.com/jesusloplar/data/main/uso_internet_espana.csv')\n",
    "df.head()\n",
    "```"
   ]
  },
  {
   "cell_type": "code",
   "execution_count": null,
   "metadata": {},
   "outputs": [],
   "source": []
  },
  {
   "cell_type": "markdown",
   "metadata": {},
   "source": [
    "# Seleccionar Variables para el Modelo"
   ]
  },
  {
   "cell_type": "markdown",
   "metadata": {},
   "source": [
    "> 1.  Explicativas/Features/Input `X`\n",
    "> 2.  Objetivo/Class/Target `y`"
   ]
  },
  {
   "cell_type": "code",
   "execution_count": null,
   "metadata": {},
   "outputs": [],
   "source": []
  },
  {
   "cell_type": "markdown",
   "metadata": {},
   "source": [
    "# Modelo de Árboles de Decisión en Python"
   ]
  },
  {
   "cell_type": "markdown",
   "metadata": {},
   "source": [
    "> Vamos a aplicar la lógica natural que hemos seguido durante todo el programa. Por tanto, los pasos a seguir son:\n",
    "\n",
    "```python\n",
    "model.fit() # calcular los mejores números en la ecuación matemática\n",
    "model.score() # calcular cómo de bueno es el modelo: Realidad vs Predicción\n",
    "```"
   ]
  },
  {
   "cell_type": "code",
   "execution_count": null,
   "metadata": {},
   "outputs": [],
   "source": []
  },
  {
   "cell_type": "markdown",
   "metadata": {},
   "source": [
    "# Crear Funciones para Automatizar Procesos"
   ]
  },
  {
   "cell_type": "markdown",
   "metadata": {},
   "source": [
    "> El objetivo de este capítulo es comprender cómo se comparan los diferentes modelos de ML. En este punto concreto del programa, deberíamos saber que los modelos siempre funcionan igual:\n",
    "\n",
    "```python\n",
    "model.fit() # calcular los mejores números en la ecuación matemática\n",
    "model.score() # calcular cómo de bueno es el modelo: Realidad vs Predicción\n",
    "```\n",
    "\n",
    "> El modelo a usar es lo único que cambiaría. Por tanto, nos preguntamos lo siguiente: ¿por qué no **crear una función** que te calcule las predicciones directamente al **pasarle un modelo**, como `parametro`? De esta forma podríamos ejecutar las siguientes líneas y entrenar todos los modelos con la misma función.\n",
    "\n",
    "```python\n",
    "dt = DecisionTreeClassifier()\n",
    "calcular_precision(model=dt)\n",
    "\n",
    "svm = SVC()\n",
    "calcular_precision(model=svm)\n",
    "\n",
    "lr = LogisticRegression()\n",
    "calcular_precision(model = lr)\n",
    "```"
   ]
  },
  {
   "cell_type": "code",
   "execution_count": null,
   "metadata": {},
   "outputs": [],
   "source": []
  },
  {
   "cell_type": "markdown",
   "metadata": {},
   "source": [
    "## Modelo de Árboles de Decisión"
   ]
  },
  {
   "cell_type": "markdown",
   "metadata": {},
   "source": [
    "- Aplicamos la función que hemos creado anteriormente en el objeto `DecisionTreeClassifier()`"
   ]
  },
  {
   "cell_type": "code",
   "execution_count": null,
   "metadata": {},
   "outputs": [],
   "source": []
  },
  {
   "cell_type": "markdown",
   "metadata": {},
   "source": [
    "## Modelo de Support Vector Machine"
   ]
  },
  {
   "cell_type": "markdown",
   "metadata": {},
   "source": [
    "- Aplicamos la función que hemos creado anteriormente en el objeto `SVC()`"
   ]
  },
  {
   "cell_type": "code",
   "execution_count": null,
   "metadata": {},
   "outputs": [],
   "source": []
  },
  {
   "cell_type": "markdown",
   "metadata": {},
   "source": [
    "## Modelo de Regresión Logística"
   ]
  },
  {
   "cell_type": "markdown",
   "metadata": {},
   "source": [
    "- Aplicamos la función que hemos creado anteriormente en el objeto `LogisticRegression()`"
   ]
  },
  {
   "cell_type": "code",
   "execution_count": null,
   "metadata": {},
   "outputs": [],
   "source": []
  },
  {
   "cell_type": "markdown",
   "metadata": {},
   "source": [
    "# ¿Cuál es el Mejor Modelo?"
   ]
  },
  {
   "cell_type": "markdown",
   "metadata": {},
   "source": [
    "> Tomamos la decisión con el modelo que haya tenido mayor precisión porque nos indicaría que ha acertado más veces la realidad."
   ]
  },
  {
   "cell_type": "code",
   "execution_count": null,
   "metadata": {},
   "outputs": [],
   "source": []
  },
  {
   "cell_type": "markdown",
   "metadata": {},
   "source": [
    "## Analogía del Examen de Selectividad"
   ]
  },
  {
   "cell_type": "markdown",
   "metadata": {},
   "source": [
    "> Basándonos en el resultado anterior, elegiríamos el modelo `DecisionTreeClassifier()`. No obstante, los modelos no se están comparando correctamente porque el modelo conocía los datos que trata de predecir. Déjanos explicarte este fenómeno con la siguiente analogía:\n",
    ">\n",
    "> 1. Tenemos el examen de selectividad de matemáticas el próximo sábado.\n",
    "> 2. Disponemos de 100 preguntas con sus 100 soluciones de años anteriores para estudiar de cara a la prueba final.\n",
    "> 3. Hoy es lunes y debemos calibrar cómo de preparados estamos de cara al sábado para ver si estudiamos más o menos en los próximos días.\n",
    "> 4. Estudiamos las 100 preguntas con las soluciones al lado.\n",
    "> 5. Hacemos una prueba sin mirar a las soluciones y vemos que hemos acertado 90 preguntas. Por tanto, pensamos que sacaremos un 90 en el examen.\n",
    "> 6. Llega el examen y las preguntas no son las mismas con las que hemos estudiado.\n",
    "> 7. Sacamos 40 preguntas acertadas de 100.\n",
    "> 8. ¿Qué nos ha pasado?\n",
    "> 9. Hemos sobreentrenado las preguntas que conocíamos. Sin embargo, nos hubiera gustado ver cómo de preparados estábamos con preguntas con las que no hemos entrenado.\n",
    "> 10. De la misma manera, nos gustaría evaluar el modelo con datos que no ha usado durante el entrenamiento.\n",
    "> 11. **La solución**: vamos a separar los datos en Train & Test con la función `train_test_split()`."
   ]
  },
  {
   "cell_type": "code",
   "execution_count": null,
   "metadata": {},
   "outputs": [],
   "source": []
  },
  {
   "cell_type": "markdown",
   "metadata": {},
   "source": [
    "# Separar Datos en Train & Test"
   ]
  },
  {
   "cell_type": "markdown",
   "metadata": {},
   "source": [
    "> **1. Entrenar Modelo con Train**\n",
    ">\n",
    "> Al separar los datos en `Entreno` y `Testeo` nos encontraríamos en el siguiente supuesto según la analogía del examen de selectividad:\n",
    ">\n",
    "> Estudiamos/Entrenamos `.fit()` para el examen con 70 preguntas `X_train` y respectivas 70 soluciones `y_train`.\n",
    ">\n",
    "> - `model.fit(X_train, y_train)`\n",
    ">\n",
    "> **2. Realizar Predicciones en Test**\n",
    ">\n",
    "> Hacemos un examen `.predict()` de mentira **sin ver las soluciones `y_test`**. Tan solo con lo que sabemos de antes y las **30 nuevas preguntas que no vimos `X_test`** durante el estudio/entrenamiento.\n",
    ">\n",
    "> - `y_pred = model.predict(X_test)`\n",
    ">\n",
    "> **3. Comparar Predicciones vs Realidad de Test**\n",
    ">\n",
    "> Por último veríamos cómo de preparados estamos para el examen de selectividad al comprobar si las respuestas que hemos desarrollado `y_pred` coinciden con las soluciones reales `y_test`.\n",
    ">\n",
    "> - `y_pred == y_test`?"
   ]
  },
  {
   "cell_type": "markdown",
   "metadata": {},
   "source": [
    "# Optimizar Modelos y Comparar Otra Vez"
   ]
  },
  {
   "cell_type": "markdown",
   "metadata": {},
   "source": [
    "> Ahora deberíamos entrenar un modelo aplicando la lógica que acabamos de exponer: ajustamos la ecuación matemática con los datos de entrenamiento y comprobamos **cómo de bueno es el modelo en los datos de testeo**."
   ]
  },
  {
   "cell_type": "code",
   "execution_count": null,
   "metadata": {},
   "outputs": [],
   "source": []
  },
  {
   "cell_type": "markdown",
   "metadata": {},
   "source": [
    "## Modelo de Árboles de Decisión con Train Test Split"
   ]
  },
  {
   "cell_type": "markdown",
   "metadata": {},
   "source": [
    "- Deberíamos obtener la precisión del `DecisionTreeClassifier()` con los datos de `Testeo`."
   ]
  },
  {
   "cell_type": "code",
   "execution_count": null,
   "metadata": {},
   "outputs": [],
   "source": []
  },
  {
   "cell_type": "markdown",
   "metadata": {},
   "source": [
    "## Modelo de Support Vector Machine con Train Test Split"
   ]
  },
  {
   "cell_type": "markdown",
   "metadata": {},
   "source": [
    "- Deberíamos obtener la precisión del `SVC()` con los datos de `Testeo`."
   ]
  },
  {
   "cell_type": "code",
   "execution_count": null,
   "metadata": {},
   "outputs": [],
   "source": []
  },
  {
   "cell_type": "markdown",
   "metadata": {},
   "source": [
    "## Modelo de Regresión Logística con Train Test Split"
   ]
  },
  {
   "cell_type": "markdown",
   "metadata": {},
   "source": [
    "- Deberíamos obtener la precisión del `LogisticRegression()` con los datos de `Testeo`."
   ]
  },
  {
   "cell_type": "code",
   "execution_count": null,
   "metadata": {},
   "outputs": [],
   "source": []
  },
  {
   "cell_type": "markdown",
   "metadata": {},
   "source": [
    "# ¿Cuál es el Mejor Modelo con Train Test Split?"
   ]
  },
  {
   "cell_type": "markdown",
   "metadata": {},
   "source": [
    "> Tomamos la decisión con el modelo que haya tenido mayor precisión porque nos indicaría que ha acertado más veces la realidad en los datos de `Testeo`."
   ]
  },
  {
   "cell_type": "code",
   "execution_count": null,
   "metadata": {},
   "outputs": [],
   "source": []
  },
  {
   "cell_type": "markdown",
   "metadata": {},
   "source": [
    "# La Importancia del Remuestreo"
   ]
  },
  {
   "cell_type": "markdown",
   "metadata": {},
   "source": [
    "> Las métricas nos dicen ahora que el mejor modelo es otro...\n",
    ">\n",
    "> Qué hubiera pasado si, por cada centésima de fallo `0.01` en datos que no conoce, perdemos 1 Millón de Euros. No sabría deciros en vuestro caso, pero con lo que da la diferencia yo me retiro...\n",
    ">\n",
    "> Los modelos pueden ser muy buenos en datos que conocen de antemano durante el entrenamiento. Sin embargo, quisiéramos emplear el modelo en datos que no conoció durante el entrenamiento (predecir si un cliente futuro afrontará un préstamo).\n",
    ">\n",
    "> El hecho de haber calibrado nuestro modelo, de ver lo bueno que es nuestro modelo en datos que no conoció **(Test)** durante el entrenamiento **(Train)** hace que nos fiemos mejor de su rendimiento frente a datos que no conoce.\n",
    ">\n",
    "> Por tanto, la técnica `train test split` debemos usarla siempre que queramos calibrar cómo de bueno es nuestro modelo."
   ]
  },
  {
   "cell_type": "code",
   "execution_count": null,
   "metadata": {},
   "outputs": [],
   "source": []
  },
  {
   "cell_type": "code",
   "execution_count": null,
   "metadata": {},
   "outputs": [],
   "source": []
  },
  {
   "cell_type": "code",
   "execution_count": null,
   "metadata": {},
   "outputs": [],
   "source": []
  },
  {
   "cell_type": "code",
   "execution_count": null,
   "metadata": {},
   "outputs": [],
   "source": []
  }
 ],
 "metadata": {
  "authors": [
   {
    "name": "Jesús López @sotastica"
   }
  ],
  "interpreter": {
   "hash": "414fd6d7c0f0aefb3d4e2db41edbeb0df03134e10d94a689550561b640a17652"
  },
  "kernelspec": {
   "display_name": "Python 3",
   "language": "python",
   "name": "python3"
  },
  "language_info": {
   "codemirror_mode": {
    "name": "ipython",
    "version": 3
   },
   "file_extension": ".py",
   "mimetype": "text/x-python",
   "name": "python",
   "nbconvert_exporter": "python",
   "pygments_lexer": "ipython3",
   "version": "3.8.8"
  }
 },
 "nbformat": 4,
 "nbformat_minor": 4
}
