{
 "cells": [
  {
   "cell_type": "markdown",
   "id": "039db8f6-91db-4603-ae05-b0cd52f3815c",
   "metadata": {},
   "source": [
    "# Machine Learning"
   ]
  },
  {
   "cell_type": "markdown",
   "id": "81255e42-0a72-4588-b595-9aa478b7d4fe",
   "metadata": {},
   "source": [
    "## Cargar Datos"
   ]
  },
  {
   "cell_type": "code",
   "execution_count": null,
   "id": "9c2b3e11-c0f3-4061-acae-38358d9a7ca3",
   "metadata": {},
   "outputs": [],
   "source": []
  },
  {
   "cell_type": "markdown",
   "id": "2aaa5ffd-2cbe-4a39-b45e-8cd4051485f2",
   "metadata": {},
   "source": [
    "## EDA"
   ]
  },
  {
   "cell_type": "markdown",
   "id": "8e9b3a2e-6498-4564-b7e0-2489610803f5",
   "metadata": {},
   "source": [
    "### Missing Data"
   ]
  },
  {
   "cell_type": "code",
   "execution_count": null,
   "id": "857e49e5-5b8a-4928-b0f0-5fbfaf07b6c6",
   "metadata": {},
   "outputs": [],
   "source": []
  },
  {
   "cell_type": "markdown",
   "id": "839603a5-0002-4952-92f3-8feaed235b19",
   "metadata": {},
   "source": [
    "### Outliers"
   ]
  },
  {
   "cell_type": "code",
   "execution_count": null,
   "id": "c4c568ea-755f-4c1d-a65f-f6ae29626956",
   "metadata": {},
   "outputs": [],
   "source": []
  },
  {
   "cell_type": "markdown",
   "id": "c6b80a07-fe3a-4921-806a-cf44f7524631",
   "metadata": {},
   "source": [
    "### Relationship with Target"
   ]
  },
  {
   "cell_type": "markdown",
   "id": "2578d670-d89a-4b7f-a30e-0946d8f22439",
   "metadata": {},
   "source": [
    "- Si la variable es categorica, barras\n",
    "- Si la variable es numerica, puntos"
   ]
  },
  {
   "cell_type": "code",
   "execution_count": null,
   "id": "d0a8f56a-9e18-4a12-83e8-e69914e3f2c9",
   "metadata": {},
   "outputs": [],
   "source": []
  },
  {
   "cell_type": "code",
   "execution_count": null,
   "id": "63233e3c-b9c5-403f-99f2-332932d9fd06",
   "metadata": {},
   "outputs": [],
   "source": []
  }
 ],
 "metadata": {
  "kernelspec": {
   "display_name": "Python 3 (ipykernel)",
   "language": "python",
   "name": "python3"
  },
  "language_info": {
   "codemirror_mode": {
    "name": "ipython",
    "version": 3
   },
   "file_extension": ".py",
   "mimetype": "text/x-python",
   "name": "python",
   "nbconvert_exporter": "python",
   "pygments_lexer": "ipython3",
   "version": "3.9.7"
  }
 },
 "nbformat": 4,
 "nbformat_minor": 5
}
