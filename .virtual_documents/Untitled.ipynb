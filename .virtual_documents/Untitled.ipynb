a = ['hola']


b = a


b.append('adios')


a








a = ['hola']


b = a.copy()


b.append('adios')


a






