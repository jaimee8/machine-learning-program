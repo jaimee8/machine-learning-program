{
 "cells": [
  {
   "cell_type": "code",
   "execution_count": 1,
   "id": "bb217231-2b31-4c80-975a-2ab8f98a2454",
   "metadata": {},
   "outputs": [],
   "source": [
    "a = ['hola']"
   ]
  },
  {
   "cell_type": "code",
   "execution_count": 2,
   "id": "f3a7feee-aa93-4de6-9170-c032b928e99d",
   "metadata": {},
   "outputs": [],
   "source": [
    "b = a"
   ]
  },
  {
   "cell_type": "code",
   "execution_count": 3,
   "id": "02f00f5b-edd4-477e-88b7-b11ca126c759",
   "metadata": {},
   "outputs": [],
   "source": [
    "b.append('adios')"
   ]
  },
  {
   "cell_type": "code",
   "execution_count": 4,
   "id": "4216ac66-2060-4ae8-877d-ce83401f577c",
   "metadata": {},
   "outputs": [
    {
     "data": {
      "text/plain": [
       "['hola', 'adios']"
      ]
     },
     "execution_count": 4,
     "metadata": {},
     "output_type": "execute_result"
    }
   ],
   "source": [
    "a"
   ]
  },
  {
   "cell_type": "code",
   "execution_count": null,
   "id": "1b7dc006-0264-4f5d-817f-25d07c1cd101",
   "metadata": {},
   "outputs": [],
   "source": []
  },
  {
   "cell_type": "code",
   "execution_count": null,
   "id": "1f3f442d-a8a0-49c0-bc53-cd2042539267",
   "metadata": {},
   "outputs": [],
   "source": []
  },
  {
   "cell_type": "code",
   "execution_count": 5,
   "id": "9292bfd5-239d-4846-9fcd-aba4137779f5",
   "metadata": {},
   "outputs": [],
   "source": [
    "a = ['hola']"
   ]
  },
  {
   "cell_type": "code",
   "execution_count": 6,
   "id": "3c12ac79-1ee8-4149-85ac-cd783b189466",
   "metadata": {},
   "outputs": [],
   "source": [
    "b = a.copy()"
   ]
  },
  {
   "cell_type": "code",
   "execution_count": 7,
   "id": "6f7ab9dc-280b-4cfe-8bdc-578276b4234e",
   "metadata": {},
   "outputs": [],
   "source": [
    "b.append('adios')"
   ]
  },
  {
   "cell_type": "code",
   "execution_count": 8,
   "id": "a2c5df50-a8f4-45ec-943f-4220ada5b687",
   "metadata": {},
   "outputs": [
    {
     "data": {
      "text/plain": [
       "['hola']"
      ]
     },
     "execution_count": 8,
     "metadata": {},
     "output_type": "execute_result"
    }
   ],
   "source": [
    "a"
   ]
  },
  {
   "cell_type": "code",
   "execution_count": null,
   "id": "2997734e-84c6-4f50-aba4-133e33139c2f",
   "metadata": {},
   "outputs": [],
   "source": []
  },
  {
   "cell_type": "code",
   "execution_count": null,
   "id": "9eb594de-caad-4b8f-b0e3-8d8d5f0ae71a",
   "metadata": {},
   "outputs": [],
   "source": []
  }
 ],
 "metadata": {
  "kernelspec": {
   "display_name": "Python 3 (ipykernel)",
   "language": "python",
   "name": "python3"
  },
  "language_info": {
   "codemirror_mode": {
    "name": "ipython",
    "version": 3
   },
   "file_extension": ".py",
   "mimetype": "text/x-python",
   "name": "python",
   "nbconvert_exporter": "python",
   "pygments_lexer": "ipython3",
   "version": "3.8.11"
  }
 },
 "nbformat": 4,
 "nbformat_minor": 5
}
