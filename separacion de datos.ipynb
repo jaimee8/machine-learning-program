{
 "cells": [
  {
   "cell_type": "markdown",
   "id": "bf48ff87-4268-454a-acbb-bcbdc20d973a",
   "metadata": {},
   "source": [
    "# `fit()` the Model"
   ]
  },
  {
   "cell_type": "code",
   "execution_count": null,
   "id": "7d3f143c-b199-4525-94bf-49b7c3365556",
   "metadata": {},
   "outputs": [],
   "source": [
    "- data\n",
    "- train 70 / test 30"
   ]
  },
  {
   "cell_type": "code",
   "execution_count": null,
   "id": "c8a03234-d317-4fc5-8a07-d30ae411a74b",
   "metadata": {},
   "outputs": [],
   "source": [
    "- X y (covid realmente 90 no tienen 10 si tienen)\n",
    "    - desbalanceo de 90% vs 10%"
   ]
  },
  {
   "cell_type": "markdown",
   "id": "6d7c825f-96a5-449b-8ac5-1f52c6912a55",
   "metadata": {},
   "source": [
    "1. Si esta desbalanceado → el modelo tendra mayor prediccion para la categoria mayoritaria\n",
    "    1. Entrenar y testear con data\n",
    "    2. Entrenar con train y validar con test\n",
    "2. Como lo solucionamos?\n",
    "    - "
   ]
  }
 ],
 "metadata": {
  "kernelspec": {
   "display_name": "Python 3 (ipykernel)",
   "language": "python",
   "name": "python3"
  },
  "language_info": {
   "codemirror_mode": {
    "name": "ipython",
    "version": 3
   },
   "file_extension": ".py",
   "mimetype": "text/x-python",
   "name": "python",
   "nbconvert_exporter": "python",
   "pygments_lexer": "ipython3",
   "version": "3.9.7"
  }
 },
 "nbformat": 4,
 "nbformat_minor": 5
}
