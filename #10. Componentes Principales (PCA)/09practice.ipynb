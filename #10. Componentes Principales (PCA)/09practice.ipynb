{
 "cells": [
  {
   "cell_type": "markdown",
   "metadata": {},
   "source": [
    "<font size=\"+5\">#09. Componentes Principales (PCA)</font>"
   ]
  },
  {
   "cell_type": "markdown",
   "metadata": {},
   "source": [
    "<ul>\n",
    "    <li>Resolver dudas → Pregunta en <img src=\"https://discord.com/assets/f9bb9c4af2b9c32a2c5ee0014661546d.png\" style=\"height: 1em; vertical-align: middle;\"> <a href=\"https://discord.gg/cmB3KGsqMy\">Discord</a></li>\n",
    "    <li>Tutoriales → <img src=\"https://openmoji.org/php/download_asset.php?type=emoji&emoji_hexcode=E044&emoji_variant=color\" style=\"height: 1em; vertical-align: middle;\"> <a href=\"https://www.youtube.com/channel/UCovCte2I3loteQE_kRsfQcw\">YouTube</a></li>\n",
    "    <li>Reservar Clases → <span style=\"color: orange\">@</span> <a href=\"https://sotastica.com/reservar\">sotastica</a></li>\n",
    "</ul>"
   ]
  },
  {
   "cell_type": "markdown",
   "metadata": {},
   "source": [
    "# Cargar Datos"
   ]
  },
  {
   "cell_type": "markdown",
   "metadata": {},
   "source": [
    "> - Simplemente, copiamos y pegamos las siguientes líneas de código para cargar los datos.\n",
    "> - La tabla contiene **estadísticas sobre Coches** (columnas).\n",
    "> - Para distintas **Marcas/Modelos de coche** (filas).\n",
    "\n",
    "```python\n",
    "import seaborn as sns\n",
    "\n",
    "df = sns.load_dataset(name='mpg', index_col='name')\n",
    "df.sample(10)\n",
    "```"
   ]
  },
  {
   "cell_type": "code",
   "execution_count": null,
   "metadata": {},
   "outputs": [],
   "source": []
  },
  {
   "cell_type": "markdown",
   "metadata": {},
   "source": [
    "# Seleccionar Todas las Variables para el Análisis de Clúster"
   ]
  },
  {
   "cell_type": "markdown",
   "metadata": {},
   "source": [
    "> Todas son explicativas, por lo que `model.fit(df)`"
   ]
  },
  {
   "cell_type": "code",
   "execution_count": null,
   "metadata": {},
   "outputs": [],
   "source": []
  },
  {
   "cell_type": "markdown",
   "metadata": {},
   "source": [
    "# Escalar los Datos"
   ]
  },
  {
   "cell_type": "markdown",
   "metadata": {},
   "source": [
    "> 1. Recuerda que no es lo mismo incrementar 1 kilogramo que un 1 metro de algura.\n",
    "> 2. La solución está en `StandardScaler()`."
   ]
  },
  {
   "cell_type": "code",
   "execution_count": null,
   "metadata": {},
   "outputs": [],
   "source": []
  },
  {
   "cell_type": "markdown",
   "metadata": {},
   "source": [
    "# Entrenar Modelo `KMeans()`"
   ]
  },
  {
   "cell_type": "markdown",
   "metadata": {},
   "source": [
    "## Seleccionar Número Óptimo k de Clústers"
   ]
  },
  {
   "cell_type": "markdown",
   "metadata": {},
   "source": [
    "> - Aplicar el método del codo.\n",
    "> - Recuerda que este método es muy `subjetivo`.\n",
    "> - Pueden haber más de 2-3 números posibles."
   ]
  },
  {
   "cell_type": "code",
   "execution_count": null,
   "metadata": {},
   "outputs": [],
   "source": []
  },
  {
   "cell_type": "markdown",
   "metadata": {},
   "source": [
    "## Entrenar Modelo con Número k de Clústers Óptimo"
   ]
  },
  {
   "cell_type": "markdown",
   "metadata": {},
   "source": [
    "> `model.fit()`"
   ]
  },
  {
   "cell_type": "code",
   "execution_count": null,
   "metadata": {},
   "outputs": [],
   "source": []
  },
  {
   "cell_type": "markdown",
   "metadata": {},
   "source": [
    "# Realizar Predicciones"
   ]
  },
  {
   "cell_type": "markdown",
   "metadata": {},
   "source": [
    "> - Son las mismas que `model.labels_`?"
   ]
  },
  {
   "cell_type": "code",
   "execution_count": null,
   "metadata": {},
   "outputs": [],
   "source": []
  },
  {
   "cell_type": "markdown",
   "metadata": {},
   "source": [
    "# Visualizar Modelo"
   ]
  },
  {
   "cell_type": "markdown",
   "metadata": {},
   "source": [
    "> - Haz un `scatterplot` con 2 variables.\n",
    "> - Colorea los puntos según el grupo.\n",
    "> Por qué están mezclados los grupos?\n",
    "> Cómo lo solucionamos?\n",
    "> - PCA. Siguiente apartado."
   ]
  },
  {
   "cell_type": "code",
   "execution_count": null,
   "metadata": {},
   "outputs": [],
   "source": []
  },
  {
   "cell_type": "markdown",
   "metadata": {},
   "source": [
    "## Agrupación de Variables en Componentes Principales con `PCA()`"
   ]
  },
  {
   "cell_type": "markdown",
   "metadata": {},
   "source": [
    "> Obviamente, no vamos a poder representar más que **2 variables en un Scatterplot**. Sin embargo, nuestro Análisis de Clúster ha tenido en cuenta más de 2 variables. Por este motivo debemos **Agrupar las Variables** que más se correlacionen en otras nuevas variables: las **Componentes Principales**.\n",
    ">\n",
    "> - La función `fit_transform()` nos devolverá una matriz con las nuevas variables.\n",
    "> - Tras obtener la matriz, vamos a representarla en un `DataFrame` con la función `pd.DataFrame(matriz)`.\n",
    "> - Posteriormente renombraremos las columnas. Por ejemplo, si el `DataFrame` tiene 4 columnas, deberemos renombrarlas aplicando el siguiente código: `matriz.columns = ['PC1', 'PC2', 'PC3', 'PC4']`."
   ]
  },
  {
   "cell_type": "code",
   "execution_count": null,
   "metadata": {},
   "outputs": [],
   "source": []
  },
  {
   "cell_type": "markdown",
   "metadata": {},
   "source": [
    "## Visualizar las 2 Primeras Componentes con el Cluster"
   ]
  },
  {
   "cell_type": "markdown",
   "metadata": {},
   "source": [
    "> - Eje X: `PC1`\n",
    "> - Eje Y: `PC2`\n",
    "> - `hue = model.labels_`\n",
    "> - (Opcional) Representar los centroides. Deberíamos transformar los centroides en términos de Componentes Principales con `modelopca.transform(datos)`."
   ]
  },
  {
   "cell_type": "code",
   "execution_count": null,
   "metadata": {},
   "outputs": [],
   "source": []
  },
  {
   "cell_type": "markdown",
   "metadata": {},
   "source": [
    "## Interpretar Visualización"
   ]
  },
  {
   "cell_type": "markdown",
   "metadata": {},
   "source": [
    "> - Qué tienen que ver `PC1` Y `PC2` con las variables originales?\n",
    "> - Por qué se distinguen los grupos? Uno se sitúa más a la derecha? Otro más a la izquierda? Uno más arriba o abajo? Por qué?"
   ]
  },
  {
   "cell_type": "code",
   "execution_count": null,
   "metadata": {},
   "outputs": [],
   "source": []
  },
  {
   "cell_type": "markdown",
   "metadata": {},
   "source": [
    "# Objetivos Alcanzados"
   ]
  },
  {
   "cell_type": "markdown",
   "metadata": {},
   "source": [
    "_Haz doble click sobre esta celda y pon una `X` dentro de las casillas [X] si crees que has superado los objetivos:_\n",
    "\n",
    "- [ ] En este capítulo empezaremos a ir conectando los puntos de estadística y serás capaz de ir simplificando la gran variedad que existe en ella.\n",
    "- [ ] Nos daremos cuenta de lo simple que es la estadística y que podría resumirse en la **Suma de Cuadrados**.\n",
    "- [ ] Distinguir cuándo usar un modelo u otro porque no vale todo con todo. Sino que hay que ir viendo las soluciones concretas a cada necesidad.\n",
    "- [ ] Entender la necesidad de **Normalizar** los datos.\n",
    "- [ ] Familiarizarnos, aún más, con el término de la optimización.\n",
    "- [ ] Ver de forma práctica cómo se usa el **Álgebra en Machine Learning**."
   ]
  }
 ],
 "metadata": {
  "authors": [
   {
    "name": "Jesús López @sotastica"
   }
  ],
  "kernelspec": {
   "display_name": "DeepLearning Python",
   "language": "python",
   "name": "dl"
  },
  "language_info": {
   "codemirror_mode": {
    "name": "ipython",
    "version": 3
   },
   "file_extension": ".py",
   "mimetype": "text/x-python",
   "name": "python",
   "nbconvert_exporter": "python",
   "pygments_lexer": "ipython3",
   "version": "3.9.7"
  }
 },
 "nbformat": 4,
 "nbformat_minor": 4
}
