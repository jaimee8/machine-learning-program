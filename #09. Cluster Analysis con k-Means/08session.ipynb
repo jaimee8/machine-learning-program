{
 "cells": [
  {
   "cell_type": "markdown",
   "metadata": {},
   "source": [
    "<font size=\"+5\">#08. Cluster Analysis con k-Means</font>"
   ]
  },
  {
   "cell_type": "markdown",
   "metadata": {},
   "source": [
    "# Cargar Datos"
   ]
  },
  {
   "cell_type": "markdown",
   "metadata": {},
   "source": [
    "> - Simplemente, copiamos y pegamos las siguientes líneas de código para cargar los datos.\n",
    "> - La tabla contiene **estadísticas sobre Accidentes de Coche** (columnas).\n",
    "> - En cada uno de los **Estados de USA** (filas).\n",
    "\n",
    "```python\n",
    "import seaborn as sns\n",
    "\n",
    "df = sns.load_dataset(name='car_crashes', index_col='abbrev')\n",
    "df.sample(10)\n",
    "```"
   ]
  },
  {
   "cell_type": "code",
   "execution_count": 1,
   "metadata": {},
   "outputs": [
    {
     "data": {
      "text/plain": "        total  speeding  alcohol  not_distracted  no_previous  ins_premium  \\\nabbrev                                                                       \nFL       17.9     3.759    5.191          16.468       16.826      1160.13   \nMN        9.6     2.208    2.784           8.448        8.448       777.18   \nOH       14.1     3.948    4.794          13.959       11.562       697.73   \nND       23.9     5.497   10.038          23.661       20.554       688.75   \nOK       19.9     6.368    5.771          18.308       18.706       881.51   \nMD       12.5     4.250    4.000           8.875       12.375      1048.78   \nMS       17.6     2.640    5.456           1.760       17.600       896.07   \nMI       14.1     3.384    3.948          13.395       10.857      1110.61   \nIN       14.5     3.625    4.205          13.775       13.775       710.46   \nNM       18.4     3.496    4.968          12.328       18.032       869.85   \n\n        ins_losses  \nabbrev              \nFL          144.18  \nMN          133.35  \nOH          133.52  \nND          109.72  \nOK          178.86  \nMD          192.70  \nMS          155.77  \nMI          152.26  \nIN          108.92  \nNM          120.75  ",
      "text/html": "<div>\n<style scoped>\n    .dataframe tbody tr th:only-of-type {\n        vertical-align: middle;\n    }\n\n    .dataframe tbody tr th {\n        vertical-align: top;\n    }\n\n    .dataframe thead th {\n        text-align: right;\n    }\n</style>\n<table border=\"1\" class=\"dataframe\">\n  <thead>\n    <tr style=\"text-align: right;\">\n      <th></th>\n      <th>total</th>\n      <th>speeding</th>\n      <th>alcohol</th>\n      <th>not_distracted</th>\n      <th>no_previous</th>\n      <th>ins_premium</th>\n      <th>ins_losses</th>\n    </tr>\n    <tr>\n      <th>abbrev</th>\n      <th></th>\n      <th></th>\n      <th></th>\n      <th></th>\n      <th></th>\n      <th></th>\n      <th></th>\n    </tr>\n  </thead>\n  <tbody>\n    <tr>\n      <th>FL</th>\n      <td>17.9</td>\n      <td>3.759</td>\n      <td>5.191</td>\n      <td>16.468</td>\n      <td>16.826</td>\n      <td>1160.13</td>\n      <td>144.18</td>\n    </tr>\n    <tr>\n      <th>MN</th>\n      <td>9.6</td>\n      <td>2.208</td>\n      <td>2.784</td>\n      <td>8.448</td>\n      <td>8.448</td>\n      <td>777.18</td>\n      <td>133.35</td>\n    </tr>\n    <tr>\n      <th>OH</th>\n      <td>14.1</td>\n      <td>3.948</td>\n      <td>4.794</td>\n      <td>13.959</td>\n      <td>11.562</td>\n      <td>697.73</td>\n      <td>133.52</td>\n    </tr>\n    <tr>\n      <th>ND</th>\n      <td>23.9</td>\n      <td>5.497</td>\n      <td>10.038</td>\n      <td>23.661</td>\n      <td>20.554</td>\n      <td>688.75</td>\n      <td>109.72</td>\n    </tr>\n    <tr>\n      <th>OK</th>\n      <td>19.9</td>\n      <td>6.368</td>\n      <td>5.771</td>\n      <td>18.308</td>\n      <td>18.706</td>\n      <td>881.51</td>\n      <td>178.86</td>\n    </tr>\n    <tr>\n      <th>MD</th>\n      <td>12.5</td>\n      <td>4.250</td>\n      <td>4.000</td>\n      <td>8.875</td>\n      <td>12.375</td>\n      <td>1048.78</td>\n      <td>192.70</td>\n    </tr>\n    <tr>\n      <th>MS</th>\n      <td>17.6</td>\n      <td>2.640</td>\n      <td>5.456</td>\n      <td>1.760</td>\n      <td>17.600</td>\n      <td>896.07</td>\n      <td>155.77</td>\n    </tr>\n    <tr>\n      <th>MI</th>\n      <td>14.1</td>\n      <td>3.384</td>\n      <td>3.948</td>\n      <td>13.395</td>\n      <td>10.857</td>\n      <td>1110.61</td>\n      <td>152.26</td>\n    </tr>\n    <tr>\n      <th>IN</th>\n      <td>14.5</td>\n      <td>3.625</td>\n      <td>4.205</td>\n      <td>13.775</td>\n      <td>13.775</td>\n      <td>710.46</td>\n      <td>108.92</td>\n    </tr>\n    <tr>\n      <th>NM</th>\n      <td>18.4</td>\n      <td>3.496</td>\n      <td>4.968</td>\n      <td>12.328</td>\n      <td>18.032</td>\n      <td>869.85</td>\n      <td>120.75</td>\n    </tr>\n  </tbody>\n</table>\n</div>"
     },
     "execution_count": 1,
     "metadata": {},
     "output_type": "execute_result"
    }
   ],
   "source": [
    "import seaborn as sns\n",
    "\n",
    "df = sns.load_dataset(name='car_crashes', index_col='abbrev')\n",
    "df.sample(10)"
   ]
  },
  {
   "cell_type": "markdown",
   "metadata": {},
   "source": [
    "# Seleccionar Variables para el Modelo"
   ]
  },
  {
   "cell_type": "markdown",
   "metadata": {},
   "source": [
    "> - Esta vez **SOLO seleccionamos variables explicativas**.\n",
    "> - En este tipo de modelos no conocemos de antemano la variable a predecir.\n",
    "> - Es decir, **NO tenemos variable objetivo** en los datos.\n",
    "> - El algoritmo la irá deduciendo."
   ]
  },
  {
   "cell_type": "code",
   "execution_count": 2,
   "metadata": {},
   "outputs": [
    {
     "data": {
      "text/plain": "Index(['total', 'speeding', 'alcohol', 'not_distracted', 'no_previous',\n       'ins_premium', 'ins_losses'],\n      dtype='object')"
     },
     "execution_count": 2,
     "metadata": {},
     "output_type": "execute_result"
    }
   ],
   "source": [
    "df.keys()"
   ]
  },
  {
   "cell_type": "code",
   "execution_count": 74,
   "metadata": {},
   "outputs": [],
   "source": [
    "explanatory = df[['ins_losses','alcohol']].copy()"
   ]
  },
  {
   "cell_type": "code",
   "execution_count": 75,
   "metadata": {},
   "outputs": [
    {
     "data": {
      "text/html": [
       "<div>\n",
       "<style scoped>\n",
       "    .dataframe tbody tr th:only-of-type {\n",
       "        vertical-align: middle;\n",
       "    }\n",
       "\n",
       "    .dataframe tbody tr th {\n",
       "        vertical-align: top;\n",
       "    }\n",
       "\n",
       "    .dataframe thead th {\n",
       "        text-align: right;\n",
       "    }\n",
       "</style>\n",
       "<table border=\"1\" class=\"dataframe\">\n",
       "  <thead>\n",
       "    <tr style=\"text-align: right;\">\n",
       "      <th></th>\n",
       "      <th>ins_losses</th>\n",
       "      <th>alcohol</th>\n",
       "    </tr>\n",
       "    <tr>\n",
       "      <th>abbrev</th>\n",
       "      <th></th>\n",
       "      <th></th>\n",
       "    </tr>\n",
       "  </thead>\n",
       "  <tbody>\n",
       "    <tr>\n",
       "      <th>KY</th>\n",
       "      <td>137.13</td>\n",
       "      <td>4.922</td>\n",
       "    </tr>\n",
       "    <tr>\n",
       "      <th>HI</th>\n",
       "      <td>120.92</td>\n",
       "      <td>7.175</td>\n",
       "    </tr>\n",
       "    <tr>\n",
       "      <th>OH</th>\n",
       "      <td>133.52</td>\n",
       "      <td>4.794</td>\n",
       "    </tr>\n",
       "    <tr>\n",
       "      <th>NE</th>\n",
       "      <td>114.82</td>\n",
       "      <td>5.215</td>\n",
       "    </tr>\n",
       "    <tr>\n",
       "      <th>MT</th>\n",
       "      <td>85.15</td>\n",
       "      <td>9.416</td>\n",
       "    </tr>\n",
       "  </tbody>\n",
       "</table>\n",
       "</div>"
      ],
      "text/plain": [
       "        ins_losses  alcohol\n",
       "abbrev                     \n",
       "KY          137.13    4.922\n",
       "HI          120.92    7.175\n",
       "OH          133.52    4.794\n",
       "NE          114.82    5.215\n",
       "MT           85.15    9.416"
      ]
     },
     "execution_count": 75,
     "metadata": {},
     "output_type": "execute_result"
    }
   ],
   "source": [
    "explanatory.sample(5)"
   ]
  },
  {
   "cell_type": "markdown",
   "metadata": {},
   "source": [
    "# Seleccionar Número de Clusters"
   ]
  },
  {
   "cell_type": "markdown",
   "metadata": {},
   "source": [
    "> - El objetivo del modelo es agrupar los estados.\n",
    "> - Si son similares según las características.\n",
    "> - Tenemos que especificar el Número de Grupos/Clústers al modelo.\n",
    "> - Al visualizar los datos, **¿cuántos grupos?** `n_clusters`"
   ]
  },
  {
   "cell_type": "code",
   "execution_count": 76,
   "metadata": {},
   "outputs": [
    {
     "data": {
      "image/png": "[encoded data removed]",
      "text/plain": [
       "<Figure size 432x288 with 1 Axes>"
      ]
     },
     "metadata": {
      "needs_background": "light"
     },
     "output_type": "display_data"
    }
   ],
   "source": [
    "sns.scatterplot(x = 'ins_losses', y= 'alcohol' , data =df);"
   ]
  },
  {
   "cell_type": "markdown",
   "metadata": {},
   "source": [
    "# Modelo de k-Means `KMeans()`"
   ]
  },
  {
   "cell_type": "markdown",
   "metadata": {},
   "source": [
    "> - El objetivo final es ver el grupo al que pertenece cada Estado, cada observación.\n",
    "> - Por tanto, la fórmula matemática calculará el grupo."
   ]
  },
  {
   "cell_type": "markdown",
   "metadata": {
    "tags": []
   },
   "source": [
    "## Entrenar Modelo"
   ]
  },
  {
   "cell_type": "markdown",
   "metadata": {},
   "source": [
    "> 1. **Necesidad:** Entrenar Modelo\n",
    "> 2. **Solución: Función** `fit()`"
   ]
  },
  {
   "cell_type": "code",
   "execution_count": 77,
   "metadata": {},
   "outputs": [],
   "source": [
    "from sklearn.cluster import KMeans"
   ]
  },
  {
   "cell_type": "code",
   "execution_count": 78,
   "metadata": {},
   "outputs": [],
   "source": [
    "model = KMeans(n_clusters = 3, verbose=1)"
   ]
  },
  {
   "cell_type": "code",
   "execution_count": 79,
   "metadata": {},
   "outputs": [
    {
     "data": {
      "text/plain": [
       "{'algorithm': 'auto',\n",
       " 'copy_x': True,\n",
       " 'init': 'k-means++',\n",
       " 'max_iter': 300,\n",
       " 'n_clusters': 3,\n",
       " 'n_init': 10,\n",
       " 'random_state': None,\n",
       " 'tol': 0.0001,\n",
       " 'verbose': 1}"
      ]
     },
     "execution_count": 79,
     "metadata": {},
     "output_type": "execute_result"
    }
   ],
   "source": [
    "model.get_params()"
   ]
  },
  {
   "cell_type": "code",
   "execution_count": 80,
   "metadata": {},
   "outputs": [
    {
     "name": "stdout",
     "output_type": "stream",
     "text": [
      "Initialization complete\n",
      "Iteration 0, inertia 6458.885525999996\n",
      "Iteration 1, inertia 5560.226770514285\n",
      "Converged at iteration 1: strict convergence.\n",
      "Initialization complete\n",
      "Iteration 0, inertia 10724.141513999995\n",
      "Iteration 1, inertia 8560.661088372983\n",
      "Converged at iteration 1: strict convergence.\n",
      "Initialization complete\n",
      "Iteration 0, inertia 8510.915006000003\n",
      "Iteration 1, inertia 6411.025596402353\n",
      "Iteration 2, inertia 6136.899226970833\n",
      "Converged at iteration 2: strict convergence.\n",
      "Initialization complete\n",
      "Iteration 0, inertia 7119.129081999998\n",
      "Iteration 1, inertia 5560.226770514285\n",
      "Converged at iteration 1: strict convergence.\n",
      "Initialization complete\n",
      "Iteration 0, inertia 6133.375745999998\n",
      "Iteration 1, inertia 5560.226770514285\n",
      "Converged at iteration 1: strict convergence.\n",
      "Initialization complete\n",
      "Iteration 0, inertia 6085.278425999999\n",
      "Iteration 1, inertia 5763.942393138155\n",
      "Iteration 2, inertia 5634.28474348668\n",
      "Iteration 3, inertia 5395.276336774823\n",
      "Iteration 4, inertia 5321.654563079344\n",
      "Iteration 5, inertia 5256.386019299025\n",
      "Converged at iteration 5: strict convergence.\n",
      "Initialization complete\n",
      "Iteration 0, inertia 8887.888466000004\n",
      "Iteration 1, inertia 6857.074224067804\n",
      "Iteration 2, inertia 5560.226770514285\n",
      "Converged at iteration 2: strict convergence.\n",
      "Initialization complete\n",
      "Iteration 0, inertia 5924.789876999999\n",
      "Iteration 1, inertia 5801.820611435321\n",
      "Iteration 2, inertia 5763.942393138155\n",
      "Iteration 3, inertia 5634.28474348668\n",
      "Iteration 4, inertia 5395.276336774823\n",
      "Iteration 5, inertia 5321.654563079344\n",
      "Iteration 6, inertia 5256.386019299025\n",
      "Converged at iteration 6: strict convergence.\n",
      "Initialization complete\n",
      "Iteration 0, inertia 6968.264765000002\n",
      "Iteration 1, inertia 5545.104871684211\n",
      "Converged at iteration 1: strict convergence.\n",
      "Initialization complete\n",
      "Iteration 0, inertia 5724.740529999998\n",
      "Iteration 1, inertia 5545.104871684211\n",
      "Converged at iteration 1: strict convergence.\n"
     ]
    },
    {
     "data": {
      "text/plain": [
       "KMeans(n_clusters=3, verbose=1)"
      ]
     },
     "execution_count": 80,
     "metadata": {},
     "output_type": "execute_result"
    }
   ],
   "source": [
    "model.fit(X = explanatory)"
   ]
  },
  {
   "cell_type": "markdown",
   "metadata": {},
   "source": [
    "## Predicciones con el Modelo"
   ]
  },
  {
   "cell_type": "markdown",
   "metadata": {},
   "source": [
    "> - `model.predict()`\n",
    "> - Si ejecutamos `model.labels_`, obtendríamos lo mismo que `model.predict()`.\n",
    "> - Es decir, el **grupo** al que pertenece cada observación."
   ]
  },
  {
   "cell_type": "code",
   "execution_count": 81,
   "metadata": {},
   "outputs": [],
   "source": [
    "dfsel = df[['ins_losses', 'alcohol']].copy()"
   ]
  },
  {
   "cell_type": "code",
   "execution_count": 82,
   "metadata": {},
   "outputs": [],
   "source": [
    "dfsel['Cluster'] = model.predict(X = explanatory)"
   ]
  },
  {
   "cell_type": "code",
   "execution_count": 83,
   "metadata": {},
   "outputs": [
    {
     "data": {
      "text/html": [
       "<div>\n",
       "<style scoped>\n",
       "    .dataframe tbody tr th:only-of-type {\n",
       "        vertical-align: middle;\n",
       "    }\n",
       "\n",
       "    .dataframe tbody tr th {\n",
       "        vertical-align: top;\n",
       "    }\n",
       "\n",
       "    .dataframe thead th {\n",
       "        text-align: right;\n",
       "    }\n",
       "</style>\n",
       "<table border=\"1\" class=\"dataframe\">\n",
       "  <thead>\n",
       "    <tr style=\"text-align: right;\">\n",
       "      <th></th>\n",
       "      <th>ins_losses</th>\n",
       "      <th>alcohol</th>\n",
       "      <th>Cluster</th>\n",
       "    </tr>\n",
       "    <tr>\n",
       "      <th>abbrev</th>\n",
       "      <th></th>\n",
       "      <th></th>\n",
       "      <th></th>\n",
       "    </tr>\n",
       "  </thead>\n",
       "  <tbody>\n",
       "    <tr>\n",
       "      <th>AL</th>\n",
       "      <td>145.08</td>\n",
       "      <td>5.640</td>\n",
       "      <td>2</td>\n",
       "    </tr>\n",
       "    <tr>\n",
       "      <th>AK</th>\n",
       "      <td>133.93</td>\n",
       "      <td>4.525</td>\n",
       "      <td>2</td>\n",
       "    </tr>\n",
       "    <tr>\n",
       "      <th>AZ</th>\n",
       "      <td>110.35</td>\n",
       "      <td>5.208</td>\n",
       "      <td>0</td>\n",
       "    </tr>\n",
       "    <tr>\n",
       "      <th>AR</th>\n",
       "      <td>142.39</td>\n",
       "      <td>5.824</td>\n",
       "      <td>2</td>\n",
       "    </tr>\n",
       "    <tr>\n",
       "      <th>CA</th>\n",
       "      <td>165.63</td>\n",
       "      <td>3.360</td>\n",
       "      <td>1</td>\n",
       "    </tr>\n",
       "    <tr>\n",
       "      <th>CO</th>\n",
       "      <td>139.91</td>\n",
       "      <td>3.808</td>\n",
       "      <td>2</td>\n",
       "    </tr>\n",
       "    <tr>\n",
       "      <th>CT</th>\n",
       "      <td>167.02</td>\n",
       "      <td>3.888</td>\n",
       "      <td>1</td>\n",
       "    </tr>\n",
       "    <tr>\n",
       "      <th>DE</th>\n",
       "      <td>151.48</td>\n",
       "      <td>4.860</td>\n",
       "      <td>2</td>\n",
       "    </tr>\n",
       "    <tr>\n",
       "      <th>DC</th>\n",
       "      <td>136.05</td>\n",
       "      <td>1.593</td>\n",
       "      <td>2</td>\n",
       "    </tr>\n",
       "    <tr>\n",
       "      <th>FL</th>\n",
       "      <td>144.18</td>\n",
       "      <td>5.191</td>\n",
       "      <td>2</td>\n",
       "    </tr>\n",
       "    <tr>\n",
       "      <th>GA</th>\n",
       "      <td>142.80</td>\n",
       "      <td>3.900</td>\n",
       "      <td>2</td>\n",
       "    </tr>\n",
       "    <tr>\n",
       "      <th>HI</th>\n",
       "      <td>120.92</td>\n",
       "      <td>7.175</td>\n",
       "      <td>0</td>\n",
       "    </tr>\n",
       "    <tr>\n",
       "      <th>ID</th>\n",
       "      <td>82.75</td>\n",
       "      <td>4.437</td>\n",
       "      <td>0</td>\n",
       "    </tr>\n",
       "    <tr>\n",
       "      <th>IL</th>\n",
       "      <td>139.15</td>\n",
       "      <td>4.352</td>\n",
       "      <td>2</td>\n",
       "    </tr>\n",
       "    <tr>\n",
       "      <th>IN</th>\n",
       "      <td>108.92</td>\n",
       "      <td>4.205</td>\n",
       "      <td>0</td>\n",
       "    </tr>\n",
       "    <tr>\n",
       "      <th>IA</th>\n",
       "      <td>114.47</td>\n",
       "      <td>3.925</td>\n",
       "      <td>0</td>\n",
       "    </tr>\n",
       "    <tr>\n",
       "      <th>KS</th>\n",
       "      <td>133.80</td>\n",
       "      <td>4.272</td>\n",
       "      <td>2</td>\n",
       "    </tr>\n",
       "    <tr>\n",
       "      <th>KY</th>\n",
       "      <td>137.13</td>\n",
       "      <td>4.922</td>\n",
       "      <td>2</td>\n",
       "    </tr>\n",
       "    <tr>\n",
       "      <th>LA</th>\n",
       "      <td>194.78</td>\n",
       "      <td>6.765</td>\n",
       "      <td>1</td>\n",
       "    </tr>\n",
       "    <tr>\n",
       "      <th>ME</th>\n",
       "      <td>96.57</td>\n",
       "      <td>4.530</td>\n",
       "      <td>0</td>\n",
       "    </tr>\n",
       "    <tr>\n",
       "      <th>MD</th>\n",
       "      <td>192.70</td>\n",
       "      <td>4.000</td>\n",
       "      <td>1</td>\n",
       "    </tr>\n",
       "    <tr>\n",
       "      <th>MA</th>\n",
       "      <td>135.63</td>\n",
       "      <td>2.870</td>\n",
       "      <td>2</td>\n",
       "    </tr>\n",
       "    <tr>\n",
       "      <th>MI</th>\n",
       "      <td>152.26</td>\n",
       "      <td>3.948</td>\n",
       "      <td>2</td>\n",
       "    </tr>\n",
       "    <tr>\n",
       "      <th>MN</th>\n",
       "      <td>133.35</td>\n",
       "      <td>2.784</td>\n",
       "      <td>2</td>\n",
       "    </tr>\n",
       "    <tr>\n",
       "      <th>MS</th>\n",
       "      <td>155.77</td>\n",
       "      <td>5.456</td>\n",
       "      <td>2</td>\n",
       "    </tr>\n",
       "    <tr>\n",
       "      <th>MO</th>\n",
       "      <td>144.45</td>\n",
       "      <td>5.474</td>\n",
       "      <td>2</td>\n",
       "    </tr>\n",
       "    <tr>\n",
       "      <th>MT</th>\n",
       "      <td>85.15</td>\n",
       "      <td>9.416</td>\n",
       "      <td>0</td>\n",
       "    </tr>\n",
       "    <tr>\n",
       "      <th>NE</th>\n",
       "      <td>114.82</td>\n",
       "      <td>5.215</td>\n",
       "      <td>0</td>\n",
       "    </tr>\n",
       "    <tr>\n",
       "      <th>NV</th>\n",
       "      <td>138.71</td>\n",
       "      <td>4.704</td>\n",
       "      <td>2</td>\n",
       "    </tr>\n",
       "    <tr>\n",
       "      <th>NH</th>\n",
       "      <td>120.21</td>\n",
       "      <td>3.480</td>\n",
       "      <td>0</td>\n",
       "    </tr>\n",
       "    <tr>\n",
       "      <th>NJ</th>\n",
       "      <td>159.85</td>\n",
       "      <td>3.136</td>\n",
       "      <td>2</td>\n",
       "    </tr>\n",
       "    <tr>\n",
       "      <th>NM</th>\n",
       "      <td>120.75</td>\n",
       "      <td>4.968</td>\n",
       "      <td>0</td>\n",
       "    </tr>\n",
       "    <tr>\n",
       "      <th>NY</th>\n",
       "      <td>150.01</td>\n",
       "      <td>3.567</td>\n",
       "      <td>2</td>\n",
       "    </tr>\n",
       "    <tr>\n",
       "      <th>NC</th>\n",
       "      <td>127.82</td>\n",
       "      <td>5.208</td>\n",
       "      <td>2</td>\n",
       "    </tr>\n",
       "    <tr>\n",
       "      <th>ND</th>\n",
       "      <td>109.72</td>\n",
       "      <td>10.038</td>\n",
       "      <td>0</td>\n",
       "    </tr>\n",
       "    <tr>\n",
       "      <th>OH</th>\n",
       "      <td>133.52</td>\n",
       "      <td>4.794</td>\n",
       "      <td>2</td>\n",
       "    </tr>\n",
       "    <tr>\n",
       "      <th>OK</th>\n",
       "      <td>178.86</td>\n",
       "      <td>5.771</td>\n",
       "      <td>1</td>\n",
       "    </tr>\n",
       "    <tr>\n",
       "      <th>OR</th>\n",
       "      <td>104.61</td>\n",
       "      <td>3.328</td>\n",
       "      <td>0</td>\n",
       "    </tr>\n",
       "    <tr>\n",
       "      <th>PA</th>\n",
       "      <td>153.86</td>\n",
       "      <td>5.642</td>\n",
       "      <td>2</td>\n",
       "    </tr>\n",
       "    <tr>\n",
       "      <th>RI</th>\n",
       "      <td>148.58</td>\n",
       "      <td>4.218</td>\n",
       "      <td>2</td>\n",
       "    </tr>\n",
       "    <tr>\n",
       "      <th>SC</th>\n",
       "      <td>116.29</td>\n",
       "      <td>9.799</td>\n",
       "      <td>0</td>\n",
       "    </tr>\n",
       "    <tr>\n",
       "      <th>SD</th>\n",
       "      <td>96.87</td>\n",
       "      <td>6.402</td>\n",
       "      <td>0</td>\n",
       "    </tr>\n",
       "    <tr>\n",
       "      <th>TN</th>\n",
       "      <td>155.57</td>\n",
       "      <td>5.655</td>\n",
       "      <td>2</td>\n",
       "    </tr>\n",
       "    <tr>\n",
       "      <th>TX</th>\n",
       "      <td>156.83</td>\n",
       "      <td>7.372</td>\n",
       "      <td>2</td>\n",
       "    </tr>\n",
       "    <tr>\n",
       "      <th>UT</th>\n",
       "      <td>109.48</td>\n",
       "      <td>1.808</td>\n",
       "      <td>0</td>\n",
       "    </tr>\n",
       "    <tr>\n",
       "      <th>VT</th>\n",
       "      <td>109.61</td>\n",
       "      <td>4.080</td>\n",
       "      <td>0</td>\n",
       "    </tr>\n",
       "    <tr>\n",
       "      <th>VA</th>\n",
       "      <td>153.72</td>\n",
       "      <td>3.429</td>\n",
       "      <td>2</td>\n",
       "    </tr>\n",
       "    <tr>\n",
       "      <th>WA</th>\n",
       "      <td>111.62</td>\n",
       "      <td>3.498</td>\n",
       "      <td>0</td>\n",
       "    </tr>\n",
       "    <tr>\n",
       "      <th>WV</th>\n",
       "      <td>152.56</td>\n",
       "      <td>6.664</td>\n",
       "      <td>2</td>\n",
       "    </tr>\n",
       "    <tr>\n",
       "      <th>WI</th>\n",
       "      <td>106.62</td>\n",
       "      <td>4.554</td>\n",
       "      <td>0</td>\n",
       "    </tr>\n",
       "    <tr>\n",
       "      <th>WY</th>\n",
       "      <td>122.04</td>\n",
       "      <td>5.568</td>\n",
       "      <td>0</td>\n",
       "    </tr>\n",
       "  </tbody>\n",
       "</table>\n",
       "</div>"
      ],
      "text/plain": [
       "        ins_losses  alcohol  Cluster\n",
       "abbrev                              \n",
       "AL          145.08    5.640        2\n",
       "AK          133.93    4.525        2\n",
       "AZ          110.35    5.208        0\n",
       "AR          142.39    5.824        2\n",
       "CA          165.63    3.360        1\n",
       "CO          139.91    3.808        2\n",
       "CT          167.02    3.888        1\n",
       "DE          151.48    4.860        2\n",
       "DC          136.05    1.593        2\n",
       "FL          144.18    5.191        2\n",
       "GA          142.80    3.900        2\n",
       "HI          120.92    7.175        0\n",
       "ID           82.75    4.437        0\n",
       "IL          139.15    4.352        2\n",
       "IN          108.92    4.205        0\n",
       "IA          114.47    3.925        0\n",
       "KS          133.80    4.272        2\n",
       "KY          137.13    4.922        2\n",
       "LA          194.78    6.765        1\n",
       "ME           96.57    4.530        0\n",
       "MD          192.70    4.000        1\n",
       "MA          135.63    2.870        2\n",
       "MI          152.26    3.948        2\n",
       "MN          133.35    2.784        2\n",
       "MS          155.77    5.456        2\n",
       "MO          144.45    5.474        2\n",
       "MT           85.15    9.416        0\n",
       "NE          114.82    5.215        0\n",
       "NV          138.71    4.704        2\n",
       "NH          120.21    3.480        0\n",
       "NJ          159.85    3.136        2\n",
       "NM          120.75    4.968        0\n",
       "NY          150.01    3.567        2\n",
       "NC          127.82    5.208        2\n",
       "ND          109.72   10.038        0\n",
       "OH          133.52    4.794        2\n",
       "OK          178.86    5.771        1\n",
       "OR          104.61    3.328        0\n",
       "PA          153.86    5.642        2\n",
       "RI          148.58    4.218        2\n",
       "SC          116.29    9.799        0\n",
       "SD           96.87    6.402        0\n",
       "TN          155.57    5.655        2\n",
       "TX          156.83    7.372        2\n",
       "UT          109.48    1.808        0\n",
       "VT          109.61    4.080        0\n",
       "VA          153.72    3.429        2\n",
       "WA          111.62    3.498        0\n",
       "WV          152.56    6.664        2\n",
       "WI          106.62    4.554        0\n",
       "WY          122.04    5.568        0"
      ]
     },
     "execution_count": 83,
     "metadata": {},
     "output_type": "execute_result"
    }
   ],
   "source": [
    "dfsel"
   ]
  },
  {
   "cell_type": "markdown",
   "metadata": {},
   "source": [
    "## Visualización del Modelo"
   ]
  },
  {
   "cell_type": "markdown",
   "metadata": {},
   "source": [
    "> - El modelo se representa **coloreando** las observaciones según el grupo.\n",
    "> - Y colocando los **centroides** `model.cluster_centers_`."
   ]
  },
  {
   "cell_type": "code",
   "execution_count": 84,
   "metadata": {},
   "outputs": [],
   "source": [
    "import matplotlib.pyplot as plt"
   ]
  },
  {
   "cell_type": "code",
   "execution_count": 85,
   "metadata": {},
   "outputs": [
    {
     "data": {
      "text/plain": [
       "(0.0, 200.0)"
      ]
     },
     "execution_count": 85,
     "metadata": {},
     "output_type": "execute_result"
    },
    {
     "data": {
      "image/png": "[encoded data removed]",
      "text/plain": [
       "<Figure size 432x288 with 1 Axes>"
      ]
     },
     "metadata": {
      "needs_background": "light"
     },
     "output_type": "display_data"
    }
   ],
   "source": [
    "sns.scatterplot(x='ins_losses', y='alcohol', hue= 'Cluster', data=dfsel, palette='Set1')\n",
    "plt.xlim(0, 200)\n",
    "plt.ylim(0, 200)"
   ]
  },
  {
   "cell_type": "markdown",
   "metadata": {},
   "source": [
    "## Interpretación del Modelo"
   ]
  },
  {
   "cell_type": "markdown",
   "metadata": {},
   "source": [
    "> ¿Crees que el modelo tiene sentido?\n",
    "> ¿Qué **variable es más importante** para determinar el grupo?"
   ]
  },
  {
   "cell_type": "markdown",
   "metadata": {},
   "source": [
    "# Explicación Algoritmo k-Means"
   ]
  },
  {
   "cell_type": "markdown",
   "metadata": {},
   "source": [
    "> - En el **siguiente vídeo** obtendrás una explicación del modelo.\n",
    "> - Tras verlo, deberás entender que se calculan distancias.\n",
    "> - Por tanto, el fallo del modelo está en que las variables **no son comparables**.\n",
    "> - https://www.youtube.com/watch?v=4b5d3muPQmA"
   ]
  },
  {
   "cell_type": "markdown",
   "metadata": {},
   "source": [
    "# Escalar Variables"
   ]
  },
  {
   "cell_type": "markdown",
   "metadata": {},
   "source": [
    "> Es lo mismo incrementar 1 kilogramo de peso, que 1 metro de altura?\n",
    "> - Rotundamente **NO**.\n",
    "> - Y ahí está el fallo.\n",
    "> Entonces, ¿cómo hacemos que peso y altura sean **comparables**?\n",
    "> - Escalando las variables."
   ]
  },
  {
   "cell_type": "code",
   "execution_count": 86,
   "metadata": {},
   "outputs": [],
   "source": [
    "from sklearn.preprocessing import MinMaxScaler"
   ]
  },
  {
   "cell_type": "code",
   "execution_count": 87,
   "metadata": {},
   "outputs": [],
   "source": [
    "scaler = MinMaxScaler()"
   ]
  },
  {
   "cell_type": "code",
   "execution_count": 88,
   "metadata": {},
   "outputs": [
    {
     "data": {
      "text/plain": [
       "MinMaxScaler()"
      ]
     },
     "execution_count": 88,
     "metadata": {},
     "output_type": "execute_result"
    }
   ],
   "source": [
    "scaler.fit(X=explanatory)"
   ]
  },
  {
   "cell_type": "code",
   "execution_count": 89,
   "metadata": {},
   "outputs": [
    {
     "data": {
      "text/plain": [
       "array([[0.55636883, 0.47921847],\n",
       "       [0.45684192, 0.34718769],\n",
       "       [0.24636258, 0.42806394],\n",
       "       [0.5323574 , 0.50100651],\n",
       "       [0.73980184, 0.20923623],\n",
       "       [0.51022048, 0.26228538],\n",
       "       [0.75220923, 0.27175844],\n",
       "       [0.61349638, 0.38685613],\n",
       "       [0.47576542, 0.        ],\n",
       "       [0.54833527, 0.42605092],\n",
       "       [0.53601714, 0.2731794 ],\n",
       "       [0.34071231, 0.66098283],\n",
       "       [0.        , 0.33676732],\n",
       "       [0.50343658, 0.32670219],\n",
       "       [0.23359814, 0.30929544],\n",
       "       [0.28313845, 0.27613973],\n",
       "       [0.45568151, 0.31722913],\n",
       "       [0.48540569, 0.39419775],\n",
       "       [1.        , 0.61243339],\n",
       "       [0.12335981, 0.34777975],\n",
       "       [0.98143354, 0.28502072],\n",
       "       [0.47201642, 0.15121374],\n",
       "       [0.62045881, 0.27886323],\n",
       "       [0.45166473, 0.1410302 ],\n",
       "       [0.6517897 , 0.45743043],\n",
       "       [0.55074534, 0.45956187],\n",
       "       [0.02142283, 0.92634695],\n",
       "       [0.28626261, 0.42889284],\n",
       "       [0.49950906, 0.36838366],\n",
       "       [0.33437472, 0.22344583],\n",
       "       [0.68820852, 0.18271166],\n",
       "       [0.33919486, 0.39964476],\n",
       "       [0.6003749 , 0.23374778],\n",
       "       [0.40230295, 0.42806394],\n",
       "       [0.24073909, 1.        ],\n",
       "       [0.45318218, 0.37904085],\n",
       "       [0.85789521, 0.49473061],\n",
       "       [0.19512631, 0.20544701],\n",
       "       [0.63474069, 0.4794553 ],\n",
       "       [0.58761046, 0.31083481],\n",
       "       [0.29938409, 0.97169923],\n",
       "       [0.12603767, 0.56944938],\n",
       "       [0.65000446, 0.48099467],\n",
       "       [0.66125145, 0.68431024],\n",
       "       [0.2385968 , 0.02545885],\n",
       "       [0.23975721, 0.29449378],\n",
       "       [0.63349103, 0.21740675],\n",
       "       [0.25769883, 0.22557726],\n",
       "       [0.62313666, 0.60047365],\n",
       "       [0.21306793, 0.35062167],\n",
       "       [0.35070963, 0.47069272]])"
      ]
     },
     "execution_count": 89,
     "metadata": {},
     "output_type": "execute_result"
    }
   ],
   "source": [
    "scaler.transform(X=explanatory)"
   ]
  },
  {
   "cell_type": "code",
   "execution_count": 90,
   "metadata": {},
   "outputs": [],
   "source": [
    "import pandas as pd"
   ]
  },
  {
   "cell_type": "code",
   "execution_count": 91,
   "metadata": {},
   "outputs": [
    {
     "data": {
      "text/html": [
       "<div>\n",
       "<style scoped>\n",
       "    .dataframe tbody tr th:only-of-type {\n",
       "        vertical-align: middle;\n",
       "    }\n",
       "\n",
       "    .dataframe tbody tr th {\n",
       "        vertical-align: top;\n",
       "    }\n",
       "\n",
       "    .dataframe thead th {\n",
       "        text-align: right;\n",
       "    }\n",
       "</style>\n",
       "<table border=\"1\" class=\"dataframe\">\n",
       "  <thead>\n",
       "    <tr style=\"text-align: right;\">\n",
       "      <th></th>\n",
       "      <th>ins_losses</th>\n",
       "      <th>alcohol</th>\n",
       "    </tr>\n",
       "  </thead>\n",
       "  <tbody>\n",
       "    <tr>\n",
       "      <th>0</th>\n",
       "      <td>0.556369</td>\n",
       "      <td>0.479218</td>\n",
       "    </tr>\n",
       "    <tr>\n",
       "      <th>1</th>\n",
       "      <td>0.456842</td>\n",
       "      <td>0.347188</td>\n",
       "    </tr>\n",
       "    <tr>\n",
       "      <th>2</th>\n",
       "      <td>0.246363</td>\n",
       "      <td>0.428064</td>\n",
       "    </tr>\n",
       "    <tr>\n",
       "      <th>3</th>\n",
       "      <td>0.532357</td>\n",
       "      <td>0.501007</td>\n",
       "    </tr>\n",
       "    <tr>\n",
       "      <th>4</th>\n",
       "      <td>0.739802</td>\n",
       "      <td>0.209236</td>\n",
       "    </tr>\n",
       "  </tbody>\n",
       "</table>\n",
       "</div>"
      ],
      "text/plain": [
       "   ins_losses   alcohol\n",
       "0    0.556369  0.479218\n",
       "1    0.456842  0.347188\n",
       "2    0.246363  0.428064\n",
       "3    0.532357  0.501007\n",
       "4    0.739802  0.209236"
      ]
     },
     "execution_count": 91,
     "metadata": {},
     "output_type": "execute_result"
    }
   ],
   "source": [
    "dfnorm = pd.DataFrame(scaler.fit_transform(X=explanatory), columns=explanatory.columns)\n",
    "dfnorm.head()"
   ]
  },
  {
   "cell_type": "markdown",
   "metadata": {},
   "source": [
    "# Modelo de k-Means en Python con Datos Estandarizados"
   ]
  },
  {
   "cell_type": "markdown",
   "metadata": {},
   "source": [
    "> - Ejecutamos los mismos comandos que antes\n",
    "> - con la salvedad de **usar los datos escalados**."
   ]
  },
  {
   "cell_type": "markdown",
   "metadata": {
    "tags": []
   },
   "source": [
    "## Entrenar Modelo"
   ]
  },
  {
   "cell_type": "markdown",
   "metadata": {},
   "source": [
    "> 1. **Necesidad:** Entrenar Modelo\n",
    "> 2. **Solución: Función** `fit()`"
   ]
  },
  {
   "cell_type": "code",
   "execution_count": 92,
   "metadata": {},
   "outputs": [],
   "source": [
    "modelnorm = KMeans(n_clusters = 3, verbose=1)"
   ]
  },
  {
   "cell_type": "code",
   "execution_count": 93,
   "metadata": {},
   "outputs": [
    {
     "data": {
      "text/plain": [
       "{'algorithm': 'auto',\n",
       " 'copy_x': True,\n",
       " 'init': 'k-means++',\n",
       " 'max_iter': 300,\n",
       " 'n_clusters': 3,\n",
       " 'n_init': 10,\n",
       " 'random_state': None,\n",
       " 'tol': 0.0001,\n",
       " 'verbose': 1}"
      ]
     },
     "execution_count": 93,
     "metadata": {},
     "output_type": "execute_result"
    }
   ],
   "source": [
    "modelnorm.get_params()"
   ]
  },
  {
   "cell_type": "code",
   "execution_count": 94,
   "metadata": {},
   "outputs": [
    {
     "name": "stdout",
     "output_type": "stream",
     "text": [
      "Initialization complete\n",
      "Iteration 0, inertia 3.1008578961046167\n",
      "Iteration 1, inertia 2.4368798575993083\n",
      "Iteration 2, inertia 2.2787846634363396\n",
      "Iteration 3, inertia 2.05885633119029\n",
      "Iteration 4, inertia 1.8504086689960622\n",
      "Iteration 5, inertia 1.8061086319566064\n",
      "Iteration 6, inertia 1.801633123953608\n",
      "Iteration 7, inertia 1.7958924715409483\n",
      "Iteration 8, inertia 1.7837749512550192\n",
      "Iteration 9, inertia 1.7805864653388477\n",
      "Converged at iteration 9: strict convergence.\n",
      "Initialization complete\n",
      "Iteration 0, inertia 2.4330875863486154\n",
      "Iteration 1, inertia 2.2777905671740024\n",
      "Iteration 2, inertia 2.261707229167291\n",
      "Converged at iteration 2: strict convergence.\n",
      "Initialization complete\n",
      "Iteration 0, inertia 2.7270062562149757\n",
      "Iteration 1, inertia 2.3982883629561615\n",
      "Iteration 2, inertia 2.3498042715621987\n",
      "Iteration 3, inertia 2.3023573143565637\n",
      "Iteration 4, inertia 2.263682324896986\n",
      "Converged at iteration 4: strict convergence.\n",
      "Initialization complete\n",
      "Iteration 0, inertia 2.406167376447823\n",
      "Iteration 1, inertia 1.9450614506206247\n",
      "Iteration 2, inertia 1.8462467471089772\n",
      "Converged at iteration 2: strict convergence.\n",
      "Initialization complete\n",
      "Iteration 0, inertia 2.5547212561123906\n",
      "Iteration 1, inertia 2.119081222766785\n",
      "Iteration 2, inertia 1.8632347720044218\n",
      "Iteration 3, inertia 1.8061086319566064\n",
      "Iteration 4, inertia 1.801633123953608\n",
      "Iteration 5, inertia 1.7958924715409483\n",
      "Iteration 6, inertia 1.7837749512550192\n",
      "Iteration 7, inertia 1.7805864653388477\n",
      "Converged at iteration 7: strict convergence.\n",
      "Initialization complete\n",
      "Iteration 0, inertia 2.628918292826812\n",
      "Iteration 1, inertia 2.3972182270410674\n",
      "Iteration 2, inertia 2.3032381113515377\n",
      "Iteration 3, inertia 2.1908308496972926\n",
      "Iteration 4, inertia 2.1337102660423257\n",
      "Iteration 5, inertia 2.091134474475743\n",
      "Iteration 6, inertia 1.9323343476895498\n",
      "Iteration 7, inertia 1.8105299830570258\n",
      "Iteration 8, inertia 1.8061086319566064\n",
      "Iteration 9, inertia 1.801633123953608\n",
      "Iteration 10, inertia 1.7958924715409483\n",
      "Iteration 11, inertia 1.7837749512550192\n",
      "Iteration 12, inertia 1.7805864653388477\n",
      "Converged at iteration 12: strict convergence.\n",
      "Initialization complete\n",
      "Iteration 0, inertia 2.843419893917854\n",
      "Iteration 1, inertia 2.3365372763830616\n",
      "Iteration 2, inertia 2.3102463707157206\n",
      "Iteration 3, inertia 2.2744198770901556\n",
      "Iteration 4, inertia 2.2709342208567564\n",
      "Converged at iteration 4: strict convergence.\n",
      "Initialization complete\n",
      "Iteration 0, inertia 2.3125274554889863\n",
      "Iteration 1, inertia 1.9691338048589118\n",
      "Iteration 2, inertia 1.877372732078972\n",
      "Iteration 3, inertia 1.8387522996437493\n",
      "Converged at iteration 3: strict convergence.\n",
      "Initialization complete\n",
      "Iteration 0, inertia 3.3111913935577264\n",
      "Iteration 1, inertia 2.642739002657259\n",
      "Iteration 2, inertia 2.2750206091174894\n",
      "Iteration 3, inertia 2.1586563696414918\n",
      "Iteration 4, inertia 2.1232470497476212\n",
      "Iteration 5, inertia 2.099724078108465\n",
      "Iteration 6, inertia 1.9934825311956028\n",
      "Iteration 7, inertia 1.8236726843359814\n",
      "Iteration 8, inertia 1.7898854046377024\n",
      "Iteration 9, inertia 1.7871226449777324\n",
      "Converged at iteration 9: strict convergence.\n",
      "Initialization complete\n",
      "Iteration 0, inertia 3.600415378905414\n",
      "Iteration 1, inertia 2.4799803289711297\n",
      "Iteration 2, inertia 2.15617075097268\n",
      "Iteration 3, inertia 2.1232470497476212\n",
      "Iteration 4, inertia 2.099724078108465\n",
      "Iteration 5, inertia 1.9934825311956028\n",
      "Iteration 6, inertia 1.8236726843359814\n",
      "Iteration 7, inertia 1.7898854046377024\n",
      "Iteration 8, inertia 1.7871226449777324\n",
      "Converged at iteration 8: strict convergence.\n"
     ]
    },
    {
     "data": {
      "text/plain": [
       "KMeans(n_clusters=3, verbose=1)"
      ]
     },
     "execution_count": 94,
     "metadata": {},
     "output_type": "execute_result"
    }
   ],
   "source": [
    "modelnorm.fit(X = dfnorm)"
   ]
  },
  {
   "cell_type": "markdown",
   "metadata": {},
   "source": [
    "## Predicciones con el Modelo"
   ]
  },
  {
   "cell_type": "markdown",
   "metadata": {},
   "source": [
    "> - `model.predict()`\n",
    "> - Si ejecutamos `model.labels_`, obtendríamos lo mismo que `model.predict()`.\n",
    "> - Es decir, el **grupo** al que pertenece cada observación."
   ]
  },
  {
   "cell_type": "code",
   "execution_count": 95,
   "metadata": {},
   "outputs": [],
   "source": [
    "dfselnorm = dfnorm[['ins_losses', 'alcohol']].copy()"
   ]
  },
  {
   "cell_type": "code",
   "execution_count": 103,
   "metadata": {},
   "outputs": [],
   "source": [
    "dfselnorm['Cluster'] = modelnorm.predict(X = dfnorm)"
   ]
  },
  {
   "cell_type": "markdown",
   "metadata": {},
   "source": [
    "## Visualización del Modelo"
   ]
  },
  {
   "cell_type": "markdown",
   "metadata": {},
   "source": [
    "> - El modelo se representa **coloreando** las observaciones según el grupo.\n",
    "> - Y colocando los **centroides** `model.cluster_centers_`."
   ]
  },
  {
   "cell_type": "code",
   "execution_count": 104,
   "metadata": {},
   "outputs": [],
   "source": [
    "import matplotlib.pyplot as plt"
   ]
  },
  {
   "cell_type": "code",
   "execution_count": 105,
   "metadata": {},
   "outputs": [
    {
     "data": {
      "text/plain": [
       "(0.0, 200.0)"
      ]
     },
     "execution_count": 105,
     "metadata": {},
     "output_type": "execute_result"
    },
    {
     "data": {
      "image/png": "[encoded data removed]",
      "text/plain": [
       "<Figure size 432x288 with 1 Axes>"
      ]
     },
     "metadata": {
      "needs_background": "light"
     },
     "output_type": "display_data"
    }
   ],
   "source": [
    "sns.scatterplot(x='ins_losses', y='alcohol', hue= 'Cluster', data=dfsel, palette='Set1')\n",
    "plt.xlim(0, 200)\n",
    "plt.ylim(0, 200)"
   ]
  },
  {
   "cell_type": "code",
   "execution_count": 107,
   "metadata": {},
   "outputs": [
    {
     "data": {
      "text/plain": [
       "<AxesSubplot:xlabel='ins_losses', ylabel='alcohol'>"
      ]
     },
     "execution_count": 107,
     "metadata": {},
     "output_type": "execute_result"
    },
    {
     "data": {
      "image/png": "[encoded data removed]",
      "text/plain": [
       "<Figure size 432x288 with 1 Axes>"
      ]
     },
     "metadata": {
      "needs_background": "light"
     },
     "output_type": "display_data"
    }
   ],
   "source": [
    "sns.scatterplot(x='ins_losses', y='alcohol', hue= 'Cluster', data=dfselnorm, palette='Set1')\n",
    "# plt.xlim(0, 200)\n",
    "# plt.ylim(0, 200)"
   ]
  },
  {
   "cell_type": "markdown",
   "metadata": {},
   "source": [
    "## Interpretación del Modelo"
   ]
  },
  {
   "cell_type": "markdown",
   "metadata": {},
   "source": [
    "> ¿Crees que el modelo tiene sentido?\n",
    "> ¿Qué **variable es más importante** para determinar el grupo?"
   ]
  },
  {
   "cell_type": "markdown",
   "metadata": {},
   "source": [
    "# Otros Modelos de Análisis de Cluster"
   ]
  },
  {
   "cell_type": "markdown",
   "metadata": {},
   "source": [
    "> - En la siguiente página web veremos los varios modelos:\n",
    "> - https://scikit-learn.org/stable/modules/clustering.html"
   ]
  },
  {
   "cell_type": "code",
   "execution_count": 108,
   "metadata": {},
   "outputs": [],
   "source": [
    "from sklearn.cluster import DBSCAN"
   ]
  },
  {
   "cell_type": "code",
   "execution_count": 118,
   "metadata": {},
   "outputs": [],
   "source": [
    "db = DBSCAN(eps=0.1)"
   ]
  },
  {
   "cell_type": "code",
   "execution_count": 119,
   "metadata": {},
   "outputs": [
    {
     "data": {
      "text/plain": [
       "DBSCAN(eps=0.1)"
      ]
     },
     "execution_count": 119,
     "metadata": {},
     "output_type": "execute_result"
    }
   ],
   "source": [
    "db.fit(X=dfnorm)"
   ]
  },
  {
   "cell_type": "code",
   "execution_count": 120,
   "metadata": {},
   "outputs": [
    {
     "data": {
      "text/plain": [
       "<AxesSubplot:xlabel='ins_losses', ylabel='alcohol'>"
      ]
     },
     "execution_count": 120,
     "metadata": {},
     "output_type": "execute_result"
    },
    {
     "data": {
      "image/png": "[encoded data removed]",
      "text/plain": [
       "<Figure size 432x288 with 1 Axes>"
      ]
     },
     "metadata": {
      "needs_background": "light"
     },
     "output_type": "display_data"
    }
   ],
   "source": [
    "sns.scatterplot(x='ins_losses', y='alcohol', hue= db.labels_, data=dfselnorm, palette='Set1')\n",
    "# plt.xlim(0, 200)\n",
    "# plt.ylim(0, 200)"
   ]
  },
  {
   "cell_type": "code",
   "execution_count": 123,
   "metadata": {},
   "outputs": [],
   "source": [
    "dfnorm['cluster'] = modelnorm.labels_"
   ]
  },
  {
   "cell_type": "code",
   "execution_count": 127,
   "metadata": {},
   "outputs": [],
   "source": [
    "dfcentroides = dfnorm.groupby(by='cluster').mean()"
   ]
  },
  {
   "cell_type": "code",
   "execution_count": 128,
   "metadata": {},
   "outputs": [
    {
     "data": {
      "text/html": [
       "<div>\n",
       "<style scoped>\n",
       "    .dataframe tbody tr th:only-of-type {\n",
       "        vertical-align: middle;\n",
       "    }\n",
       "\n",
       "    .dataframe tbody tr th {\n",
       "        vertical-align: top;\n",
       "    }\n",
       "\n",
       "    .dataframe thead th {\n",
       "        text-align: right;\n",
       "    }\n",
       "</style>\n",
       "<table border=\"1\" class=\"dataframe\">\n",
       "  <thead>\n",
       "    <tr style=\"text-align: right;\">\n",
       "      <th></th>\n",
       "      <th>ins_losses</th>\n",
       "      <th>alcohol</th>\n",
       "    </tr>\n",
       "    <tr>\n",
       "      <th>cluster</th>\n",
       "      <th></th>\n",
       "      <th></th>\n",
       "    </tr>\n",
       "  </thead>\n",
       "  <tbody>\n",
       "    <tr>\n",
       "      <th>0</th>\n",
       "      <td>0.640732</td>\n",
       "      <td>0.387074</td>\n",
       "    </tr>\n",
       "    <tr>\n",
       "      <th>1</th>\n",
       "      <td>0.205659</td>\n",
       "      <td>0.825696</td>\n",
       "    </tr>\n",
       "    <tr>\n",
       "      <th>2</th>\n",
       "      <td>0.309938</td>\n",
       "      <td>0.289814</td>\n",
       "    </tr>\n",
       "  </tbody>\n",
       "</table>\n",
       "</div>"
      ],
      "text/plain": [
       "         ins_losses   alcohol\n",
       "cluster                      \n",
       "0          0.640732  0.387074\n",
       "1          0.205659  0.825696\n",
       "2          0.309938  0.289814"
      ]
     },
     "execution_count": 128,
     "metadata": {},
     "output_type": "execute_result"
    }
   ],
   "source": [
    "dfcentroides"
   ]
  },
  {
   "cell_type": "code",
   "execution_count": 129,
   "metadata": {},
   "outputs": [
    {
     "data": {
      "text/plain": [
       "Int64Index([0, 1, 2], dtype='int64', name='cluster')"
      ]
     },
     "execution_count": 129,
     "metadata": {},
     "output_type": "execute_result"
    }
   ],
   "source": [
    "dfcentroides.index"
   ]
  },
  {
   "cell_type": "code",
   "execution_count": 131,
   "metadata": {},
   "outputs": [
    {
     "data": {
      "text/plain": [
       "<AxesSubplot:xlabel='ins_losses', ylabel='alcohol'>"
      ]
     },
     "execution_count": 131,
     "metadata": {},
     "output_type": "execute_result"
    },
    {
     "data": {
      "image/png": "[encoded data removed]",
      "text/plain": [
       "<Figure size 432x288 with 1 Axes>"
      ]
     },
     "metadata": {
      "needs_background": "light"
     },
     "output_type": "display_data"
    }
   ],
   "source": [
    "sns.scatterplot(x='ins_losses', y='alcohol', hue= 'cluster', data=dfnorm, palette='Set1')\n",
    "sns.scatterplot(x='ins_losses', y='alcohol', hue= dfcentroides.index, data=dfcentroides, palette='Set1', s=500)\n",
    "# plt.xlim(0, 200)\n",
    "# plt.ylim(0, 200)"
   ]
  },
  {
   "cell_type": "code",
   "execution_count": 132,
   "metadata": {},
   "outputs": [
    {
     "data": {
      "text/plain": [
       "<AxesSubplot:xlabel='ins_losses', ylabel='alcohol'>"
      ]
     },
     "execution_count": 132,
     "metadata": {},
     "output_type": "execute_result"
    },
    {
     "data": {
      "image/png": "[encoded data removed]",
      "text/plain": [
       "<Figure size 432x288 with 1 Axes>"
      ]
     },
     "metadata": {
      "needs_background": "light"
     },
     "output_type": "display_data"
    }
   ],
   "source": [
    "sns.scatterplot(x='ins_losses', y='alcohol', hue= 'cluster', data=dfnorm, palette='Set1')\n",
    "sns.scatterplot(x='ins_losses', y='alcohol', hue= dfcentroides.index, data=dfcentroides, palette='Set1', s=500, marker='X')\n",
    "# plt.xlim(0, 200)\n",
    "# plt.ylim(0, 200)"
   ]
  }
 ],
 "metadata": {
  "authors": [
   {
    "name": "Jesús López @sotastica"
   }
  ],
  "kernelspec": {
   "display_name": "Python 3 (ipykernel)",
   "language": "python",
   "name": "python3"
  },
  "language_info": {
   "codemirror_mode": {
    "name": "ipython",
    "version": 3
   },
   "file_extension": ".py",
   "mimetype": "text/x-python",
   "name": "python",
   "nbconvert_exporter": "python",
   "pygments_lexer": "ipython3",
   "version": "3.9.7"
  }
 },
 "nbformat": 4,
 "nbformat_minor": 4
}