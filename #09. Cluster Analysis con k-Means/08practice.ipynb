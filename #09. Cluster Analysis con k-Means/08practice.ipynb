{
 "cells": [
  {
   "cell_type": "markdown",
   "metadata": {},
   "source": [
    "<font size=\"+5\">#08. Cluster Analysis con k-Means</font>"
   ]
  },
  {
   "cell_type": "markdown",
   "metadata": {},
   "source": [
    "# Cargar Datos"
   ]
  },
  {
   "cell_type": "markdown",
   "metadata": {},
   "source": [
    "> - Simplemente, copiamos y pegamos las siguientes líneas de código para cargar los datos.\n",
    "> - La tabla contiene **estadísticas sobre Coches** (columnas).\n",
    "> - Para distintas **Marcas/Modelos de coche** (filas).\n",
    "\n",
    "```python\n",
    "import seaborn as sns\n",
    "\n",
    "df = sns.load_dataset(name='mpg', index_col='name')\n",
    "df.sample(10)\n",
    "```"
   ]
  },
  {
   "cell_type": "code",
   "execution_count": 2,
   "metadata": {},
   "outputs": [
    {
     "data": {
      "text/html": [
       "<div>\n",
       "<style scoped>\n",
       "    .dataframe tbody tr th:only-of-type {\n",
       "        vertical-align: middle;\n",
       "    }\n",
       "\n",
       "    .dataframe tbody tr th {\n",
       "        vertical-align: top;\n",
       "    }\n",
       "\n",
       "    .dataframe thead th {\n",
       "        text-align: right;\n",
       "    }\n",
       "</style>\n",
       "<table border=\"1\" class=\"dataframe\">\n",
       "  <thead>\n",
       "    <tr style=\"text-align: right;\">\n",
       "      <th></th>\n",
       "      <th>mpg</th>\n",
       "      <th>cylinders</th>\n",
       "      <th>displacement</th>\n",
       "      <th>horsepower</th>\n",
       "      <th>weight</th>\n",
       "      <th>acceleration</th>\n",
       "      <th>model_year</th>\n",
       "      <th>origin</th>\n",
       "    </tr>\n",
       "    <tr>\n",
       "      <th>name</th>\n",
       "      <th></th>\n",
       "      <th></th>\n",
       "      <th></th>\n",
       "      <th></th>\n",
       "      <th></th>\n",
       "      <th></th>\n",
       "      <th></th>\n",
       "      <th></th>\n",
       "    </tr>\n",
       "  </thead>\n",
       "  <tbody>\n",
       "    <tr>\n",
       "      <th>pontiac ventura sj</th>\n",
       "      <td>18.5</td>\n",
       "      <td>6</td>\n",
       "      <td>250.0</td>\n",
       "      <td>110.0</td>\n",
       "      <td>3645</td>\n",
       "      <td>16.2</td>\n",
       "      <td>76</td>\n",
       "      <td>usa</td>\n",
       "    </tr>\n",
       "    <tr>\n",
       "      <th>amc matador (sw)</th>\n",
       "      <td>14.0</td>\n",
       "      <td>8</td>\n",
       "      <td>304.0</td>\n",
       "      <td>150.0</td>\n",
       "      <td>4257</td>\n",
       "      <td>15.5</td>\n",
       "      <td>74</td>\n",
       "      <td>usa</td>\n",
       "    </tr>\n",
       "    <tr>\n",
       "      <th>peugeot 504</th>\n",
       "      <td>27.2</td>\n",
       "      <td>4</td>\n",
       "      <td>141.0</td>\n",
       "      <td>71.0</td>\n",
       "      <td>3190</td>\n",
       "      <td>24.8</td>\n",
       "      <td>79</td>\n",
       "      <td>europe</td>\n",
       "    </tr>\n",
       "    <tr>\n",
       "      <th>pontiac grand prix lj</th>\n",
       "      <td>16.0</td>\n",
       "      <td>8</td>\n",
       "      <td>400.0</td>\n",
       "      <td>180.0</td>\n",
       "      <td>4220</td>\n",
       "      <td>11.1</td>\n",
       "      <td>77</td>\n",
       "      <td>usa</td>\n",
       "    </tr>\n",
       "    <tr>\n",
       "      <th>ford country squire (sw)</th>\n",
       "      <td>15.5</td>\n",
       "      <td>8</td>\n",
       "      <td>351.0</td>\n",
       "      <td>142.0</td>\n",
       "      <td>4054</td>\n",
       "      <td>14.3</td>\n",
       "      <td>79</td>\n",
       "      <td>usa</td>\n",
       "    </tr>\n",
       "    <tr>\n",
       "      <th>oldsmobile cutlass ciera (diesel)</th>\n",
       "      <td>38.0</td>\n",
       "      <td>6</td>\n",
       "      <td>262.0</td>\n",
       "      <td>85.0</td>\n",
       "      <td>3015</td>\n",
       "      <td>17.0</td>\n",
       "      <td>82</td>\n",
       "      <td>usa</td>\n",
       "    </tr>\n",
       "    <tr>\n",
       "      <th>pontiac phoenix lj</th>\n",
       "      <td>19.2</td>\n",
       "      <td>6</td>\n",
       "      <td>231.0</td>\n",
       "      <td>105.0</td>\n",
       "      <td>3535</td>\n",
       "      <td>19.2</td>\n",
       "      <td>78</td>\n",
       "      <td>usa</td>\n",
       "    </tr>\n",
       "    <tr>\n",
       "      <th>fiat 131</th>\n",
       "      <td>28.0</td>\n",
       "      <td>4</td>\n",
       "      <td>107.0</td>\n",
       "      <td>86.0</td>\n",
       "      <td>2464</td>\n",
       "      <td>15.5</td>\n",
       "      <td>76</td>\n",
       "      <td>europe</td>\n",
       "    </tr>\n",
       "    <tr>\n",
       "      <th>dodge aspen 6</th>\n",
       "      <td>20.6</td>\n",
       "      <td>6</td>\n",
       "      <td>225.0</td>\n",
       "      <td>110.0</td>\n",
       "      <td>3360</td>\n",
       "      <td>16.6</td>\n",
       "      <td>79</td>\n",
       "      <td>usa</td>\n",
       "    </tr>\n",
       "    <tr>\n",
       "      <th>opel 1900</th>\n",
       "      <td>28.0</td>\n",
       "      <td>4</td>\n",
       "      <td>116.0</td>\n",
       "      <td>90.0</td>\n",
       "      <td>2123</td>\n",
       "      <td>14.0</td>\n",
       "      <td>71</td>\n",
       "      <td>europe</td>\n",
       "    </tr>\n",
       "  </tbody>\n",
       "</table>\n",
       "</div>"
      ],
      "text/plain": [
       "                                    mpg  cylinders  displacement  horsepower  \\\n",
       "name                                                                           \n",
       "pontiac ventura sj                 18.5          6         250.0       110.0   \n",
       "amc matador (sw)                   14.0          8         304.0       150.0   \n",
       "peugeot 504                        27.2          4         141.0        71.0   \n",
       "pontiac grand prix lj              16.0          8         400.0       180.0   \n",
       "ford country squire (sw)           15.5          8         351.0       142.0   \n",
       "oldsmobile cutlass ciera (diesel)  38.0          6         262.0        85.0   \n",
       "pontiac phoenix lj                 19.2          6         231.0       105.0   \n",
       "fiat 131                           28.0          4         107.0        86.0   \n",
       "dodge aspen 6                      20.6          6         225.0       110.0   \n",
       "opel 1900                          28.0          4         116.0        90.0   \n",
       "\n",
       "                                   weight  acceleration  model_year  origin  \n",
       "name                                                                         \n",
       "pontiac ventura sj                   3645          16.2          76     usa  \n",
       "amc matador (sw)                     4257          15.5          74     usa  \n",
       "peugeot 504                          3190          24.8          79  europe  \n",
       "pontiac grand prix lj                4220          11.1          77     usa  \n",
       "ford country squire (sw)             4054          14.3          79     usa  \n",
       "oldsmobile cutlass ciera (diesel)    3015          17.0          82     usa  \n",
       "pontiac phoenix lj                   3535          19.2          78     usa  \n",
       "fiat 131                             2464          15.5          76  europe  \n",
       "dodge aspen 6                        3360          16.6          79     usa  \n",
       "opel 1900                            2123          14.0          71  europe  "
      ]
     },
     "execution_count": 2,
     "metadata": {},
     "output_type": "execute_result"
    }
   ],
   "source": [
    "import pandas as pd\n",
    "import seaborn as sns\n",
    "\n",
    "df = sns.load_dataset(name='mpg', index_col='name')\n",
    "df.sample(10)"
   ]
  },
  {
   "cell_type": "markdown",
   "metadata": {},
   "source": [
    "# Seleccionar 2 Variables para el Análisis de Clúster"
   ]
  },
  {
   "cell_type": "markdown",
   "metadata": {},
   "source": [
    "> En este caso **ambas variables son explicativas**. La variable que queremos predecir no se la damos al modelo. Sino que tratará de adivinarla en base a cómo de cerca estén los puntos."
   ]
  },
  {
   "cell_type": "code",
   "execution_count": 5,
   "metadata": {},
   "outputs": [],
   "source": [
    "explanatory = df[['horsepower','weight']].dropna()"
   ]
  },
  {
   "cell_type": "code",
   "execution_count": 4,
   "metadata": {
    "collapsed": false,
    "jupyter": {
     "outputs_hidden": false
    },
    "pycharm": {
     "name": "#%%\n"
    }
   },
   "outputs": [
    {
     "data": {
      "text/html": [
       "<div>\n",
       "<style scoped>\n",
       "    .dataframe tbody tr th:only-of-type {\n",
       "        vertical-align: middle;\n",
       "    }\n",
       "\n",
       "    .dataframe tbody tr th {\n",
       "        vertical-align: top;\n",
       "    }\n",
       "\n",
       "    .dataframe thead th {\n",
       "        text-align: right;\n",
       "    }\n",
       "</style>\n",
       "<table border=\"1\" class=\"dataframe\">\n",
       "  <thead>\n",
       "    <tr style=\"text-align: right;\">\n",
       "      <th></th>\n",
       "      <th>horsepower</th>\n",
       "      <th>weight</th>\n",
       "    </tr>\n",
       "    <tr>\n",
       "      <th>name</th>\n",
       "      <th></th>\n",
       "      <th></th>\n",
       "    </tr>\n",
       "  </thead>\n",
       "  <tbody>\n",
       "    <tr>\n",
       "      <th>chevrolet chevelle malibu</th>\n",
       "      <td>130.0</td>\n",
       "      <td>3504</td>\n",
       "    </tr>\n",
       "    <tr>\n",
       "      <th>buick skylark 320</th>\n",
       "      <td>165.0</td>\n",
       "      <td>3693</td>\n",
       "    </tr>\n",
       "    <tr>\n",
       "      <th>plymouth satellite</th>\n",
       "      <td>150.0</td>\n",
       "      <td>3436</td>\n",
       "    </tr>\n",
       "    <tr>\n",
       "      <th>amc rebel sst</th>\n",
       "      <td>150.0</td>\n",
       "      <td>3433</td>\n",
       "    </tr>\n",
       "    <tr>\n",
       "      <th>ford torino</th>\n",
       "      <td>140.0</td>\n",
       "      <td>3449</td>\n",
       "    </tr>\n",
       "  </tbody>\n",
       "</table>\n",
       "</div>"
      ],
      "text/plain": [
       "                           horsepower  weight\n",
       "name                                         \n",
       "chevrolet chevelle malibu       130.0    3504\n",
       "buick skylark 320               165.0    3693\n",
       "plymouth satellite              150.0    3436\n",
       "amc rebel sst                   150.0    3433\n",
       "ford torino                     140.0    3449"
      ]
     },
     "execution_count": 6,
     "metadata": {},
     "output_type": "execute_result"
    }
   ],
   "source": [
    "explanatory.head()"
   ]
  },
  {
   "cell_type": "markdown",
   "metadata": {},
   "source": [
    "# Scatterplot con las Variables"
   ]
  },
  {
   "cell_type": "markdown",
   "metadata": {},
   "source": [
    "> Deberíamos observar en la gráfica cuántos posibles grupos podríamos hacer para agrupar los puntos."
   ]
  },
  {
   "cell_type": "code",
   "execution_count": 8,
   "metadata": {},
   "outputs": [
    {
     "data": {
      "image/png": "[encoded data removed]",
      "text/plain": [
       "<Figure size 432x288 with 1 Axes>"
      ]
     },
     "metadata": {
      "needs_background": "light"
     },
     "output_type": "display_data"
    }
   ],
   "source": [
    "sns.scatterplot(data = df ,x = 'horsepower', y = 'weight');"
   ]
  },
  {
   "cell_type": "markdown",
   "metadata": {},
   "source": [
    "# Transformación de los Datos"
   ]
  },
  {
   "cell_type": "markdown",
   "metadata": {},
   "source": [
    "> Deberíamos valorar si tenemos que realizar algunos cambios a los datos para que el modelo de k-Means se compute adecuadamente y pueda comparar ambas variables.\n",
    ">\n",
    "> Las variables originales pueden tener un rango de valores diferente.\n",
    ">\n",
    "> Imaginemos que tenemos dos variables:\n",
    ">\n",
    "> - Peso (en kilogramos)\n",
    "> - Altura (en metros)\n",
    ">\n",
    "> **Es lo mismo** incrementar 1 kilogramo de peso, que incrementar 1 metro de altura?\n",
    "> \n",
    "> - Hazte las mismas preguntas con tus variables."
   ]
  },
  {
   "cell_type": "code",
   "execution_count": 14,
   "metadata": {},
   "outputs": [],
   "source": [
    "from sklearn.preprocessing import MinMaxScaler"
   ]
  },
  {
   "cell_type": "code",
   "execution_count": 15,
   "metadata": {
    "collapsed": false,
    "jupyter": {
     "outputs_hidden": false
    },
    "pycharm": {
     "name": "#%%\n"
    }
   },
   "outputs": [],
   "source": [
    "scaler = MinMaxScaler()"
   ]
  },
  {
   "cell_type": "code",
   "execution_count": 16,
   "metadata": {
    "collapsed": false,
    "jupyter": {
     "outputs_hidden": false
    },
    "pycharm": {
     "name": "#%%\n"
    }
   },
   "outputs": [
    {
     "data": {
      "text/plain": [
       "array([[0.45652174, 0.5361497 ],\n",
       "       [0.64673913, 0.58973632],\n",
       "       [0.56521739, 0.51686986],\n",
       "       [0.56521739, 0.51601928],\n",
       "       [0.51086957, 0.52055571],\n",
       "       [0.82608696, 0.77346187],\n",
       "       [0.94565217, 0.77714772],\n",
       "       [0.91847826, 0.76523958],\n",
       "       [0.97282609, 0.79727814],\n",
       "       [0.7826087 , 0.63425007],\n",
       "       [0.67391304, 0.5528778 ],\n",
       "       [0.61956522, 0.56592005],\n",
       "       [0.56521739, 0.60901616],\n",
       "       [0.97282609, 0.41763538],\n",
       "       [0.26630435, 0.21519705],\n",
       "       [0.26630435, 0.34590303],\n",
       "       [0.27717391, 0.32917494],\n",
       "       [0.21195652, 0.27615537],\n",
       "       [0.22826087, 0.1465835 ],\n",
       "       [0.        , 0.06294301],\n",
       "       [0.22282609, 0.30025517],\n",
       "       [0.23913043, 0.23164162],\n",
       "       [0.26630435, 0.21604763],\n",
       "       [0.36413043, 0.17607031],\n",
       "       [0.23913043, 0.29345052],\n",
       "       [0.91847826, 0.85114828],\n",
       "       [0.83695652, 0.78338531],\n",
       "       [0.89130435, 0.78508648],\n",
       "       [0.79891304, 0.88432095],\n",
       "       [0.22826087, 0.1465835 ],\n",
       "       [0.23913043, 0.18457613],\n",
       "       [0.26630435, 0.17436915],\n",
       "       [0.29347826, 0.28948115],\n",
       "       [0.32065217, 0.51772044],\n",
       "       [0.29347826, 0.48653246],\n",
       "       [0.22826087, 0.47887723],\n",
       "       [0.29347826, 0.47490785],\n",
       "       [0.64673913, 0.73603629],\n",
       "       [0.70108696, 0.8083357 ],\n",
       "       [0.58152174, 0.7204423 ],\n",
       "       [0.56521739, 0.70399773],\n",
       "       [0.72826087, 0.94754749],\n",
       "       [0.67391304, 0.88829033],\n",
       "       [0.70108696, 1.        ],\n",
       "       [0.34782609, 0.38247803],\n",
       "       [0.14130435, 0.22540403],\n",
       "       [0.29347826, 0.47320669],\n",
       "       [0.22826087, 0.43266232],\n",
       "       [0.2173913 , 0.17210094],\n",
       "       [0.23913043, 0.14459881],\n",
       "       [0.13043478, 0.13070598],\n",
       "       [0.16304348, 0.12815424],\n",
       "       [0.10326087, 0.04536433],\n",
       "       [0.125     , 0.        ],\n",
       "       [0.07608696, 0.06265948],\n",
       "       [0.13043478, 0.09696626],\n",
       "       [0.26630435, 0.18854551],\n",
       "       [0.18478261, 0.14544939],\n",
       "       [0.04347826, 0.18174086],\n",
       "       [0.23913043, 0.22540403],\n",
       "       [0.2173913 , 0.1738021 ],\n",
       "       [0.64673913, 0.75446555],\n",
       "       [0.70108696, 0.78593706],\n",
       "       [0.56521739, 0.71505529],\n",
       "       [0.58152174, 0.71335413],\n",
       "       [0.56521739, 0.58378225],\n",
       "       [0.88043478, 0.85625177],\n",
       "       [0.5923913 , 0.81910972],\n",
       "       [0.61956522, 0.80606748],\n",
       "       [0.7826087 , 0.79642756],\n",
       "       [0.27717391, 0.20328891],\n",
       "       [0.56521739, 0.64615821],\n",
       "       [0.45652174, 0.70456479],\n",
       "       [0.51086957, 0.76013609],\n",
       "       [0.56521739, 0.69861072],\n",
       "       [0.35869565, 0.37425574],\n",
       "       [0.16304348, 0.25460731],\n",
       "       [0.22282609, 0.38729799],\n",
       "       [0.125     , 0.1633116 ],\n",
       "       [0.2173913 , 0.22171817],\n",
       "       [0.25      , 0.19138078],\n",
       "       [0.27717391, 0.25318968],\n",
       "       [0.18478261, 0.15622342],\n",
       "       [0.22826087, 0.13807769],\n",
       "       [0.70108696, 0.70513184],\n",
       "       [0.56521739, 0.58378225],\n",
       "       [0.53804348, 0.67337681],\n",
       "       [0.49456522, 0.68868727],\n",
       "       [0.56521739, 0.61355259],\n",
       "       [0.82608696, 0.94669691],\n",
       "       [0.56521739, 0.8083357 ],\n",
       "       [0.60869565, 0.77969946],\n",
       "       [0.56521739, 0.74397505],\n",
       "       [0.91847826, 0.88517153],\n",
       "       [0.97282609, 0.94641338],\n",
       "       [0.70108696, 0.62602779],\n",
       "       [0.32065217, 0.42755883],\n",
       "       [0.29347826, 0.47207258],\n",
       "       [0.29347826, 0.37765807],\n",
       "       [0.22826087, 0.39920612],\n",
       "       [0.26630435, 0.36603346],\n",
       "       [0.        , 0.09554862],\n",
       "       [0.56521739, 0.95945563],\n",
       "       [0.6576087 , 0.93365466],\n",
       "       [0.67391304, 0.86220584],\n",
       "       [0.72826087, 0.81825914],\n",
       "       [0.29347826, 0.33342784],\n",
       "       [0.22826087, 0.18882903],\n",
       "       [0.14130435, 0.22341934],\n",
       "       [0.26086957, 0.21718174],\n",
       "       [0.23913043, 0.14488234],\n",
       "       [0.21195652, 0.19761837],\n",
       "       [0.33152174, 0.24354976],\n",
       "       [0.23913043, 0.18485965],\n",
       "       [0.53804348, 0.70002835],\n",
       "       [1.        , 0.75559966],\n",
       "       [0.01630435, 0.07201588],\n",
       "       [0.1576087 , 0.15452226],\n",
       "       [0.24456522, 0.27473774],\n",
       "       [0.35869565, 0.35582648],\n",
       "       [0.56521739, 0.50637936],\n",
       "       [0.34782609, 0.29685285],\n",
       "       [0.41304348, 0.33853133],\n",
       "       [0.72826087, 0.58151403],\n",
       "       [0.26630435, 0.42217182],\n",
       "       [0.29347826, 0.36518287],\n",
       "       [0.29347826, 0.48851715],\n",
       "       [0.11413043, 0.09554862],\n",
       "       [0.18478261, 0.23759569],\n",
       "       [0.10326087, 0.06322654],\n",
       "       [0.1576087 , 0.26339665],\n",
       "       [0.29347826, 0.6146867 ],\n",
       "       [0.34782609, 0.57244117],\n",
       "       [0.32065217, 0.56705415],\n",
       "       [0.51086957, 0.71675645],\n",
       "       [0.56521739, 0.87496456],\n",
       "       [0.56521739, 0.80635101],\n",
       "       [0.51086957, 0.85766941],\n",
       "       [0.56521739, 0.74964559],\n",
       "       [0.20108696, 0.17181741],\n",
       "       [0.11413043, 0.09923448],\n",
       "       [0.17391304, 0.1947831 ],\n",
       "       [0.0326087 , 0.01020697],\n",
       "       [0.08152174, 0.11057556],\n",
       "       [0.1576087 , 0.14516586],\n",
       "       [0.1576087 , 0.1403459 ],\n",
       "       [0.1576087 , 0.17947264],\n",
       "       [0.27717391, 0.24836972],\n",
       "       [0.25543478, 0.22058407],\n",
       "       [0.11413043, 0.10972498],\n",
       "       [0.26630435, 0.4681032 ],\n",
       "       [0.32065217, 0.52339098],\n",
       "       [0.14130435, 0.51573575],\n",
       "       [0.14130435, 0.43804933],\n",
       "       [0.67391304, 0.86617522],\n",
       "       [0.53804348, 0.80153105],\n",
       "       [0.56521739, 0.81797562],\n",
       "       [0.55434783, 0.86305642],\n",
       "       [0.34782609, 0.65041111],\n",
       "       [0.32065217, 0.64757584],\n",
       "       [0.34782609, 0.60022682],\n",
       "       [0.26630435, 0.61582081],\n",
       "       [0.34782609, 0.40430961],\n",
       "       [0.34782609, 0.45591154],\n",
       "       [0.45108696, 0.44116813],\n",
       "       [0.1576087 , 0.15820811],\n",
       "       [0.20108696, 0.29089878],\n",
       "       [0.29347826, 0.36886873],\n",
       "       [0.17391304, 0.27757301],\n",
       "       [0.27173913, 0.30876099],\n",
       "       [0.13586957, 0.17295152],\n",
       "       [0.27717391, 0.26424724],\n",
       "       [0.27717391, 0.38871562],\n",
       "       [0.13043478, 0.09186277],\n",
       "       [0.23913043, 0.45307627],\n",
       "       [0.26630435, 0.30649277],\n",
       "       [0.22826087, 0.38106039],\n",
       "       [0.2826087 , 0.37765807],\n",
       "       [0.375     , 0.29997165],\n",
       "       [0.03804348, 0.05160193],\n",
       "       [0.2173913 , 0.24128154],\n",
       "       [0.19021739, 0.17210094],\n",
       "       [0.25      , 0.27190247],\n",
       "       [0.17934783, 0.18202438],\n",
       "       [0.20108696, 0.16699745],\n",
       "       [0.51086957, 0.73773745],\n",
       "       [0.56521739, 0.73064928],\n",
       "       [0.40217391, 0.6660051 ],\n",
       "       [0.57608696, 0.73773745],\n",
       "       [0.29347826, 0.45931386],\n",
       "       [0.32065217, 0.49333711],\n",
       "       [0.19021739, 0.39665438],\n",
       "       [0.23913043, 0.41735186],\n",
       "       [0.0326087 , 0.11964843],\n",
       "       [0.07608696, 0.15622342],\n",
       "       [0.13043478, 0.09186277],\n",
       "       [0.03804348, 0.05160193],\n",
       "       [0.29347826, 0.57782818],\n",
       "       [0.17391304, 0.5559966 ],\n",
       "       [0.34782609, 0.57612702],\n",
       "       [0.26630435, 0.44797278],\n",
       "       [0.13586957, 0.06010774],\n",
       "       [0.13043478, 0.10688971],\n",
       "       [0.1576087 , 0.15367168],\n",
       "       [0.14130435, 0.26991778],\n",
       "       [0.30434783, 0.43578112],\n",
       "       [0.56521739, 0.65976751],\n",
       "       [0.22826087, 0.46980437],\n",
       "       [0.33695652, 0.37340516],\n",
       "       [0.40217391, 0.62574426],\n",
       "       [0.72826087, 0.78451942],\n",
       "       [0.53804348, 0.69237312],\n",
       "       [0.45652174, 0.63992061],\n",
       "       [0.56521739, 0.607315  ],\n",
       "       [0.11956522, 0.1224837 ],\n",
       "       [0.18478261, 0.15367168],\n",
       "       [0.06521739, 0.06010774],\n",
       "       [0.27173913, 0.1947831 ],\n",
       "       [0.13043478, 0.09413099],\n",
       "       [0.53804348, 0.64275588],\n",
       "       [0.34782609, 0.69379076],\n",
       "       [0.53804348, 0.71647292],\n",
       "       [0.45652174, 0.76041962],\n",
       "       [0.34782609, 0.54068614],\n",
       "       [0.32065217, 0.51375106],\n",
       "       [0.29347826, 0.57187411],\n",
       "       [0.2826087 , 0.54210377],\n",
       "       [0.72826087, 0.73915509],\n",
       "       [0.67391304, 0.7235611 ],\n",
       "       [0.7826087 , 0.76892543],\n",
       "       [0.55978261, 0.7717607 ],\n",
       "       [0.17391304, 0.09271335],\n",
       "       [0.22826087, 0.31953502],\n",
       "       [0.1576087 , 0.18485965],\n",
       "       [0.23369565, 0.32378792],\n",
       "       [0.0923913 , 0.12418486],\n",
       "       [0.20108696, 0.13098951],\n",
       "       [0.11413043, 0.10547207],\n",
       "       [0.17391304, 0.16359512],\n",
       "       [0.27717391, 0.34079955],\n",
       "       [0.34782609, 0.27984122],\n",
       "       [0.34782609, 0.31386447],\n",
       "       [0.01086957, 0.10547207],\n",
       "       [0.10869565, 0.05301956],\n",
       "       [0.0326087 , 0.10547207],\n",
       "       [0.13043478, 0.12957187],\n",
       "       [0.07608696, 0.05301956],\n",
       "       [0.34782609, 0.49673944],\n",
       "       [0.51086957, 0.60164446],\n",
       "       [0.50543478, 0.55486249],\n",
       "       [0.32065217, 0.54493904],\n",
       "       [0.26630435, 0.43719875],\n",
       "       [0.21195652, 0.38332861],\n",
       "       [0.22826087, 0.31386447],\n",
       "       [0.29347826, 0.5151687 ],\n",
       "       [0.23913043, 0.45279274],\n",
       "       [0.32065217, 0.50099234],\n",
       "       [0.21195652, 0.41309895],\n",
       "       [0.34782609, 0.56903884],\n",
       "       [0.40217391, 0.50949816],\n",
       "       [0.53804348, 0.51375106],\n",
       "       [0.64673913, 0.5194216 ],\n",
       "       [0.50543478, 0.45137511],\n",
       "       [0.51086957, 0.6994613 ],\n",
       "       [0.11956522, 0.15367168],\n",
       "       [0.26630435, 0.26850014],\n",
       "       [0.27717391, 0.1947831 ],\n",
       "       [0.1576087 , 0.17493621],\n",
       "       [0.26630435, 0.25574142],\n",
       "       [0.32065217, 0.32095265],\n",
       "       [0.21195652, 0.35214063],\n",
       "       [0.27717391, 0.22455344],\n",
       "       [0.30978261, 0.34505245],\n",
       "       [0.42934783, 0.43294585],\n",
       "       [0.375     , 0.335129  ],\n",
       "       [0.47282609, 0.50949816],\n",
       "       [0.13586957, 0.10688971],\n",
       "       [0.11956522, 0.14800113],\n",
       "       [0.375     , 0.46271619],\n",
       "       [0.21195652, 0.39041678],\n",
       "       [0.22826087, 0.36206408],\n",
       "       [0.23913043, 0.46838673],\n",
       "       [0.34782609, 0.4953218 ],\n",
       "       [0.45652174, 0.6314148 ],\n",
       "       [0.45108696, 0.59880919],\n",
       "       [0.5       , 0.66402041],\n",
       "       [0.48369565, 0.62857953],\n",
       "       [0.5923913 , 0.77884888],\n",
       "       [0.52173913, 0.69208959],\n",
       "       [0.42934783, 0.56478594],\n",
       "       [0.56521739, 0.65976751],\n",
       "       [0.13586957, 0.08846045],\n",
       "       [0.10326087, 0.1026368 ],\n",
       "       [0.18478261, 0.08562518],\n",
       "       [0.18478261, 0.29968812],\n",
       "       [0.16847826, 0.54352141],\n",
       "       [0.42934783, 0.64842642],\n",
       "       [0.13586957, 0.4471222 ],\n",
       "       [0.23913043, 0.51233343],\n",
       "       [0.13043478, 0.16643039],\n",
       "       [0.13043478, 0.15225404],\n",
       "       [0.10326087, 0.11539552],\n",
       "       [0.125     , 0.1465835 ],\n",
       "       [0.23913043, 0.29968812],\n",
       "       [0.375     , 0.27842359],\n",
       "       [0.375     , 0.30819393],\n",
       "       [0.23913043, 0.26736603],\n",
       "       [0.16304348, 0.15055288],\n",
       "       [0.07608696, 0.10065211],\n",
       "       [0.13043478, 0.14374823],\n",
       "       [0.10326087, 0.11511199],\n",
       "       [0.23913043, 0.30195634],\n",
       "       [0.22826087, 0.35639354],\n",
       "       [0.23913043, 0.39410264],\n",
       "       [0.23913043, 0.50127587],\n",
       "       [0.17391304, 0.16302807],\n",
       "       [0.23913043, 0.31131273],\n",
       "       [0.1576087 , 0.26339665],\n",
       "       [0.25      , 0.23277573],\n",
       "       [0.1576087 , 0.18485965],\n",
       "       [0.10326087, 0.14091296],\n",
       "       [0.32065217, 0.33654664],\n",
       "       [0.10326087, 0.14091296],\n",
       "       [0.01086957, 0.13382478],\n",
       "       [0.01086957, 0.20470655],\n",
       "       [0.11413043, 0.3790757 ],\n",
       "       [0.11413043, 0.46413382],\n",
       "       [0.11413043, 0.06719592],\n",
       "       [0.11413043, 0.1508364 ],\n",
       "       [0.08695652, 0.06577828],\n",
       "       [0.4673913 , 0.36773462],\n",
       "       [0.29347826, 0.22880635],\n",
       "       [0.22826087, 0.25148852],\n",
       "       [0.14130435, 0.19194783],\n",
       "       [0.20652174, 0.24865325],\n",
       "       [0.20652174, 0.28976467],\n",
       "       [0.25      , 0.28551177],\n",
       "       [0.34782609, 0.31528211],\n",
       "       [0.20652174, 0.2188829 ],\n",
       "       [0.06521739, 0.04026084],\n",
       "       [0.09782609, 0.07428409],\n",
       "       [0.07608696, 0.04167848],\n",
       "       [0.11413043, 0.12815424],\n",
       "       [0.10326087, 0.1026368 ],\n",
       "       [0.08695652, 0.12390133],\n",
       "       [0.11956522, 0.10547207],\n",
       "       [0.0923913 , 0.1706833 ],\n",
       "       [0.10326087, 0.1224837 ],\n",
       "       [0.10326087, 0.21746527],\n",
       "       [0.15217391, 0.16359512],\n",
       "       [0.1576087 , 0.16926566],\n",
       "       [0.1576087 , 0.20895946],\n",
       "       [0.29347826, 0.28409413],\n",
       "       [0.15217391, 0.28976467],\n",
       "       [0.18478261, 0.45846328],\n",
       "       [0.16304348, 0.43861639],\n",
       "       [0.38043478, 0.36489935],\n",
       "       [0.40217391, 0.37340516],\n",
       "       [0.34782609, 0.51091579],\n",
       "       [0.32065217, 0.59880919],\n",
       "       [0.22826087, 0.41026368],\n",
       "       [0.21195652, 0.52509215],\n",
       "       [0.22826087, 0.28125886],\n",
       "       [0.22826087, 0.29118231],\n",
       "       [0.22826087, 0.22171817],\n",
       "       [0.21195652, 0.27275305],\n",
       "       [0.20652174, 0.25857669],\n",
       "       [0.23913043, 0.31811738],\n",
       "       [0.25      , 0.3549759 ],\n",
       "       [0.15217391, 0.10405444],\n",
       "       [0.11956522, 0.11681316],\n",
       "       [0.11956522, 0.10121917],\n",
       "       [0.0923913 , 0.14516586],\n",
       "       [0.13043478, 0.14516586],\n",
       "       [0.22826087, 0.15508931],\n",
       "       [0.1576087 , 0.16784803],\n",
       "       [0.13043478, 0.17918911],\n",
       "       [0.11413043, 0.09980153],\n",
       "       [0.11413043, 0.09980153],\n",
       "       [0.11413043, 0.10830734],\n",
       "       [0.34782609, 0.37765807],\n",
       "       [0.21195652, 0.39750496],\n",
       "       [0.25      , 0.27558832],\n",
       "       [0.35869565, 0.34647009],\n",
       "       [0.27173913, 0.29827048],\n",
       "       [0.20652174, 0.21463   ],\n",
       "       [0.23913043, 0.3790757 ],\n",
       "       [0.2173913 , 0.33371137],\n",
       "       [0.0326087 , 0.1465835 ],\n",
       "       [0.20652174, 0.19336547],\n",
       "       [0.17934783, 0.2869294 ],\n",
       "       [0.19565217, 0.31386447]])"
      ]
     },
     "execution_count": 16,
     "metadata": {},
     "output_type": "execute_result"
    }
   ],
   "source": [
    "transform_scaler = scaler.fit_transform(X=explanatory)\n",
    "transform_scaler"
   ]
  },
  {
   "cell_type": "code",
   "execution_count": 43,
   "metadata": {
    "collapsed": false,
    "jupyter": {
     "outputs_hidden": false
    },
    "pycharm": {
     "name": "#%%\n"
    }
   },
   "outputs": [
    {
     "data": {
      "text/html": [
       "<div>\n",
       "<style scoped>\n",
       "    .dataframe tbody tr th:only-of-type {\n",
       "        vertical-align: middle;\n",
       "    }\n",
       "\n",
       "    .dataframe tbody tr th {\n",
       "        vertical-align: top;\n",
       "    }\n",
       "\n",
       "    .dataframe thead th {\n",
       "        text-align: right;\n",
       "    }\n",
       "</style>\n",
       "<table border=\"1\" class=\"dataframe\">\n",
       "  <thead>\n",
       "    <tr style=\"text-align: right;\">\n",
       "      <th></th>\n",
       "      <th>horsepower</th>\n",
       "      <th>weight</th>\n",
       "    </tr>\n",
       "  </thead>\n",
       "  <tbody>\n",
       "    <tr>\n",
       "      <th>0</th>\n",
       "      <td>0.456522</td>\n",
       "      <td>0.536150</td>\n",
       "    </tr>\n",
       "    <tr>\n",
       "      <th>1</th>\n",
       "      <td>0.646739</td>\n",
       "      <td>0.589736</td>\n",
       "    </tr>\n",
       "    <tr>\n",
       "      <th>2</th>\n",
       "      <td>0.565217</td>\n",
       "      <td>0.516870</td>\n",
       "    </tr>\n",
       "    <tr>\n",
       "      <th>3</th>\n",
       "      <td>0.565217</td>\n",
       "      <td>0.516019</td>\n",
       "    </tr>\n",
       "    <tr>\n",
       "      <th>4</th>\n",
       "      <td>0.510870</td>\n",
       "      <td>0.520556</td>\n",
       "    </tr>\n",
       "    <tr>\n",
       "      <th>...</th>\n",
       "      <td>...</td>\n",
       "      <td>...</td>\n",
       "    </tr>\n",
       "    <tr>\n",
       "      <th>387</th>\n",
       "      <td>0.217391</td>\n",
       "      <td>0.333711</td>\n",
       "    </tr>\n",
       "    <tr>\n",
       "      <th>388</th>\n",
       "      <td>0.032609</td>\n",
       "      <td>0.146583</td>\n",
       "    </tr>\n",
       "    <tr>\n",
       "      <th>389</th>\n",
       "      <td>0.206522</td>\n",
       "      <td>0.193365</td>\n",
       "    </tr>\n",
       "    <tr>\n",
       "      <th>390</th>\n",
       "      <td>0.179348</td>\n",
       "      <td>0.286929</td>\n",
       "    </tr>\n",
       "    <tr>\n",
       "      <th>391</th>\n",
       "      <td>0.195652</td>\n",
       "      <td>0.313864</td>\n",
       "    </tr>\n",
       "  </tbody>\n",
       "</table>\n",
       "<p>392 rows × 2 columns</p>\n",
       "</div>"
      ],
      "text/plain": [
       "     horsepower    weight\n",
       "0      0.456522  0.536150\n",
       "1      0.646739  0.589736\n",
       "2      0.565217  0.516870\n",
       "3      0.565217  0.516019\n",
       "4      0.510870  0.520556\n",
       "..          ...       ...\n",
       "387    0.217391  0.333711\n",
       "388    0.032609  0.146583\n",
       "389    0.206522  0.193365\n",
       "390    0.179348  0.286929\n",
       "391    0.195652  0.313864\n",
       "\n",
       "[392 rows x 2 columns]"
      ]
     },
     "execution_count": 43,
     "metadata": {},
     "output_type": "execute_result"
    }
   ],
   "source": [
    "df_scaled = pd.DataFrame(transform_scaler, columns=explanatory.columns)\n",
    "df_scaled"
   ]
  },
  {
   "cell_type": "markdown",
   "metadata": {},
   "source": [
    "# Entrenar Modelo `KMeans()`"
   ]
  },
  {
   "cell_type": "markdown",
   "metadata": {},
   "source": [
    "> Podremos predecir 1, 2, 3,..., k grupos. Tantos como queramos. Sin embargo, seleccionaremos `n_cluster = 3` para no complicarnos la vida.\n",
    "> 1. **Necesidad:** Entrenar Modelo\n",
    "> 2. **Solución: Función** `fit()`"
   ]
  },
  {
   "cell_type": "code",
   "execution_count": 44,
   "metadata": {},
   "outputs": [],
   "source": [
    "from sklearn.cluster import KMeans"
   ]
  },
  {
   "cell_type": "code",
   "execution_count": 45,
   "metadata": {
    "collapsed": false,
    "jupyter": {
     "outputs_hidden": false
    },
    "pycharm": {
     "name": "#%%\n"
    }
   },
   "outputs": [],
   "source": [
    "model = KMeans(n_clusters=3, verbose=1)"
   ]
  },
  {
   "cell_type": "code",
   "execution_count": 46,
   "metadata": {
    "collapsed": false,
    "jupyter": {
     "outputs_hidden": false
    },
    "pycharm": {
     "name": "#%%\n"
    }
   },
   "outputs": [
    {
     "data": {
      "text/plain": [
       "{'algorithm': 'auto',\n",
       " 'copy_x': True,\n",
       " 'init': 'k-means++',\n",
       " 'max_iter': 300,\n",
       " 'n_clusters': 3,\n",
       " 'n_init': 10,\n",
       " 'random_state': None,\n",
       " 'tol': 0.0001,\n",
       " 'verbose': 1}"
      ]
     },
     "execution_count": 46,
     "metadata": {},
     "output_type": "execute_result"
    }
   ],
   "source": [
    "model.get_params()"
   ]
  },
  {
   "cell_type": "code",
   "execution_count": 48,
   "metadata": {
    "collapsed": false,
    "jupyter": {
     "outputs_hidden": false
    },
    "pycharm": {
     "name": "#%%\n"
    }
   },
   "outputs": [
    {
     "name": "stdout",
     "output_type": "stream",
     "text": [
      "Initialization complete\n",
      "Iteration 0, inertia 10.494104101008727\n",
      "Iteration 1, inertia 9.20844026231255\n",
      "Iteration 2, inertia 8.937887617119415\n",
      "Iteration 3, inertia 8.687513705477915\n",
      "Iteration 4, inertia 8.377608729088273\n",
      "Iteration 5, inertia 8.063745758394\n",
      "Iteration 6, inertia 7.754997030131964\n",
      "Iteration 7, inertia 7.273333251533774\n",
      "Iteration 8, inertia 6.954476725424632\n",
      "Iteration 9, inertia 6.881698753867822\n",
      "Iteration 10, inertia 6.828914854929642\n",
      "Iteration 11, inertia 6.788877614158945\n",
      "Iteration 12, inertia 6.773819080193906\n",
      "Iteration 13, inertia 6.772084301612207\n",
      "Converged at iteration 13: strict convergence.\n",
      "Initialization complete\n",
      "Iteration 0, inertia 9.780770323937185\n",
      "Iteration 1, inertia 6.955993012593188\n",
      "Iteration 2, inertia 6.78876588773031\n",
      "Iteration 3, inertia 6.773290744908309\n",
      "Iteration 4, inertia 6.772084301612207\n",
      "Converged at iteration 4: strict convergence.\n",
      "Initialization complete\n",
      "Iteration 0, inertia 11.333641505171897\n",
      "Iteration 1, inertia 8.56386780875444\n",
      "Iteration 2, inertia 8.197973151422424\n",
      "Iteration 3, inertia 7.896138411798097\n",
      "Iteration 4, inertia 7.532526160757858\n",
      "Iteration 5, inertia 7.024659043305343\n",
      "Iteration 6, inertia 6.890336901987174\n",
      "Iteration 7, inertia 6.844504818024235\n",
      "Iteration 8, inertia 6.803140442537026\n",
      "Iteration 9, inertia 6.777466895213552\n",
      "Iteration 10, inertia 6.773030240659578\n",
      "Iteration 11, inertia 6.772084301612207\n",
      "Converged at iteration 11: strict convergence.\n",
      "Initialization complete\n",
      "Iteration 0, inertia 11.892271483131896\n",
      "Iteration 1, inertia 8.019166330390117\n",
      "Iteration 2, inertia 7.108837745445911\n",
      "Iteration 3, inertia 6.905838164474128\n",
      "Iteration 4, inertia 6.849148284365531\n",
      "Iteration 5, inertia 6.812015011346203\n",
      "Iteration 6, inertia 6.780844024553825\n",
      "Iteration 7, inertia 6.773030240659578\n",
      "Iteration 8, inertia 6.772084301612207\n",
      "Converged at iteration 8: strict convergence.\n",
      "Initialization complete\n",
      "Iteration 0, inertia 10.014206702688398\n",
      "Iteration 1, inertia 7.216866856769321\n",
      "Iteration 2, inertia 6.970628059157164\n",
      "Iteration 3, inertia 6.83644613738127\n",
      "Iteration 4, inertia 6.796213411462292\n",
      "Iteration 5, inertia 6.792203911905624\n",
      "Iteration 6, inertia 6.789895532547284\n",
      "Iteration 7, inertia 6.784135845606325\n",
      "Iteration 8, inertia 6.779055180996097\n",
      "Iteration 9, inertia 6.774874422671552\n",
      "Iteration 10, inertia 6.771629364229334\n",
      "Iteration 11, inertia 6.770074984783086\n",
      "Converged at iteration 11: center shift 2.0433285966190985e-06 within tolerance 5.074987356861456e-06.\n",
      "Initialization complete\n",
      "Iteration 0, inertia 12.908252396317867\n",
      "Iteration 1, inertia 7.695186691215309\n",
      "Iteration 2, inertia 6.940125693745236\n",
      "Iteration 3, inertia 6.877328396546023\n",
      "Iteration 4, inertia 6.812015011346203\n",
      "Iteration 5, inertia 6.780844024553825\n",
      "Iteration 6, inertia 6.773030240659578\n",
      "Iteration 7, inertia 6.772084301612207\n",
      "Converged at iteration 7: strict convergence.\n",
      "Initialization complete\n",
      "Iteration 0, inertia 8.509047638902718\n",
      "Iteration 1, inertia 6.942687040394594\n",
      "Iteration 2, inertia 6.799378240619506\n",
      "Iteration 3, inertia 6.775147234345833\n",
      "Iteration 4, inertia 6.773030240659578\n",
      "Iteration 5, inertia 6.772084301612207\n",
      "Converged at iteration 5: strict convergence.\n",
      "Initialization complete\n",
      "Iteration 0, inertia 8.52004710352531\n",
      "Iteration 1, inertia 6.880656734957457\n",
      "Iteration 2, inertia 6.774949469689953\n",
      "Iteration 3, inertia 6.772084301612207\n",
      "Converged at iteration 3: strict convergence.\n",
      "Initialization complete\n",
      "Iteration 0, inertia 9.945494395637787\n",
      "Iteration 1, inertia 7.319526306454229\n",
      "Iteration 2, inertia 7.028674766704303\n",
      "Iteration 3, inertia 6.8636736656255755\n",
      "Iteration 4, inertia 6.798109349379966\n",
      "Iteration 5, inertia 6.792203911905624\n",
      "Iteration 6, inertia 6.789895532547284\n",
      "Iteration 7, inertia 6.784135845606325\n",
      "Iteration 8, inertia 6.779055180996097\n",
      "Iteration 9, inertia 6.774874422671552\n",
      "Iteration 10, inertia 6.771629364229334\n",
      "Iteration 11, inertia 6.770074984783086\n",
      "Converged at iteration 11: center shift 2.0433285966190985e-06 within tolerance 5.074987356861456e-06.\n",
      "Initialization complete\n",
      "Iteration 0, inertia 11.531803038671434\n",
      "Iteration 1, inertia 6.89857517128393\n",
      "Iteration 2, inertia 6.782025423950685\n",
      "Iteration 3, inertia 6.772385549711293\n",
      "Converged at iteration 3: center shift 2.0944636832117062e-06 within tolerance 5.074987356861456e-06.\n"
     ]
    },
    {
     "data": {
      "text/plain": [
       "KMeans(n_clusters=3, verbose=1)"
      ]
     },
     "execution_count": 48,
     "metadata": {},
     "output_type": "execute_result"
    }
   ],
   "source": [
    "model.fit(X=df_scaled)"
   ]
  },
  {
   "cell_type": "markdown",
   "metadata": {
    "pycharm": {
     "name": "#%% md\n"
    }
   },
   "source": []
  },
  {
   "cell_type": "markdown",
   "metadata": {},
   "source": [
    "# Realizar Predicciones"
   ]
  },
  {
   "cell_type": "markdown",
   "metadata": {},
   "source": [
    "> - `model.predict()`"
   ]
  },
  {
   "cell_type": "markdown",
   "metadata": {
    "pycharm": {
     "name": "#%% md\n"
    }
   },
   "source": [
    "Creo un modelo para introducir el número de cluster cómo una nueva columna"
   ]
  },
  {
   "cell_type": "code",
   "execution_count": 49,
   "metadata": {},
   "outputs": [],
   "source": [
    "dfsel = df_scaled.copy()"
   ]
  },
  {
   "cell_type": "code",
   "execution_count": 50,
   "metadata": {
    "collapsed": false,
    "jupyter": {
     "outputs_hidden": false
    },
    "pycharm": {
     "name": "#%%\n"
    }
   },
   "outputs": [],
   "source": [
    "dfsel['Cluster'] = model.predict(X=dfsel)"
   ]
  },
  {
   "cell_type": "code",
   "execution_count": 51,
   "metadata": {},
   "outputs": [
    {
     "data": {
      "text/html": [
       "<div>\n",
       "<style scoped>\n",
       "    .dataframe tbody tr th:only-of-type {\n",
       "        vertical-align: middle;\n",
       "    }\n",
       "\n",
       "    .dataframe tbody tr th {\n",
       "        vertical-align: top;\n",
       "    }\n",
       "\n",
       "    .dataframe thead th {\n",
       "        text-align: right;\n",
       "    }\n",
       "</style>\n",
       "<table border=\"1\" class=\"dataframe\">\n",
       "  <thead>\n",
       "    <tr style=\"text-align: right;\">\n",
       "      <th></th>\n",
       "      <th>horsepower</th>\n",
       "      <th>weight</th>\n",
       "      <th>Cluster</th>\n",
       "    </tr>\n",
       "  </thead>\n",
       "  <tbody>\n",
       "    <tr>\n",
       "      <th>0</th>\n",
       "      <td>0.456522</td>\n",
       "      <td>0.536150</td>\n",
       "      <td>0</td>\n",
       "    </tr>\n",
       "    <tr>\n",
       "      <th>1</th>\n",
       "      <td>0.646739</td>\n",
       "      <td>0.589736</td>\n",
       "      <td>1</td>\n",
       "    </tr>\n",
       "    <tr>\n",
       "      <th>2</th>\n",
       "      <td>0.565217</td>\n",
       "      <td>0.516870</td>\n",
       "      <td>1</td>\n",
       "    </tr>\n",
       "    <tr>\n",
       "      <th>3</th>\n",
       "      <td>0.565217</td>\n",
       "      <td>0.516019</td>\n",
       "      <td>1</td>\n",
       "    </tr>\n",
       "    <tr>\n",
       "      <th>4</th>\n",
       "      <td>0.510870</td>\n",
       "      <td>0.520556</td>\n",
       "      <td>1</td>\n",
       "    </tr>\n",
       "    <tr>\n",
       "      <th>...</th>\n",
       "      <td>...</td>\n",
       "      <td>...</td>\n",
       "      <td>...</td>\n",
       "    </tr>\n",
       "    <tr>\n",
       "      <th>387</th>\n",
       "      <td>0.217391</td>\n",
       "      <td>0.333711</td>\n",
       "      <td>0</td>\n",
       "    </tr>\n",
       "    <tr>\n",
       "      <th>388</th>\n",
       "      <td>0.032609</td>\n",
       "      <td>0.146583</td>\n",
       "      <td>2</td>\n",
       "    </tr>\n",
       "    <tr>\n",
       "      <th>389</th>\n",
       "      <td>0.206522</td>\n",
       "      <td>0.193365</td>\n",
       "      <td>2</td>\n",
       "    </tr>\n",
       "    <tr>\n",
       "      <th>390</th>\n",
       "      <td>0.179348</td>\n",
       "      <td>0.286929</td>\n",
       "      <td>2</td>\n",
       "    </tr>\n",
       "    <tr>\n",
       "      <th>391</th>\n",
       "      <td>0.195652</td>\n",
       "      <td>0.313864</td>\n",
       "      <td>0</td>\n",
       "    </tr>\n",
       "  </tbody>\n",
       "</table>\n",
       "<p>392 rows × 3 columns</p>\n",
       "</div>"
      ],
      "text/plain": [
       "     horsepower    weight  Cluster\n",
       "0      0.456522  0.536150        0\n",
       "1      0.646739  0.589736        1\n",
       "2      0.565217  0.516870        1\n",
       "3      0.565217  0.516019        1\n",
       "4      0.510870  0.520556        1\n",
       "..          ...       ...      ...\n",
       "387    0.217391  0.333711        0\n",
       "388    0.032609  0.146583        2\n",
       "389    0.206522  0.193365        2\n",
       "390    0.179348  0.286929        2\n",
       "391    0.195652  0.313864        0\n",
       "\n",
       "[392 rows x 3 columns]"
      ]
     },
     "execution_count": 51,
     "metadata": {},
     "output_type": "execute_result"
    }
   ],
   "source": [
    "dfsel"
   ]
  },
  {
   "cell_type": "markdown",
   "metadata": {},
   "source": [
    "# Visualizar Modelo"
   ]
  },
  {
   "cell_type": "markdown",
   "metadata": {},
   "source": [
    "> - Scatterplot con puntos coloreados según el grupo al que pertenece cada observación: `hue = model.labels_`\n",
    "> - Añade otra capa de puntos, los cuales indicarán los centroides (se encuentran en `model.cluster_centers_`)"
   ]
  },
  {
   "cell_type": "code",
   "execution_count": 52,
   "metadata": {},
   "outputs": [],
   "source": [
    "import matplotlib.pyplot as px"
   ]
  },
  {
   "cell_type": "code",
   "execution_count": 53,
   "metadata": {},
   "outputs": [
    {
     "data": {
      "text/plain": [
       "<module 'matplotlib.pyplot' from '/Users/sota/miniforge3/lib/python3.9/site-packages/matplotlib/pyplot.py'>"
      ]
     },
     "execution_count": 53,
     "metadata": {},
     "output_type": "execute_result"
    }
   ],
   "source": [
    "px"
   ]
  },
  {
   "cell_type": "code",
   "execution_count": 54,
   "metadata": {},
   "outputs": [],
   "source": [
    "import plotly.express as px"
   ]
  },
  {
   "cell_type": "code",
   "execution_count": 55,
   "metadata": {},
   "outputs": [],
   "source": [
    "a = 'hola'"
   ]
  },
  {
   "cell_type": "code",
   "execution_count": 56,
   "metadata": {},
   "outputs": [
    {
     "data": {
      "text/html": [
       "<div>\n",
       "<style scoped>\n",
       "    .dataframe tbody tr th:only-of-type {\n",
       "        vertical-align: middle;\n",
       "    }\n",
       "\n",
       "    .dataframe tbody tr th {\n",
       "        vertical-align: top;\n",
       "    }\n",
       "\n",
       "    .dataframe thead th {\n",
       "        text-align: right;\n",
       "    }\n",
       "</style>\n",
       "<table border=\"1\" class=\"dataframe\">\n",
       "  <thead>\n",
       "    <tr style=\"text-align: right;\">\n",
       "      <th></th>\n",
       "      <th>horsepower</th>\n",
       "      <th>weight</th>\n",
       "      <th>Cluster</th>\n",
       "    </tr>\n",
       "  </thead>\n",
       "  <tbody>\n",
       "    <tr>\n",
       "      <th>0</th>\n",
       "      <td>0.456522</td>\n",
       "      <td>0.536150</td>\n",
       "      <td>0</td>\n",
       "    </tr>\n",
       "    <tr>\n",
       "      <th>1</th>\n",
       "      <td>0.646739</td>\n",
       "      <td>0.589736</td>\n",
       "      <td>1</td>\n",
       "    </tr>\n",
       "    <tr>\n",
       "      <th>2</th>\n",
       "      <td>0.565217</td>\n",
       "      <td>0.516870</td>\n",
       "      <td>1</td>\n",
       "    </tr>\n",
       "    <tr>\n",
       "      <th>3</th>\n",
       "      <td>0.565217</td>\n",
       "      <td>0.516019</td>\n",
       "      <td>1</td>\n",
       "    </tr>\n",
       "    <tr>\n",
       "      <th>4</th>\n",
       "      <td>0.510870</td>\n",
       "      <td>0.520556</td>\n",
       "      <td>1</td>\n",
       "    </tr>\n",
       "    <tr>\n",
       "      <th>...</th>\n",
       "      <td>...</td>\n",
       "      <td>...</td>\n",
       "      <td>...</td>\n",
       "    </tr>\n",
       "    <tr>\n",
       "      <th>387</th>\n",
       "      <td>0.217391</td>\n",
       "      <td>0.333711</td>\n",
       "      <td>0</td>\n",
       "    </tr>\n",
       "    <tr>\n",
       "      <th>388</th>\n",
       "      <td>0.032609</td>\n",
       "      <td>0.146583</td>\n",
       "      <td>2</td>\n",
       "    </tr>\n",
       "    <tr>\n",
       "      <th>389</th>\n",
       "      <td>0.206522</td>\n",
       "      <td>0.193365</td>\n",
       "      <td>2</td>\n",
       "    </tr>\n",
       "    <tr>\n",
       "      <th>390</th>\n",
       "      <td>0.179348</td>\n",
       "      <td>0.286929</td>\n",
       "      <td>2</td>\n",
       "    </tr>\n",
       "    <tr>\n",
       "      <th>391</th>\n",
       "      <td>0.195652</td>\n",
       "      <td>0.313864</td>\n",
       "      <td>0</td>\n",
       "    </tr>\n",
       "  </tbody>\n",
       "</table>\n",
       "<p>392 rows × 3 columns</p>\n",
       "</div>"
      ],
      "text/plain": [
       "     horsepower    weight  Cluster\n",
       "0      0.456522  0.536150        0\n",
       "1      0.646739  0.589736        1\n",
       "2      0.565217  0.516870        1\n",
       "3      0.565217  0.516019        1\n",
       "4      0.510870  0.520556        1\n",
       "..          ...       ...      ...\n",
       "387    0.217391  0.333711        0\n",
       "388    0.032609  0.146583        2\n",
       "389    0.206522  0.193365        2\n",
       "390    0.179348  0.286929        2\n",
       "391    0.195652  0.313864        0\n",
       "\n",
       "[392 rows x 3 columns]"
      ]
     },
     "execution_count": 56,
     "metadata": {},
     "output_type": "execute_result"
    }
   ],
   "source": [
    "dfsel"
   ]
  },
  {
   "cell_type": "code",
   "execution_count": 62,
   "metadata": {},
   "outputs": [],
   "source": [
    "dfcentroides = dfsel.groupby('Cluster').mean()"
   ]
  },
  {
   "cell_type": "code",
   "execution_count": 63,
   "metadata": {},
   "outputs": [
    {
     "data": {
      "text/html": [
       "<div>\n",
       "<style scoped>\n",
       "    .dataframe tbody tr th:only-of-type {\n",
       "        vertical-align: middle;\n",
       "    }\n",
       "\n",
       "    .dataframe tbody tr th {\n",
       "        vertical-align: top;\n",
       "    }\n",
       "\n",
       "    .dataframe thead th {\n",
       "        text-align: right;\n",
       "    }\n",
       "</style>\n",
       "<table border=\"1\" class=\"dataframe\">\n",
       "  <thead>\n",
       "    <tr style=\"text-align: right;\">\n",
       "      <th></th>\n",
       "      <th>horsepower</th>\n",
       "      <th>weight</th>\n",
       "    </tr>\n",
       "    <tr>\n",
       "      <th>Cluster</th>\n",
       "      <th></th>\n",
       "      <th></th>\n",
       "    </tr>\n",
       "  </thead>\n",
       "  <tbody>\n",
       "    <tr>\n",
       "      <th>0</th>\n",
       "      <td>0.290865</td>\n",
       "      <td>0.425741</td>\n",
       "    </tr>\n",
       "    <tr>\n",
       "      <th>1</th>\n",
       "      <td>0.632265</td>\n",
       "      <td>0.724492</td>\n",
       "    </tr>\n",
       "    <tr>\n",
       "      <th>2</th>\n",
       "      <td>0.159017</td>\n",
       "      <td>0.163040</td>\n",
       "    </tr>\n",
       "  </tbody>\n",
       "</table>\n",
       "</div>"
      ],
      "text/plain": [
       "         horsepower    weight\n",
       "Cluster                      \n",
       "0          0.290865  0.425741\n",
       "1          0.632265  0.724492\n",
       "2          0.159017  0.163040"
      ]
     },
     "execution_count": 63,
     "metadata": {},
     "output_type": "execute_result"
    }
   ],
   "source": [
    "dfcentroides"
   ]
  },
  {
   "cell_type": "code",
   "execution_count": 67,
   "metadata": {},
   "outputs": [
    {
     "data": {
      "text/plain": [
       "Int64Index([0, 1, 2], dtype='int64', name='Cluster')"
      ]
     },
     "execution_count": 67,
     "metadata": {},
     "output_type": "execute_result"
    }
   ],
   "source": [
    "dfcentroides.index"
   ]
  },
  {
   "cell_type": "code",
   "execution_count": 70,
   "metadata": {},
   "outputs": [
    {
     "data": {
      "text/plain": [
       "<AxesSubplot:xlabel='horsepower', ylabel='weight'>"
      ]
     },
     "execution_count": 70,
     "metadata": {},
     "output_type": "execute_result"
    },
    {
     "data": {
      "image/png": "[encoded data removed]",
      "text/plain": [
       "<Figure size 432x288 with 1 Axes>"
      ]
     },
     "metadata": {
      "needs_background": "light"
     },
     "output_type": "display_data"
    }
   ],
   "source": [
    "sns.scatterplot(data=dfsel, x='horsepower', y='weight', hue=\"Cluster\")\n",
    "sns.scatterplot(data=dfcentroides, x='horsepower', y='weight', hue=dfcentroides.index, s=500, marker='X')"
   ]
  },
  {
   "cell_type": "code",
   "execution_count": 71,
   "metadata": {},
   "outputs": [
    {
     "name": "stderr",
     "output_type": "stream",
     "text": [
      "/Users/sota/miniforge3/lib/python3.9/site-packages/sklearn/base.py:445: UserWarning:\n",
      "\n",
      "X does not have valid feature names, but KMeans was fitted with feature names\n",
      "\n"
     ]
    },
    {
     "data": {
      "text/plain": [
       "array([1], dtype=int32)"
      ]
     },
     "execution_count": 71,
     "metadata": {},
     "output_type": "execute_result"
    }
   ],
   "source": [
    "model.predict([[0.8,0.9]])"
   ]
  },
  {
   "cell_type": "code",
   "execution_count": 57,
   "metadata": {},
   "outputs": [
    {
     "data": {
      "application/vnd.plotly.v1+json": {
       "config": {
        "plotlyServerURL": "https://plotly.com"
       },
       "data": [
        {
         "hovertemplate": "horsepower=%{x}<br>weight=%{y}<br>Cluster=%{marker.color}<extra></extra>",
         "legendgroup": "",
         "marker": {
          "color": [
           0,
           1,
           1,
           1,
           1,
           1,
           1,
           1,
           1,
           1,
           1,
           1,
           1,
           1,
           2,
           0,
           0,
           2,
           2,
           2,
           0,
           2,
           2,
           2,
           0,
           1,
           1,
           1,
           1,
           2,
           2,
           2,
           0,
           0,
           0,
           0,
           0,
           1,
           1,
           1,
           1,
           1,
           1,
           1,
           0,
           2,
           0,
           0,
           2,
           2,
           2,
           2,
           2,
           2,
           2,
           2,
           2,
           2,
           2,
           2,
           2,
           1,
           1,
           1,
           1,
           1,
           1,
           1,
           1,
           1,
           2,
           1,
           1,
           1,
           1,
           0,
           2,
           0,
           2,
           2,
           2,
           2,
           2,
           2,
           1,
           1,
           1,
           1,
           1,
           1,
           1,
           1,
           1,
           1,
           1,
           1,
           0,
           0,
           0,
           0,
           0,
           2,
           1,
           1,
           1,
           1,
           0,
           2,
           2,
           2,
           2,
           2,
           0,
           2,
           1,
           1,
           2,
           2,
           2,
           0,
           1,
           0,
           0,
           1,
           0,
           0,
           0,
           2,
           2,
           2,
           2,
           0,
           0,
           0,
           1,
           1,
           1,
           1,
           1,
           2,
           2,
           2,
           2,
           2,
           2,
           2,
           2,
           2,
           2,
           2,
           0,
           0,
           0,
           0,
           1,
           1,
           1,
           1,
           0,
           0,
           0,
           0,
           0,
           0,
           0,
           2,
           2,
           0,
           2,
           0,
           2,
           2,
           0,
           2,
           0,
           0,
           0,
           0,
           0,
           2,
           2,
           2,
           2,
           2,
           2,
           1,
           1,
           1,
           1,
           0,
           0,
           0,
           0,
           2,
           2,
           2,
           2,
           0,
           0,
           0,
           0,
           2,
           2,
           2,
           2,
           0,
           1,
           0,
           0,
           0,
           1,
           1,
           1,
           1,
           2,
           2,
           2,
           2,
           2,
           1,
           0,
           1,
           1,
           0,
           0,
           0,
           0,
           1,
           1,
           1,
           1,
           2,
           0,
           2,
           0,
           2,
           2,
           2,
           2,
           0,
           0,
           0,
           2,
           2,
           2,
           2,
           2,
           0,
           1,
           1,
           0,
           0,
           0,
           0,
           0,
           0,
           0,
           0,
           0,
           0,
           1,
           1,
           0,
           1,
           2,
           2,
           2,
           2,
           2,
           0,
           0,
           2,
           0,
           0,
           0,
           0,
           2,
           2,
           0,
           0,
           0,
           0,
           0,
           1,
           1,
           1,
           1,
           1,
           1,
           0,
           1,
           2,
           2,
           2,
           2,
           0,
           1,
           0,
           0,
           2,
           2,
           2,
           2,
           0,
           0,
           0,
           2,
           2,
           2,
           2,
           2,
           0,
           0,
           0,
           0,
           2,
           0,
           2,
           2,
           2,
           2,
           0,
           2,
           2,
           2,
           0,
           0,
           2,
           2,
           2,
           0,
           2,
           2,
           2,
           2,
           2,
           0,
           0,
           2,
           2,
           2,
           2,
           2,
           2,
           2,
           2,
           2,
           2,
           2,
           2,
           2,
           2,
           0,
           2,
           0,
           0,
           0,
           0,
           0,
           0,
           0,
           0,
           2,
           2,
           2,
           2,
           2,
           0,
           0,
           2,
           2,
           2,
           2,
           2,
           2,
           2,
           2,
           2,
           2,
           2,
           0,
           0,
           2,
           0,
           0,
           2,
           0,
           0,
           2,
           2,
           2,
           0
          ],
          "coloraxis": "coloraxis",
          "symbol": "circle"
         },
         "mode": "markers",
         "name": "",
         "orientation": "v",
         "showlegend": false,
         "type": "scatter",
         "x": [
          0.4565217391304348,
          0.6467391304347826,
          0.5652173913043478,
          0.5652173913043478,
          0.5108695652173912,
          0.826086956521739,
          0.9456521739130435,
          0.9184782608695652,
          0.9728260869565217,
          0.7826086956521738,
          0.6739130434782609,
          0.6195652173913043,
          0.5652173913043478,
          0.9728260869565217,
          0.2663043478260869,
          0.2663043478260869,
          0.27717391304347827,
          0.21195652173913043,
          0.2282608695652174,
          0,
          0.22282608695652173,
          0.2391304347826087,
          0.2663043478260869,
          0.36413043478260865,
          0.2391304347826087,
          0.9184782608695652,
          0.8369565217391304,
          0.8913043478260869,
          0.7989130434782608,
          0.2282608695652174,
          0.2391304347826087,
          0.2663043478260869,
          0.2934782608695652,
          0.32065217391304346,
          0.2934782608695652,
          0.2282608695652174,
          0.2934782608695652,
          0.6467391304347826,
          0.7010869565217391,
          0.5815217391304348,
          0.5652173913043478,
          0.7282608695652174,
          0.6739130434782609,
          0.7010869565217391,
          0.34782608695652173,
          0.14130434782608692,
          0.2934782608695652,
          0.2282608695652174,
          0.21739130434782605,
          0.2391304347826087,
          0.13043478260869562,
          0.16304347826086957,
          0.1032608695652174,
          0.125,
          0.07608695652173914,
          0.13043478260869562,
          0.2663043478260869,
          0.18478260869565216,
          0.04347826086956519,
          0.2391304347826087,
          0.21739130434782605,
          0.6467391304347826,
          0.7010869565217391,
          0.5652173913043478,
          0.5815217391304348,
          0.5652173913043478,
          0.8804347826086956,
          0.592391304347826,
          0.6195652173913043,
          0.7826086956521738,
          0.27717391304347827,
          0.5652173913043478,
          0.4565217391304348,
          0.5108695652173912,
          0.5652173913043478,
          0.3586956521739131,
          0.16304347826086957,
          0.22282608695652173,
          0.125,
          0.21739130434782605,
          0.25,
          0.27717391304347827,
          0.18478260869565216,
          0.2282608695652174,
          0.7010869565217391,
          0.5652173913043478,
          0.5380434782608695,
          0.4945652173913043,
          0.5652173913043478,
          0.826086956521739,
          0.5652173913043478,
          0.608695652173913,
          0.5652173913043478,
          0.9184782608695652,
          0.9728260869565217,
          0.7010869565217391,
          0.32065217391304346,
          0.2934782608695652,
          0.2934782608695652,
          0.2282608695652174,
          0.2663043478260869,
          0,
          0.5652173913043478,
          0.6576086956521738,
          0.6739130434782609,
          0.7282608695652174,
          0.2934782608695652,
          0.2282608695652174,
          0.14130434782608692,
          0.26086956521739124,
          0.2391304347826087,
          0.21195652173913043,
          0.3315217391304348,
          0.2391304347826087,
          0.5380434782608695,
          1,
          0.016304347826086973,
          0.1576086956521739,
          0.24456521739130432,
          0.3586956521739131,
          0.5652173913043478,
          0.34782608695652173,
          0.4130434782608695,
          0.7282608695652174,
          0.2663043478260869,
          0.2934782608695652,
          0.2934782608695652,
          0.1141304347826087,
          0.18478260869565216,
          0.1032608695652174,
          0.1576086956521739,
          0.2934782608695652,
          0.34782608695652173,
          0.32065217391304346,
          0.5108695652173912,
          0.5652173913043478,
          0.5652173913043478,
          0.5108695652173912,
          0.5652173913043478,
          0.20108695652173914,
          0.1141304347826087,
          0.17391304347826086,
          0.03260869565217389,
          0.08152173913043476,
          0.1576086956521739,
          0.1576086956521739,
          0.1576086956521739,
          0.27717391304347827,
          0.2554347826086957,
          0.1141304347826087,
          0.2663043478260869,
          0.32065217391304346,
          0.14130434782608692,
          0.14130434782608692,
          0.6739130434782609,
          0.5380434782608695,
          0.5652173913043478,
          0.5543478260869565,
          0.34782608695652173,
          0.32065217391304346,
          0.34782608695652173,
          0.2663043478260869,
          0.34782608695652173,
          0.34782608695652173,
          0.45108695652173914,
          0.1576086956521739,
          0.20108695652173914,
          0.2934782608695652,
          0.17391304347826086,
          0.2717391304347826,
          0.1358695652173913,
          0.27717391304347827,
          0.27717391304347827,
          0.13043478260869562,
          0.2391304347826087,
          0.2663043478260869,
          0.2282608695652174,
          0.28260869565217395,
          0.375,
          0.03804347826086957,
          0.21739130434782605,
          0.19021739130434784,
          0.25,
          0.17934782608695649,
          0.20108695652173914,
          0.5108695652173912,
          0.5652173913043478,
          0.40217391304347827,
          0.5760869565217391,
          0.2934782608695652,
          0.32065217391304346,
          0.19021739130434784,
          0.2391304347826087,
          0.03260869565217389,
          0.07608695652173914,
          0.13043478260869562,
          0.03804347826086957,
          0.2934782608695652,
          0.17391304347826086,
          0.34782608695652173,
          0.2663043478260869,
          0.1358695652173913,
          0.13043478260869562,
          0.1576086956521739,
          0.14130434782608692,
          0.30434782608695654,
          0.5652173913043478,
          0.2282608695652174,
          0.3369565217391304,
          0.40217391304347827,
          0.7282608695652174,
          0.5380434782608695,
          0.4565217391304348,
          0.5652173913043478,
          0.11956521739130432,
          0.18478260869565216,
          0.06521739130434784,
          0.2717391304347826,
          0.13043478260869562,
          0.5380434782608695,
          0.34782608695652173,
          0.5380434782608695,
          0.4565217391304348,
          0.34782608695652173,
          0.32065217391304346,
          0.2934782608695652,
          0.28260869565217395,
          0.7282608695652174,
          0.6739130434782609,
          0.7826086956521738,
          0.5597826086956521,
          0.17391304347826086,
          0.2282608695652174,
          0.1576086956521739,
          0.23369565217391303,
          0.09239130434782605,
          0.20108695652173914,
          0.1141304347826087,
          0.17391304347826086,
          0.27717391304347827,
          0.34782608695652173,
          0.34782608695652173,
          0.010869565217391297,
          0.10869565217391303,
          0.03260869565217389,
          0.13043478260869562,
          0.07608695652173914,
          0.34782608695652173,
          0.5108695652173912,
          0.5054347826086957,
          0.32065217391304346,
          0.2663043478260869,
          0.21195652173913043,
          0.2282608695652174,
          0.2934782608695652,
          0.2391304347826087,
          0.32065217391304346,
          0.21195652173913043,
          0.34782608695652173,
          0.40217391304347827,
          0.5380434782608695,
          0.6467391304347826,
          0.5054347826086957,
          0.5108695652173912,
          0.11956521739130432,
          0.2663043478260869,
          0.27717391304347827,
          0.1576086956521739,
          0.2663043478260869,
          0.32065217391304346,
          0.21195652173913043,
          0.27717391304347827,
          0.3097826086956521,
          0.42934782608695654,
          0.375,
          0.47282608695652173,
          0.1358695652173913,
          0.11956521739130432,
          0.375,
          0.21195652173913043,
          0.2282608695652174,
          0.2391304347826087,
          0.34782608695652173,
          0.4565217391304348,
          0.45108695652173914,
          0.5,
          0.48369565217391297,
          0.592391304347826,
          0.5217391304347826,
          0.42934782608695654,
          0.5652173913043478,
          0.1358695652173913,
          0.1032608695652174,
          0.18478260869565216,
          0.18478260869565216,
          0.1684782608695652,
          0.42934782608695654,
          0.1358695652173913,
          0.2391304347826087,
          0.13043478260869562,
          0.13043478260869562,
          0.1032608695652174,
          0.125,
          0.2391304347826087,
          0.375,
          0.375,
          0.2391304347826087,
          0.16304347826086957,
          0.07608695652173914,
          0.13043478260869562,
          0.1032608695652174,
          0.2391304347826087,
          0.2282608695652174,
          0.2391304347826087,
          0.2391304347826087,
          0.17391304347826086,
          0.2391304347826087,
          0.1576086956521739,
          0.25,
          0.1576086956521739,
          0.1032608695652174,
          0.32065217391304346,
          0.1032608695652174,
          0.010869565217391297,
          0.010869565217391297,
          0.1141304347826087,
          0.1141304347826087,
          0.1141304347826087,
          0.1141304347826087,
          0.08695652173913043,
          0.46739130434782605,
          0.2934782608695652,
          0.2282608695652174,
          0.14130434782608692,
          0.20652173913043476,
          0.20652173913043476,
          0.25,
          0.34782608695652173,
          0.20652173913043476,
          0.06521739130434784,
          0.09782608695652173,
          0.07608695652173914,
          0.1141304347826087,
          0.1032608695652174,
          0.08695652173913043,
          0.11956521739130432,
          0.09239130434782605,
          0.1032608695652174,
          0.1032608695652174,
          0.15217391304347827,
          0.1576086956521739,
          0.1576086956521739,
          0.2934782608695652,
          0.15217391304347827,
          0.18478260869565216,
          0.16304347826086957,
          0.3804347826086957,
          0.40217391304347827,
          0.34782608695652173,
          0.32065217391304346,
          0.2282608695652174,
          0.21195652173913043,
          0.2282608695652174,
          0.2282608695652174,
          0.2282608695652174,
          0.21195652173913043,
          0.20652173913043476,
          0.2391304347826087,
          0.25,
          0.15217391304347827,
          0.11956521739130432,
          0.11956521739130432,
          0.09239130434782605,
          0.13043478260869562,
          0.2282608695652174,
          0.1576086956521739,
          0.13043478260869562,
          0.1141304347826087,
          0.1141304347826087,
          0.1141304347826087,
          0.34782608695652173,
          0.21195652173913043,
          0.25,
          0.3586956521739131,
          0.2717391304347826,
          0.20652173913043476,
          0.2391304347826087,
          0.21739130434782605,
          0.03260869565217389,
          0.20652173913043476,
          0.17934782608695649,
          0.19565217391304346
         ],
         "xaxis": "x",
         "y": [
          0.5361497022965693,
          0.5897363198185427,
          0.5168698610717324,
          0.5160192798412249,
          0.5205557130705982,
          0.7734618656081657,
          0.7771477176070315,
          0.7652395803799262,
          0.797278140062376,
          0.6342500708817692,
          0.5528777998298838,
          0.5659200453643324,
          0.6090161610433796,
          0.4176353841791891,
          0.21519705131840094,
          0.3459030337397222,
          0.3291749362064077,
          0.2761553728381061,
          0.14658349872412813,
          0.06294301105755595,
          0.3002551743691523,
          0.23164162177487946,
          0.21604763254890846,
          0.1760703147150553,
          0.2934505245250921,
          0.8511482846611852,
          0.7833853132974199,
          0.7850864757584349,
          0.8843209526509782,
          0.14658349872412813,
          0.18457612702013038,
          0.17436915225404026,
          0.2894811454493904,
          0.5177204423022399,
          0.4865324638502977,
          0.47887723277573013,
          0.4749078537000283,
          0.736036291465835,
          0.8083356960589737,
          0.7204423022398639,
          0.7039977317833853,
          0.9475474907853699,
          0.8882903317266798,
          1,
          0.3824780266515452,
          0.22540402608449106,
          0.4732066912390134,
          0.43266231925148857,
          0.17210093563935358,
          0.14459880918627732,
          0.13070598242132125,
          0.1281542387297987,
          0.045364332293734044,
          0,
          0.06265948398072019,
          0.0969662602778566,
          0.1885455060958322,
          0.14544939041678484,
          0.18174085625177205,
          0.22540402608449106,
          0.17380209810036862,
          0.7544655514601645,
          0.7859370569889425,
          0.7150552877799831,
          0.713354125318968,
          0.58378225120499,
          0.8562517720442303,
          0.8191097249787355,
          0.8060674794442869,
          0.7964275588318684,
          0.20328891409129568,
          0.6461582081088745,
          0.7045647859370571,
          0.7601360929968811,
          0.6986107173235044,
          0.374255741423306,
          0.25460731499858236,
          0.3872979869577545,
          0.16331159625744263,
          0.22171817408562522,
          0.19138077686419053,
          0.2531896796144032,
          0.1562234193365466,
          0.13807768641905305,
          0.7051318400907286,
          0.58378225120499,
          0.6733768074851149,
          0.68868726963425,
          0.613552594272753,
          0.9466969095548624,
          0.8083356960589737,
          0.779699461298554,
          0.7439750496172385,
          0.8851715338814857,
          0.9464133824780266,
          0.62602778565353,
          0.42755883186844346,
          0.47207258293167,
          0.37765806634533594,
          0.3992061241848597,
          0.36603345619506666,
          0.09554862489367733,
          0.9594556280124752,
          0.9336546640204139,
          0.8622058406577827,
          0.818259143748228,
          0.3334278423589453,
          0.18882903317266797,
          0.22341933654664026,
          0.21718174085625175,
          0.1448823362631131,
          0.19761837255457892,
          0.24354975900198472,
          0.18485965409696625,
          0.7000283527076835,
          0.7555996597675078,
          0.07201587751630278,
          0.15452225687553167,
          0.2747377374539268,
          0.35582648142897644,
          0.5063793592288064,
          0.2968528494471222,
          0.3385313297419904,
          0.5815140345903035,
          0.4221718174085626,
          0.36518287496455915,
          0.4885171533881486,
          0.09554862489367733,
          0.2375956903884321,
          0.06322653813439183,
          0.2633966543804933,
          0.6146867025800965,
          0.5724411681315565,
          0.5670541536716757,
          0.7167564502409981,
          0.8749645591153955,
          0.8063510065211227,
          0.8576694074284094,
          0.7496455911539551,
          0.1718174085625177,
          0.09923447689254328,
          0.1947831017862206,
          0.010206974766090171,
          0.11057555996597679,
          0.14516586333994896,
          0.14034590303373973,
          0.17947263963708537,
          0.24836971930819396,
          0.22058406577828182,
          0.10972497873546927,
          0.46810320385596826,
          0.5233909838389567,
          0.515735752764389,
          0.43804933371136945,
          0.8661752197334845,
          0.8015310462149136,
          0.8179756166713922,
          0.8630564218882902,
          0.6504111142614121,
          0.6475758434930535,
          0.6002268216614687,
          0.6158208108874398,
          0.4043096115679048,
          0.45591153955202723,
          0.44116813155656365,
          0.1582081088743975,
          0.29089878083356957,
          0.368868726963425,
          0.27757300822228526,
          0.30876098667422736,
          0.1729515168698611,
          0.26424723561100083,
          0.3887156223419337,
          0.09186277289481148,
          0.4530762687836688,
          0.3064927700595407,
          0.381060391267366,
          0.37765806634533594,
          0.2999716472923164,
          0.05160192798412244,
          0.24128154238729804,
          0.17210093563935358,
          0.2719024666855685,
          0.18202438332860793,
          0.16699744825630847,
          0.7377374539268501,
          0.7306492770059542,
          0.666005103487383,
          0.7377374539268501,
          0.4593138644740573,
          0.49333711369435784,
          0.3966543804933371,
          0.41735185710235323,
          0.11964842642472362,
          0.1562234193365466,
          0.09186277289481148,
          0.05160192798412244,
          0.5778281825914374,
          0.5559965976750779,
          0.5761270201304224,
          0.4479727814006238,
          0.06010774028919763,
          0.10688970796711084,
          0.15367167564502415,
          0.2699177771477176,
          0.43578111709668277,
          0.6597675077969946,
          0.4698043663169833,
          0.37340516019279846,
          0.625744258576694,
          0.7845194216047632,
          0.692373121633116,
          0.6399206124184861,
          0.6073149985823646,
          0.12248369719308194,
          0.15367167564502415,
          0.06010774028919763,
          0.1947831017862206,
          0.09413098950949816,
          0.6427558831868444,
          0.6937907570172951,
          0.7164729231641621,
          0.7604196200737171,
          0.5406861355259427,
          0.5137510632265382,
          0.5718741139778848,
          0.542103770910122,
          0.7391550893110291,
          0.723561100085058,
          0.7689254323787921,
          0.7717607031471506,
          0.092713354125319,
          0.3195350155939892,
          0.18485965409696625,
          0.3237879217465268,
          0.12418485965409698,
          0.13098950949815713,
          0.10547207258293168,
          0.1635951233342784,
          0.3407995463566771,
          0.27984122483697194,
          0.31386447405727247,
          0.10547207258293168,
          0.053019563368301714,
          0.10547207258293168,
          0.12957187411397786,
          0.053019563368301714,
          0.4967394386163879,
          0.601644457045648,
          0.5548624893677346,
          0.5449390416784804,
          0.43719875248086193,
          0.3833286078820527,
          0.31386447405727247,
          0.5151686986107173,
          0.45279274170683304,
          0.5009923447689254,
          0.41309895094981575,
          0.5690388432095265,
          0.5094981570740006,
          0.5137510632265382,
          0.5194216047632549,
          0.4513751063226539,
          0.699461298554012,
          0.15367167564502415,
          0.2685001417635384,
          0.1947831017862206,
          0.1749362064077119,
          0.25574142330592575,
          0.3209526509781684,
          0.3521406294301106,
          0.22455344485398354,
          0.3450524525092147,
          0.43294584632832434,
          0.33512900481996033,
          0.5094981570740006,
          0.10688970796711084,
          0.1480011341083074,
          0.4627161893960874,
          0.3904167848029487,
          0.36206407711936495,
          0.46838673093280414,
          0.49532180323220865,
          0.6314148001134109,
          0.5988091862772894,
          0.6640204139495322,
          0.6285795293450523,
          0.7788488800680465,
          0.69208959455628,
          0.5647859370569889,
          0.6597675077969946,
          0.08846044797278141,
          0.10263680181457335,
          0.08562517720442298,
          0.29968812021548064,
          0.5435214062943011,
          0.648426424723561,
          0.4471222001701163,
          0.5123334278423589,
          0.16643039410263682,
          0.15225404026084488,
          0.11539552027218603,
          0.14658349872412813,
          0.29968812021548064,
          0.2784235894527928,
          0.3081939325205557,
          0.26736603345619503,
          0.15055287779982984,
          0.10065211227672244,
          0.1437482279557698,
          0.11511199319535015,
          0.3019563368301673,
          0.3563935355826482,
          0.39410263680181457,
          0.5012758718457613,
          0.16302806918060675,
          0.3113127303657499,
          0.2633966543804933,
          0.23277573008222285,
          0.18485965409696625,
          0.14091295718741137,
          0.3365466402041395,
          0.14091295718741137,
          0.13382478026651545,
          0.20470654947547495,
          0.3790757017295152,
          0.46413382478026655,
          0.06719591721009355,
          0.15083640487666572,
          0.06577828182591439,
          0.3677346186560817,
          0.22880635100652114,
          0.25148851715338816,
          0.19194783101786217,
          0.24865324638502972,
          0.2897646725262263,
          0.2855117663736887,
          0.31528210944145163,
          0.21888290331726679,
          0.040260844910688987,
          0.07428409413098946,
          0.04167848029486815,
          0.1281542387297987,
          0.10263680181457335,
          0.1239013325772611,
          0.10547207258293168,
          0.17068330025517442,
          0.12248369719308194,
          0.21746526793308762,
          0.1635951233342784,
          0.16926566487099515,
          0.20895945562801244,
          0.28409413098950953,
          0.2897646725262263,
          0.4584632832435498,
          0.4386163878650411,
          0.36489934788772327,
          0.37340516019279846,
          0.5109157924581798,
          0.5988091862772894,
          0.4102636801814573,
          0.5250921462999717,
          0.2812588602211511,
          0.29118230791040545,
          0.22171817408562522,
          0.272753047916076,
          0.2585766940742841,
          0.31811738020981006,
          0.3549759001984689,
          0.10405443719875251,
          0.11681315565636519,
          0.10121916643039408,
          0.14516586333994896,
          0.14516586333994896,
          0.15508931102920331,
          0.16784802948681599,
          0.1791891125602495,
          0.09980153104621492,
          0.09980153104621492,
          0.10830734335129011,
          0.37765806634533594,
          0.39750496172384464,
          0.27558831868443434,
          0.34647008789339384,
          0.29827048483130136,
          0.2146299971647292,
          0.3790757017295152,
          0.33371136943578117,
          0.14658349872412813,
          0.19336546640204144,
          0.28692940175786785,
          0.31386447405727247
         ],
         "yaxis": "y"
        }
       ],
       "layout": {
        "autosize": true,
        "coloraxis": {
         "colorbar": {
          "title": {
           "text": "Cluster"
          }
         },
         "colorscale": [
          [
           0,
           "#0d0887"
          ],
          [
           0.1111111111111111,
           "#46039f"
          ],
          [
           0.2222222222222222,
           "#7201a8"
          ],
          [
           0.3333333333333333,
           "#9c179e"
          ],
          [
           0.4444444444444444,
           "#bd3786"
          ],
          [
           0.5555555555555556,
           "#d8576b"
          ],
          [
           0.6666666666666666,
           "#ed7953"
          ],
          [
           0.7777777777777778,
           "#fb9f3a"
          ],
          [
           0.8888888888888888,
           "#fdca26"
          ],
          [
           1,
           "#f0f921"
          ]
         ]
        },
        "legend": {
         "tracegroupgap": 0
        },
        "margin": {
         "t": 60
        },
        "template": {
         "data": {
          "bar": [
           {
            "error_x": {
             "color": "#2a3f5f"
            },
            "error_y": {
             "color": "#2a3f5f"
            },
            "marker": {
             "line": {
              "color": "#E5ECF6",
              "width": 0.5
             },
             "pattern": {
              "fillmode": "overlay",
              "size": 10,
              "solidity": 0.2
             }
            },
            "type": "bar"
           }
          ],
          "barpolar": [
           {
            "marker": {
             "line": {
              "color": "#E5ECF6",
              "width": 0.5
             },
             "pattern": {
              "fillmode": "overlay",
              "size": 10,
              "solidity": 0.2
             }
            },
            "type": "barpolar"
           }
          ],
          "carpet": [
           {
            "aaxis": {
             "endlinecolor": "#2a3f5f",
             "gridcolor": "white",
             "linecolor": "white",
             "minorgridcolor": "white",
             "startlinecolor": "#2a3f5f"
            },
            "baxis": {
             "endlinecolor": "#2a3f5f",
             "gridcolor": "white",
             "linecolor": "white",
             "minorgridcolor": "white",
             "startlinecolor": "#2a3f5f"
            },
            "type": "carpet"
           }
          ],
          "choropleth": [
           {
            "colorbar": {
             "outlinewidth": 0,
             "ticks": ""
            },
            "type": "choropleth"
           }
          ],
          "contour": [
           {
            "colorbar": {
             "outlinewidth": 0,
             "ticks": ""
            },
            "colorscale": [
             [
              0,
              "#0d0887"
             ],
             [
              0.1111111111111111,
              "#46039f"
             ],
             [
              0.2222222222222222,
              "#7201a8"
             ],
             [
              0.3333333333333333,
              "#9c179e"
             ],
             [
              0.4444444444444444,
              "#bd3786"
             ],
             [
              0.5555555555555556,
              "#d8576b"
             ],
             [
              0.6666666666666666,
              "#ed7953"
             ],
             [
              0.7777777777777778,
              "#fb9f3a"
             ],
             [
              0.8888888888888888,
              "#fdca26"
             ],
             [
              1,
              "#f0f921"
             ]
            ],
            "type": "contour"
           }
          ],
          "contourcarpet": [
           {
            "colorbar": {
             "outlinewidth": 0,
             "ticks": ""
            },
            "type": "contourcarpet"
           }
          ],
          "heatmap": [
           {
            "colorbar": {
             "outlinewidth": 0,
             "ticks": ""
            },
            "colorscale": [
             [
              0,
              "#0d0887"
             ],
             [
              0.1111111111111111,
              "#46039f"
             ],
             [
              0.2222222222222222,
              "#7201a8"
             ],
             [
              0.3333333333333333,
              "#9c179e"
             ],
             [
              0.4444444444444444,
              "#bd3786"
             ],
             [
              0.5555555555555556,
              "#d8576b"
             ],
             [
              0.6666666666666666,
              "#ed7953"
             ],
             [
              0.7777777777777778,
              "#fb9f3a"
             ],
             [
              0.8888888888888888,
              "#fdca26"
             ],
             [
              1,
              "#f0f921"
             ]
            ],
            "type": "heatmap"
           }
          ],
          "heatmapgl": [
           {
            "colorbar": {
             "outlinewidth": 0,
             "ticks": ""
            },
            "colorscale": [
             [
              0,
              "#0d0887"
             ],
             [
              0.1111111111111111,
              "#46039f"
             ],
             [
              0.2222222222222222,
              "#7201a8"
             ],
             [
              0.3333333333333333,
              "#9c179e"
             ],
             [
              0.4444444444444444,
              "#bd3786"
             ],
             [
              0.5555555555555556,
              "#d8576b"
             ],
             [
              0.6666666666666666,
              "#ed7953"
             ],
             [
              0.7777777777777778,
              "#fb9f3a"
             ],
             [
              0.8888888888888888,
              "#fdca26"
             ],
             [
              1,
              "#f0f921"
             ]
            ],
            "type": "heatmapgl"
           }
          ],
          "histogram": [
           {
            "marker": {
             "pattern": {
              "fillmode": "overlay",
              "size": 10,
              "solidity": 0.2
             }
            },
            "type": "histogram"
           }
          ],
          "histogram2d": [
           {
            "colorbar": {
             "outlinewidth": 0,
             "ticks": ""
            },
            "colorscale": [
             [
              0,
              "#0d0887"
             ],
             [
              0.1111111111111111,
              "#46039f"
             ],
             [
              0.2222222222222222,
              "#7201a8"
             ],
             [
              0.3333333333333333,
              "#9c179e"
             ],
             [
              0.4444444444444444,
              "#bd3786"
             ],
             [
              0.5555555555555556,
              "#d8576b"
             ],
             [
              0.6666666666666666,
              "#ed7953"
             ],
             [
              0.7777777777777778,
              "#fb9f3a"
             ],
             [
              0.8888888888888888,
              "#fdca26"
             ],
             [
              1,
              "#f0f921"
             ]
            ],
            "type": "histogram2d"
           }
          ],
          "histogram2dcontour": [
           {
            "colorbar": {
             "outlinewidth": 0,
             "ticks": ""
            },
            "colorscale": [
             [
              0,
              "#0d0887"
             ],
             [
              0.1111111111111111,
              "#46039f"
             ],
             [
              0.2222222222222222,
              "#7201a8"
             ],
             [
              0.3333333333333333,
              "#9c179e"
             ],
             [
              0.4444444444444444,
              "#bd3786"
             ],
             [
              0.5555555555555556,
              "#d8576b"
             ],
             [
              0.6666666666666666,
              "#ed7953"
             ],
             [
              0.7777777777777778,
              "#fb9f3a"
             ],
             [
              0.8888888888888888,
              "#fdca26"
             ],
             [
              1,
              "#f0f921"
             ]
            ],
            "type": "histogram2dcontour"
           }
          ],
          "mesh3d": [
           {
            "colorbar": {
             "outlinewidth": 0,
             "ticks": ""
            },
            "type": "mesh3d"
           }
          ],
          "parcoords": [
           {
            "line": {
             "colorbar": {
              "outlinewidth": 0,
              "ticks": ""
             }
            },
            "type": "parcoords"
           }
          ],
          "pie": [
           {
            "automargin": true,
            "type": "pie"
           }
          ],
          "scatter": [
           {
            "marker": {
             "colorbar": {
              "outlinewidth": 0,
              "ticks": ""
             }
            },
            "type": "scatter"
           }
          ],
          "scatter3d": [
           {
            "line": {
             "colorbar": {
              "outlinewidth": 0,
              "ticks": ""
             }
            },
            "marker": {
             "colorbar": {
              "outlinewidth": 0,
              "ticks": ""
             }
            },
            "type": "scatter3d"
           }
          ],
          "scattercarpet": [
           {
            "marker": {
             "colorbar": {
              "outlinewidth": 0,
              "ticks": ""
             }
            },
            "type": "scattercarpet"
           }
          ],
          "scattergeo": [
           {
            "marker": {
             "colorbar": {
              "outlinewidth": 0,
              "ticks": ""
             }
            },
            "type": "scattergeo"
           }
          ],
          "scattergl": [
           {
            "marker": {
             "colorbar": {
              "outlinewidth": 0,
              "ticks": ""
             }
            },
            "type": "scattergl"
           }
          ],
          "scattermapbox": [
           {
            "marker": {
             "colorbar": {
              "outlinewidth": 0,
              "ticks": ""
             }
            },
            "type": "scattermapbox"
           }
          ],
          "scatterpolar": [
           {
            "marker": {
             "colorbar": {
              "outlinewidth": 0,
              "ticks": ""
             }
            },
            "type": "scatterpolar"
           }
          ],
          "scatterpolargl": [
           {
            "marker": {
             "colorbar": {
              "outlinewidth": 0,
              "ticks": ""
             }
            },
            "type": "scatterpolargl"
           }
          ],
          "scatterternary": [
           {
            "marker": {
             "colorbar": {
              "outlinewidth": 0,
              "ticks": ""
             }
            },
            "type": "scatterternary"
           }
          ],
          "surface": [
           {
            "colorbar": {
             "outlinewidth": 0,
             "ticks": ""
            },
            "colorscale": [
             [
              0,
              "#0d0887"
             ],
             [
              0.1111111111111111,
              "#46039f"
             ],
             [
              0.2222222222222222,
              "#7201a8"
             ],
             [
              0.3333333333333333,
              "#9c179e"
             ],
             [
              0.4444444444444444,
              "#bd3786"
             ],
             [
              0.5555555555555556,
              "#d8576b"
             ],
             [
              0.6666666666666666,
              "#ed7953"
             ],
             [
              0.7777777777777778,
              "#fb9f3a"
             ],
             [
              0.8888888888888888,
              "#fdca26"
             ],
             [
              1,
              "#f0f921"
             ]
            ],
            "type": "surface"
           }
          ],
          "table": [
           {
            "cells": {
             "fill": {
              "color": "#EBF0F8"
             },
             "line": {
              "color": "white"
             }
            },
            "header": {
             "fill": {
              "color": "#C8D4E3"
             },
             "line": {
              "color": "white"
             }
            },
            "type": "table"
           }
          ]
         },
         "layout": {
          "annotationdefaults": {
           "arrowcolor": "#2a3f5f",
           "arrowhead": 0,
           "arrowwidth": 1
          },
          "autotypenumbers": "strict",
          "coloraxis": {
           "colorbar": {
            "outlinewidth": 0,
            "ticks": ""
           }
          },
          "colorscale": {
           "diverging": [
            [
             0,
             "#8e0152"
            ],
            [
             0.1,
             "#c51b7d"
            ],
            [
             0.2,
             "#de77ae"
            ],
            [
             0.3,
             "#f1b6da"
            ],
            [
             0.4,
             "#fde0ef"
            ],
            [
             0.5,
             "#f7f7f7"
            ],
            [
             0.6,
             "#e6f5d0"
            ],
            [
             0.7,
             "#b8e186"
            ],
            [
             0.8,
             "#7fbc41"
            ],
            [
             0.9,
             "#4d9221"
            ],
            [
             1,
             "#276419"
            ]
           ],
           "sequential": [
            [
             0,
             "#0d0887"
            ],
            [
             0.1111111111111111,
             "#46039f"
            ],
            [
             0.2222222222222222,
             "#7201a8"
            ],
            [
             0.3333333333333333,
             "#9c179e"
            ],
            [
             0.4444444444444444,
             "#bd3786"
            ],
            [
             0.5555555555555556,
             "#d8576b"
            ],
            [
             0.6666666666666666,
             "#ed7953"
            ],
            [
             0.7777777777777778,
             "#fb9f3a"
            ],
            [
             0.8888888888888888,
             "#fdca26"
            ],
            [
             1,
             "#f0f921"
            ]
           ],
           "sequentialminus": [
            [
             0,
             "#0d0887"
            ],
            [
             0.1111111111111111,
             "#46039f"
            ],
            [
             0.2222222222222222,
             "#7201a8"
            ],
            [
             0.3333333333333333,
             "#9c179e"
            ],
            [
             0.4444444444444444,
             "#bd3786"
            ],
            [
             0.5555555555555556,
             "#d8576b"
            ],
            [
             0.6666666666666666,
             "#ed7953"
            ],
            [
             0.7777777777777778,
             "#fb9f3a"
            ],
            [
             0.8888888888888888,
             "#fdca26"
            ],
            [
             1,
             "#f0f921"
            ]
           ]
          },
          "colorway": [
           "#636efa",
           "#EF553B",
           "#00cc96",
           "#ab63fa",
           "#FFA15A",
           "#19d3f3",
           "#FF6692",
           "#B6E880",
           "#FF97FF",
           "#FECB52"
          ],
          "font": {
           "color": "#2a3f5f"
          },
          "geo": {
           "bgcolor": "white",
           "lakecolor": "white",
           "landcolor": "#E5ECF6",
           "showlakes": true,
           "showland": true,
           "subunitcolor": "white"
          },
          "hoverlabel": {
           "align": "left"
          },
          "hovermode": "closest",
          "mapbox": {
           "style": "light"
          },
          "paper_bgcolor": "white",
          "plot_bgcolor": "#E5ECF6",
          "polar": {
           "angularaxis": {
            "gridcolor": "white",
            "linecolor": "white",
            "ticks": ""
           },
           "bgcolor": "#E5ECF6",
           "radialaxis": {
            "gridcolor": "white",
            "linecolor": "white",
            "ticks": ""
           }
          },
          "scene": {
           "xaxis": {
            "backgroundcolor": "#E5ECF6",
            "gridcolor": "white",
            "gridwidth": 2,
            "linecolor": "white",
            "showbackground": true,
            "ticks": "",
            "zerolinecolor": "white"
           },
           "yaxis": {
            "backgroundcolor": "#E5ECF6",
            "gridcolor": "white",
            "gridwidth": 2,
            "linecolor": "white",
            "showbackground": true,
            "ticks": "",
            "zerolinecolor": "white"
           },
           "zaxis": {
            "backgroundcolor": "#E5ECF6",
            "gridcolor": "white",
            "gridwidth": 2,
            "linecolor": "white",
            "showbackground": true,
            "ticks": "",
            "zerolinecolor": "white"
           }
          },
          "shapedefaults": {
           "line": {
            "color": "#2a3f5f"
           }
          },
          "ternary": {
           "aaxis": {
            "gridcolor": "white",
            "linecolor": "white",
            "ticks": ""
           },
           "baxis": {
            "gridcolor": "white",
            "linecolor": "white",
            "ticks": ""
           },
           "bgcolor": "#E5ECF6",
           "caxis": {
            "gridcolor": "white",
            "linecolor": "white",
            "ticks": ""
           }
          },
          "title": {
           "x": 0.05
          },
          "xaxis": {
           "automargin": true,
           "gridcolor": "white",
           "linecolor": "white",
           "ticks": "",
           "title": {
            "standoff": 15
           },
           "zerolinecolor": "white",
           "zerolinewidth": 2
          },
          "yaxis": {
           "automargin": true,
           "gridcolor": "white",
           "linecolor": "white",
           "ticks": "",
           "title": {
            "standoff": 15
           },
           "zerolinecolor": "white",
           "zerolinewidth": 2
          }
         }
        },
        "xaxis": {
         "anchor": "y",
         "autorange": true,
         "domain": [
          0,
          1
         ],
         "range": [
          -0.06514732965009208,
          1.0651473296500922
         ],
         "title": {
          "text": "horsepower"
         },
         "type": "linear"
        },
        "yaxis": {
         "anchor": "x",
         "autorange": true,
         "domain": [
          0,
          1
         ],
         "range": [
          -0.0774278215223097,
          1.0774278215223096
         ],
         "title": {
          "text": "weight"
         },
         "type": "linear"
        }
       }
      },
      "image/png": "[encoded data removed]",
      "text/html": [
       "<div>                            <div id=\"a10c48d8-139d-4273-89ee-afc1bb82db77\" class=\"plotly-graph-div\" style=\"height:525px; width:100%;\"></div>            <script type=\"text/javascript\">                require([\"plotly\"], function(Plotly) {                    window.PLOTLYENV=window.PLOTLYENV || {};                                    if (document.getElementById(\"a10c48d8-139d-4273-89ee-afc1bb82db77\")) {                    Plotly.newPlot(                        \"a10c48d8-139d-4273-89ee-afc1bb82db77\",                        [{\"hovertemplate\":\"horsepower=%{x}<br>weight=%{y}<br>Cluster=%{marker.color}<extra></extra>\",\"legendgroup\":\"\",\"marker\":{\"color\":[0,1,1,1,1,1,1,1,1,1,1,1,1,1,2,0,0,2,2,2,0,2,2,2,0,1,1,1,1,2,2,2,0,0,0,0,0,1,1,1,1,1,1,1,0,2,0,0,2,2,2,2,2,2,2,2,2,2,2,2,2,1,1,1,1,1,1,1,1,1,2,1,1,1,1,0,2,0,2,2,2,2,2,2,1,1,1,1,1,1,1,1,1,1,1,1,0,0,0,0,0,2,1,1,1,1,0,2,2,2,2,2,0,2,1,1,2,2,2,0,1,0,0,1,0,0,0,2,2,2,2,0,0,0,1,1,1,1,1,2,2,2,2,2,2,2,2,2,2,2,0,0,0,0,1,1,1,1,0,0,0,0,0,0,0,2,2,0,2,0,2,2,0,2,0,0,0,0,0,2,2,2,2,2,2,1,1,1,1,0,0,0,0,2,2,2,2,0,0,0,0,2,2,2,2,0,1,0,0,0,1,1,1,1,2,2,2,2,2,1,0,1,1,0,0,0,0,1,1,1,1,2,0,2,0,2,2,2,2,0,0,0,2,2,2,2,2,0,1,1,0,0,0,0,0,0,0,0,0,0,1,1,0,1,2,2,2,2,2,0,0,2,0,0,0,0,2,2,0,0,0,0,0,1,1,1,1,1,1,0,1,2,2,2,2,0,1,0,0,2,2,2,2,0,0,0,2,2,2,2,2,0,0,0,0,2,0,2,2,2,2,0,2,2,2,0,0,2,2,2,0,2,2,2,2,2,0,0,2,2,2,2,2,2,2,2,2,2,2,2,2,2,0,2,0,0,0,0,0,0,0,0,2,2,2,2,2,0,0,2,2,2,2,2,2,2,2,2,2,2,0,0,2,0,0,2,0,0,2,2,2,0],\"coloraxis\":\"coloraxis\",\"symbol\":\"circle\"},\"mode\":\"markers\",\"name\":\"\",\"orientation\":\"v\",\"showlegend\":false,\"type\":\"scatter\",\"x\":[0.4565217391304348,0.6467391304347826,0.5652173913043478,0.5652173913043478,0.5108695652173912,0.826086956521739,0.9456521739130435,0.9184782608695652,0.9728260869565217,0.7826086956521738,0.6739130434782609,0.6195652173913043,0.5652173913043478,0.9728260869565217,0.2663043478260869,0.2663043478260869,0.27717391304347827,0.21195652173913043,0.2282608695652174,0.0,0.22282608695652173,0.2391304347826087,0.2663043478260869,0.36413043478260865,0.2391304347826087,0.9184782608695652,0.8369565217391304,0.8913043478260869,0.7989130434782608,0.2282608695652174,0.2391304347826087,0.2663043478260869,0.2934782608695652,0.32065217391304346,0.2934782608695652,0.2282608695652174,0.2934782608695652,0.6467391304347826,0.7010869565217391,0.5815217391304348,0.5652173913043478,0.7282608695652174,0.6739130434782609,0.7010869565217391,0.34782608695652173,0.14130434782608692,0.2934782608695652,0.2282608695652174,0.21739130434782605,0.2391304347826087,0.13043478260869562,0.16304347826086957,0.1032608695652174,0.125,0.07608695652173914,0.13043478260869562,0.2663043478260869,0.18478260869565216,0.04347826086956519,0.2391304347826087,0.21739130434782605,0.6467391304347826,0.7010869565217391,0.5652173913043478,0.5815217391304348,0.5652173913043478,0.8804347826086956,0.592391304347826,0.6195652173913043,0.7826086956521738,0.27717391304347827,0.5652173913043478,0.4565217391304348,0.5108695652173912,0.5652173913043478,0.3586956521739131,0.16304347826086957,0.22282608695652173,0.125,0.21739130434782605,0.25,0.27717391304347827,0.18478260869565216,0.2282608695652174,0.7010869565217391,0.5652173913043478,0.5380434782608695,0.4945652173913043,0.5652173913043478,0.826086956521739,0.5652173913043478,0.608695652173913,0.5652173913043478,0.9184782608695652,0.9728260869565217,0.7010869565217391,0.32065217391304346,0.2934782608695652,0.2934782608695652,0.2282608695652174,0.2663043478260869,0.0,0.5652173913043478,0.6576086956521738,0.6739130434782609,0.7282608695652174,0.2934782608695652,0.2282608695652174,0.14130434782608692,0.26086956521739124,0.2391304347826087,0.21195652173913043,0.3315217391304348,0.2391304347826087,0.5380434782608695,1.0,0.016304347826086973,0.1576086956521739,0.24456521739130432,0.3586956521739131,0.5652173913043478,0.34782608695652173,0.4130434782608695,0.7282608695652174,0.2663043478260869,0.2934782608695652,0.2934782608695652,0.1141304347826087,0.18478260869565216,0.1032608695652174,0.1576086956521739,0.2934782608695652,0.34782608695652173,0.32065217391304346,0.5108695652173912,0.5652173913043478,0.5652173913043478,0.5108695652173912,0.5652173913043478,0.20108695652173914,0.1141304347826087,0.17391304347826086,0.03260869565217389,0.08152173913043476,0.1576086956521739,0.1576086956521739,0.1576086956521739,0.27717391304347827,0.2554347826086957,0.1141304347826087,0.2663043478260869,0.32065217391304346,0.14130434782608692,0.14130434782608692,0.6739130434782609,0.5380434782608695,0.5652173913043478,0.5543478260869565,0.34782608695652173,0.32065217391304346,0.34782608695652173,0.2663043478260869,0.34782608695652173,0.34782608695652173,0.45108695652173914,0.1576086956521739,0.20108695652173914,0.2934782608695652,0.17391304347826086,0.2717391304347826,0.1358695652173913,0.27717391304347827,0.27717391304347827,0.13043478260869562,0.2391304347826087,0.2663043478260869,0.2282608695652174,0.28260869565217395,0.375,0.03804347826086957,0.21739130434782605,0.19021739130434784,0.25,0.17934782608695649,0.20108695652173914,0.5108695652173912,0.5652173913043478,0.40217391304347827,0.5760869565217391,0.2934782608695652,0.32065217391304346,0.19021739130434784,0.2391304347826087,0.03260869565217389,0.07608695652173914,0.13043478260869562,0.03804347826086957,0.2934782608695652,0.17391304347826086,0.34782608695652173,0.2663043478260869,0.1358695652173913,0.13043478260869562,0.1576086956521739,0.14130434782608692,0.30434782608695654,0.5652173913043478,0.2282608695652174,0.3369565217391304,0.40217391304347827,0.7282608695652174,0.5380434782608695,0.4565217391304348,0.5652173913043478,0.11956521739130432,0.18478260869565216,0.06521739130434784,0.2717391304347826,0.13043478260869562,0.5380434782608695,0.34782608695652173,0.5380434782608695,0.4565217391304348,0.34782608695652173,0.32065217391304346,0.2934782608695652,0.28260869565217395,0.7282608695652174,0.6739130434782609,0.7826086956521738,0.5597826086956521,0.17391304347826086,0.2282608695652174,0.1576086956521739,0.23369565217391303,0.09239130434782605,0.20108695652173914,0.1141304347826087,0.17391304347826086,0.27717391304347827,0.34782608695652173,0.34782608695652173,0.010869565217391297,0.10869565217391303,0.03260869565217389,0.13043478260869562,0.07608695652173914,0.34782608695652173,0.5108695652173912,0.5054347826086957,0.32065217391304346,0.2663043478260869,0.21195652173913043,0.2282608695652174,0.2934782608695652,0.2391304347826087,0.32065217391304346,0.21195652173913043,0.34782608695652173,0.40217391304347827,0.5380434782608695,0.6467391304347826,0.5054347826086957,0.5108695652173912,0.11956521739130432,0.2663043478260869,0.27717391304347827,0.1576086956521739,0.2663043478260869,0.32065217391304346,0.21195652173913043,0.27717391304347827,0.3097826086956521,0.42934782608695654,0.375,0.47282608695652173,0.1358695652173913,0.11956521739130432,0.375,0.21195652173913043,0.2282608695652174,0.2391304347826087,0.34782608695652173,0.4565217391304348,0.45108695652173914,0.5,0.48369565217391297,0.592391304347826,0.5217391304347826,0.42934782608695654,0.5652173913043478,0.1358695652173913,0.1032608695652174,0.18478260869565216,0.18478260869565216,0.1684782608695652,0.42934782608695654,0.1358695652173913,0.2391304347826087,0.13043478260869562,0.13043478260869562,0.1032608695652174,0.125,0.2391304347826087,0.375,0.375,0.2391304347826087,0.16304347826086957,0.07608695652173914,0.13043478260869562,0.1032608695652174,0.2391304347826087,0.2282608695652174,0.2391304347826087,0.2391304347826087,0.17391304347826086,0.2391304347826087,0.1576086956521739,0.25,0.1576086956521739,0.1032608695652174,0.32065217391304346,0.1032608695652174,0.010869565217391297,0.010869565217391297,0.1141304347826087,0.1141304347826087,0.1141304347826087,0.1141304347826087,0.08695652173913043,0.46739130434782605,0.2934782608695652,0.2282608695652174,0.14130434782608692,0.20652173913043476,0.20652173913043476,0.25,0.34782608695652173,0.20652173913043476,0.06521739130434784,0.09782608695652173,0.07608695652173914,0.1141304347826087,0.1032608695652174,0.08695652173913043,0.11956521739130432,0.09239130434782605,0.1032608695652174,0.1032608695652174,0.15217391304347827,0.1576086956521739,0.1576086956521739,0.2934782608695652,0.15217391304347827,0.18478260869565216,0.16304347826086957,0.3804347826086957,0.40217391304347827,0.34782608695652173,0.32065217391304346,0.2282608695652174,0.21195652173913043,0.2282608695652174,0.2282608695652174,0.2282608695652174,0.21195652173913043,0.20652173913043476,0.2391304347826087,0.25,0.15217391304347827,0.11956521739130432,0.11956521739130432,0.09239130434782605,0.13043478260869562,0.2282608695652174,0.1576086956521739,0.13043478260869562,0.1141304347826087,0.1141304347826087,0.1141304347826087,0.34782608695652173,0.21195652173913043,0.25,0.3586956521739131,0.2717391304347826,0.20652173913043476,0.2391304347826087,0.21739130434782605,0.03260869565217389,0.20652173913043476,0.17934782608695649,0.19565217391304346],\"xaxis\":\"x\",\"y\":[0.5361497022965693,0.5897363198185427,0.5168698610717324,0.5160192798412249,0.5205557130705982,0.7734618656081657,0.7771477176070315,0.7652395803799262,0.797278140062376,0.6342500708817692,0.5528777998298838,0.5659200453643324,0.6090161610433796,0.4176353841791891,0.21519705131840094,0.3459030337397222,0.3291749362064077,0.2761553728381061,0.14658349872412813,0.06294301105755595,0.3002551743691523,0.23164162177487946,0.21604763254890846,0.1760703147150553,0.2934505245250921,0.8511482846611852,0.7833853132974199,0.7850864757584349,0.8843209526509782,0.14658349872412813,0.18457612702013038,0.17436915225404026,0.2894811454493904,0.5177204423022399,0.4865324638502977,0.47887723277573013,0.4749078537000283,0.736036291465835,0.8083356960589737,0.7204423022398639,0.7039977317833853,0.9475474907853699,0.8882903317266798,1.0,0.3824780266515452,0.22540402608449106,0.4732066912390134,0.43266231925148857,0.17210093563935358,0.14459880918627732,0.13070598242132125,0.1281542387297987,0.045364332293734044,0.0,0.06265948398072019,0.0969662602778566,0.1885455060958322,0.14544939041678484,0.18174085625177205,0.22540402608449106,0.17380209810036862,0.7544655514601645,0.7859370569889425,0.7150552877799831,0.713354125318968,0.58378225120499,0.8562517720442303,0.8191097249787355,0.8060674794442869,0.7964275588318684,0.20328891409129568,0.6461582081088745,0.7045647859370571,0.7601360929968811,0.6986107173235044,0.374255741423306,0.25460731499858236,0.3872979869577545,0.16331159625744263,0.22171817408562522,0.19138077686419053,0.2531896796144032,0.1562234193365466,0.13807768641905305,0.7051318400907286,0.58378225120499,0.6733768074851149,0.68868726963425,0.613552594272753,0.9466969095548624,0.8083356960589737,0.779699461298554,0.7439750496172385,0.8851715338814857,0.9464133824780266,0.62602778565353,0.42755883186844346,0.47207258293167,0.37765806634533594,0.3992061241848597,0.36603345619506666,0.09554862489367733,0.9594556280124752,0.9336546640204139,0.8622058406577827,0.818259143748228,0.3334278423589453,0.18882903317266797,0.22341933654664026,0.21718174085625175,0.1448823362631131,0.19761837255457892,0.24354975900198472,0.18485965409696625,0.7000283527076835,0.7555996597675078,0.07201587751630278,0.15452225687553167,0.2747377374539268,0.35582648142897644,0.5063793592288064,0.2968528494471222,0.3385313297419904,0.5815140345903035,0.4221718174085626,0.36518287496455915,0.4885171533881486,0.09554862489367733,0.2375956903884321,0.06322653813439183,0.2633966543804933,0.6146867025800965,0.5724411681315565,0.5670541536716757,0.7167564502409981,0.8749645591153955,0.8063510065211227,0.8576694074284094,0.7496455911539551,0.1718174085625177,0.09923447689254328,0.1947831017862206,0.010206974766090171,0.11057555996597679,0.14516586333994896,0.14034590303373973,0.17947263963708537,0.24836971930819396,0.22058406577828182,0.10972497873546927,0.46810320385596826,0.5233909838389567,0.515735752764389,0.43804933371136945,0.8661752197334845,0.8015310462149136,0.8179756166713922,0.8630564218882902,0.6504111142614121,0.6475758434930535,0.6002268216614687,0.6158208108874398,0.4043096115679048,0.45591153955202723,0.44116813155656365,0.1582081088743975,0.29089878083356957,0.368868726963425,0.27757300822228526,0.30876098667422736,0.1729515168698611,0.26424723561100083,0.3887156223419337,0.09186277289481148,0.4530762687836688,0.3064927700595407,0.381060391267366,0.37765806634533594,0.2999716472923164,0.05160192798412244,0.24128154238729804,0.17210093563935358,0.2719024666855685,0.18202438332860793,0.16699744825630847,0.7377374539268501,0.7306492770059542,0.666005103487383,0.7377374539268501,0.4593138644740573,0.49333711369435784,0.3966543804933371,0.41735185710235323,0.11964842642472362,0.1562234193365466,0.09186277289481148,0.05160192798412244,0.5778281825914374,0.5559965976750779,0.5761270201304224,0.4479727814006238,0.06010774028919763,0.10688970796711084,0.15367167564502415,0.2699177771477176,0.43578111709668277,0.6597675077969946,0.4698043663169833,0.37340516019279846,0.625744258576694,0.7845194216047632,0.692373121633116,0.6399206124184861,0.6073149985823646,0.12248369719308194,0.15367167564502415,0.06010774028919763,0.1947831017862206,0.09413098950949816,0.6427558831868444,0.6937907570172951,0.7164729231641621,0.7604196200737171,0.5406861355259427,0.5137510632265382,0.5718741139778848,0.542103770910122,0.7391550893110291,0.723561100085058,0.7689254323787921,0.7717607031471506,0.092713354125319,0.3195350155939892,0.18485965409696625,0.3237879217465268,0.12418485965409698,0.13098950949815713,0.10547207258293168,0.1635951233342784,0.3407995463566771,0.27984122483697194,0.31386447405727247,0.10547207258293168,0.053019563368301714,0.10547207258293168,0.12957187411397786,0.053019563368301714,0.4967394386163879,0.601644457045648,0.5548624893677346,0.5449390416784804,0.43719875248086193,0.3833286078820527,0.31386447405727247,0.5151686986107173,0.45279274170683304,0.5009923447689254,0.41309895094981575,0.5690388432095265,0.5094981570740006,0.5137510632265382,0.5194216047632549,0.4513751063226539,0.699461298554012,0.15367167564502415,0.2685001417635384,0.1947831017862206,0.1749362064077119,0.25574142330592575,0.3209526509781684,0.3521406294301106,0.22455344485398354,0.3450524525092147,0.43294584632832434,0.33512900481996033,0.5094981570740006,0.10688970796711084,0.1480011341083074,0.4627161893960874,0.3904167848029487,0.36206407711936495,0.46838673093280414,0.49532180323220865,0.6314148001134109,0.5988091862772894,0.6640204139495322,0.6285795293450523,0.7788488800680465,0.69208959455628,0.5647859370569889,0.6597675077969946,0.08846044797278141,0.10263680181457335,0.08562517720442298,0.29968812021548064,0.5435214062943011,0.648426424723561,0.4471222001701163,0.5123334278423589,0.16643039410263682,0.15225404026084488,0.11539552027218603,0.14658349872412813,0.29968812021548064,0.2784235894527928,0.3081939325205557,0.26736603345619503,0.15055287779982984,0.10065211227672244,0.1437482279557698,0.11511199319535015,0.3019563368301673,0.3563935355826482,0.39410263680181457,0.5012758718457613,0.16302806918060675,0.3113127303657499,0.2633966543804933,0.23277573008222285,0.18485965409696625,0.14091295718741137,0.3365466402041395,0.14091295718741137,0.13382478026651545,0.20470654947547495,0.3790757017295152,0.46413382478026655,0.06719591721009355,0.15083640487666572,0.06577828182591439,0.3677346186560817,0.22880635100652114,0.25148851715338816,0.19194783101786217,0.24865324638502972,0.2897646725262263,0.2855117663736887,0.31528210944145163,0.21888290331726679,0.040260844910688987,0.07428409413098946,0.04167848029486815,0.1281542387297987,0.10263680181457335,0.1239013325772611,0.10547207258293168,0.17068330025517442,0.12248369719308194,0.21746526793308762,0.1635951233342784,0.16926566487099515,0.20895945562801244,0.28409413098950953,0.2897646725262263,0.4584632832435498,0.4386163878650411,0.36489934788772327,0.37340516019279846,0.5109157924581798,0.5988091862772894,0.4102636801814573,0.5250921462999717,0.2812588602211511,0.29118230791040545,0.22171817408562522,0.272753047916076,0.2585766940742841,0.31811738020981006,0.3549759001984689,0.10405443719875251,0.11681315565636519,0.10121916643039408,0.14516586333994896,0.14516586333994896,0.15508931102920331,0.16784802948681599,0.1791891125602495,0.09980153104621492,0.09980153104621492,0.10830734335129011,0.37765806634533594,0.39750496172384464,0.27558831868443434,0.34647008789339384,0.29827048483130136,0.2146299971647292,0.3790757017295152,0.33371136943578117,0.14658349872412813,0.19336546640204144,0.28692940175786785,0.31386447405727247],\"yaxis\":\"y\"}],                        {\"coloraxis\":{\"colorbar\":{\"title\":{\"text\":\"Cluster\"}},\"colorscale\":[[0.0,\"#0d0887\"],[0.1111111111111111,\"#46039f\"],[0.2222222222222222,\"#7201a8\"],[0.3333333333333333,\"#9c179e\"],[0.4444444444444444,\"#bd3786\"],[0.5555555555555556,\"#d8576b\"],[0.6666666666666666,\"#ed7953\"],[0.7777777777777778,\"#fb9f3a\"],[0.8888888888888888,\"#fdca26\"],[1.0,\"#f0f921\"]]},\"legend\":{\"tracegroupgap\":0},\"margin\":{\"t\":60},\"template\":{\"data\":{\"bar\":[{\"error_x\":{\"color\":\"#2a3f5f\"},\"error_y\":{\"color\":\"#2a3f5f\"},\"marker\":{\"line\":{\"color\":\"#E5ECF6\",\"width\":0.5},\"pattern\":{\"fillmode\":\"overlay\",\"size\":10,\"solidity\":0.2}},\"type\":\"bar\"}],\"barpolar\":[{\"marker\":{\"line\":{\"color\":\"#E5ECF6\",\"width\":0.5},\"pattern\":{\"fillmode\":\"overlay\",\"size\":10,\"solidity\":0.2}},\"type\":\"barpolar\"}],\"carpet\":[{\"aaxis\":{\"endlinecolor\":\"#2a3f5f\",\"gridcolor\":\"white\",\"linecolor\":\"white\",\"minorgridcolor\":\"white\",\"startlinecolor\":\"#2a3f5f\"},\"baxis\":{\"endlinecolor\":\"#2a3f5f\",\"gridcolor\":\"white\",\"linecolor\":\"white\",\"minorgridcolor\":\"white\",\"startlinecolor\":\"#2a3f5f\"},\"type\":\"carpet\"}],\"choropleth\":[{\"colorbar\":{\"outlinewidth\":0,\"ticks\":\"\"},\"type\":\"choropleth\"}],\"contour\":[{\"colorbar\":{\"outlinewidth\":0,\"ticks\":\"\"},\"colorscale\":[[0.0,\"#0d0887\"],[0.1111111111111111,\"#46039f\"],[0.2222222222222222,\"#7201a8\"],[0.3333333333333333,\"#9c179e\"],[0.4444444444444444,\"#bd3786\"],[0.5555555555555556,\"#d8576b\"],[0.6666666666666666,\"#ed7953\"],[0.7777777777777778,\"#fb9f3a\"],[0.8888888888888888,\"#fdca26\"],[1.0,\"#f0f921\"]],\"type\":\"contour\"}],\"contourcarpet\":[{\"colorbar\":{\"outlinewidth\":0,\"ticks\":\"\"},\"type\":\"contourcarpet\"}],\"heatmap\":[{\"colorbar\":{\"outlinewidth\":0,\"ticks\":\"\"},\"colorscale\":[[0.0,\"#0d0887\"],[0.1111111111111111,\"#46039f\"],[0.2222222222222222,\"#7201a8\"],[0.3333333333333333,\"#9c179e\"],[0.4444444444444444,\"#bd3786\"],[0.5555555555555556,\"#d8576b\"],[0.6666666666666666,\"#ed7953\"],[0.7777777777777778,\"#fb9f3a\"],[0.8888888888888888,\"#fdca26\"],[1.0,\"#f0f921\"]],\"type\":\"heatmap\"}],\"heatmapgl\":[{\"colorbar\":{\"outlinewidth\":0,\"ticks\":\"\"},\"colorscale\":[[0.0,\"#0d0887\"],[0.1111111111111111,\"#46039f\"],[0.2222222222222222,\"#7201a8\"],[0.3333333333333333,\"#9c179e\"],[0.4444444444444444,\"#bd3786\"],[0.5555555555555556,\"#d8576b\"],[0.6666666666666666,\"#ed7953\"],[0.7777777777777778,\"#fb9f3a\"],[0.8888888888888888,\"#fdca26\"],[1.0,\"#f0f921\"]],\"type\":\"heatmapgl\"}],\"histogram\":[{\"marker\":{\"pattern\":{\"fillmode\":\"overlay\",\"size\":10,\"solidity\":0.2}},\"type\":\"histogram\"}],\"histogram2d\":[{\"colorbar\":{\"outlinewidth\":0,\"ticks\":\"\"},\"colorscale\":[[0.0,\"#0d0887\"],[0.1111111111111111,\"#46039f\"],[0.2222222222222222,\"#7201a8\"],[0.3333333333333333,\"#9c179e\"],[0.4444444444444444,\"#bd3786\"],[0.5555555555555556,\"#d8576b\"],[0.6666666666666666,\"#ed7953\"],[0.7777777777777778,\"#fb9f3a\"],[0.8888888888888888,\"#fdca26\"],[1.0,\"#f0f921\"]],\"type\":\"histogram2d\"}],\"histogram2dcontour\":[{\"colorbar\":{\"outlinewidth\":0,\"ticks\":\"\"},\"colorscale\":[[0.0,\"#0d0887\"],[0.1111111111111111,\"#46039f\"],[0.2222222222222222,\"#7201a8\"],[0.3333333333333333,\"#9c179e\"],[0.4444444444444444,\"#bd3786\"],[0.5555555555555556,\"#d8576b\"],[0.6666666666666666,\"#ed7953\"],[0.7777777777777778,\"#fb9f3a\"],[0.8888888888888888,\"#fdca26\"],[1.0,\"#f0f921\"]],\"type\":\"histogram2dcontour\"}],\"mesh3d\":[{\"colorbar\":{\"outlinewidth\":0,\"ticks\":\"\"},\"type\":\"mesh3d\"}],\"parcoords\":[{\"line\":{\"colorbar\":{\"outlinewidth\":0,\"ticks\":\"\"}},\"type\":\"parcoords\"}],\"pie\":[{\"automargin\":true,\"type\":\"pie\"}],\"scatter\":[{\"marker\":{\"colorbar\":{\"outlinewidth\":0,\"ticks\":\"\"}},\"type\":\"scatter\"}],\"scatter3d\":[{\"line\":{\"colorbar\":{\"outlinewidth\":0,\"ticks\":\"\"}},\"marker\":{\"colorbar\":{\"outlinewidth\":0,\"ticks\":\"\"}},\"type\":\"scatter3d\"}],\"scattercarpet\":[{\"marker\":{\"colorbar\":{\"outlinewidth\":0,\"ticks\":\"\"}},\"type\":\"scattercarpet\"}],\"scattergeo\":[{\"marker\":{\"colorbar\":{\"outlinewidth\":0,\"ticks\":\"\"}},\"type\":\"scattergeo\"}],\"scattergl\":[{\"marker\":{\"colorbar\":{\"outlinewidth\":0,\"ticks\":\"\"}},\"type\":\"scattergl\"}],\"scattermapbox\":[{\"marker\":{\"colorbar\":{\"outlinewidth\":0,\"ticks\":\"\"}},\"type\":\"scattermapbox\"}],\"scatterpolar\":[{\"marker\":{\"colorbar\":{\"outlinewidth\":0,\"ticks\":\"\"}},\"type\":\"scatterpolar\"}],\"scatterpolargl\":[{\"marker\":{\"colorbar\":{\"outlinewidth\":0,\"ticks\":\"\"}},\"type\":\"scatterpolargl\"}],\"scatterternary\":[{\"marker\":{\"colorbar\":{\"outlinewidth\":0,\"ticks\":\"\"}},\"type\":\"scatterternary\"}],\"surface\":[{\"colorbar\":{\"outlinewidth\":0,\"ticks\":\"\"},\"colorscale\":[[0.0,\"#0d0887\"],[0.1111111111111111,\"#46039f\"],[0.2222222222222222,\"#7201a8\"],[0.3333333333333333,\"#9c179e\"],[0.4444444444444444,\"#bd3786\"],[0.5555555555555556,\"#d8576b\"],[0.6666666666666666,\"#ed7953\"],[0.7777777777777778,\"#fb9f3a\"],[0.8888888888888888,\"#fdca26\"],[1.0,\"#f0f921\"]],\"type\":\"surface\"}],\"table\":[{\"cells\":{\"fill\":{\"color\":\"#EBF0F8\"},\"line\":{\"color\":\"white\"}},\"header\":{\"fill\":{\"color\":\"#C8D4E3\"},\"line\":{\"color\":\"white\"}},\"type\":\"table\"}]},\"layout\":{\"annotationdefaults\":{\"arrowcolor\":\"#2a3f5f\",\"arrowhead\":0,\"arrowwidth\":1},\"autotypenumbers\":\"strict\",\"coloraxis\":{\"colorbar\":{\"outlinewidth\":0,\"ticks\":\"\"}},\"colorscale\":{\"diverging\":[[0,\"#8e0152\"],[0.1,\"#c51b7d\"],[0.2,\"#de77ae\"],[0.3,\"#f1b6da\"],[0.4,\"#fde0ef\"],[0.5,\"#f7f7f7\"],[0.6,\"#e6f5d0\"],[0.7,\"#b8e186\"],[0.8,\"#7fbc41\"],[0.9,\"#4d9221\"],[1,\"#276419\"]],\"sequential\":[[0.0,\"#0d0887\"],[0.1111111111111111,\"#46039f\"],[0.2222222222222222,\"#7201a8\"],[0.3333333333333333,\"#9c179e\"],[0.4444444444444444,\"#bd3786\"],[0.5555555555555556,\"#d8576b\"],[0.6666666666666666,\"#ed7953\"],[0.7777777777777778,\"#fb9f3a\"],[0.8888888888888888,\"#fdca26\"],[1.0,\"#f0f921\"]],\"sequentialminus\":[[0.0,\"#0d0887\"],[0.1111111111111111,\"#46039f\"],[0.2222222222222222,\"#7201a8\"],[0.3333333333333333,\"#9c179e\"],[0.4444444444444444,\"#bd3786\"],[0.5555555555555556,\"#d8576b\"],[0.6666666666666666,\"#ed7953\"],[0.7777777777777778,\"#fb9f3a\"],[0.8888888888888888,\"#fdca26\"],[1.0,\"#f0f921\"]]},\"colorway\":[\"#636efa\",\"#EF553B\",\"#00cc96\",\"#ab63fa\",\"#FFA15A\",\"#19d3f3\",\"#FF6692\",\"#B6E880\",\"#FF97FF\",\"#FECB52\"],\"font\":{\"color\":\"#2a3f5f\"},\"geo\":{\"bgcolor\":\"white\",\"lakecolor\":\"white\",\"landcolor\":\"#E5ECF6\",\"showlakes\":true,\"showland\":true,\"subunitcolor\":\"white\"},\"hoverlabel\":{\"align\":\"left\"},\"hovermode\":\"closest\",\"mapbox\":{\"style\":\"light\"},\"paper_bgcolor\":\"white\",\"plot_bgcolor\":\"#E5ECF6\",\"polar\":{\"angularaxis\":{\"gridcolor\":\"white\",\"linecolor\":\"white\",\"ticks\":\"\"},\"bgcolor\":\"#E5ECF6\",\"radialaxis\":{\"gridcolor\":\"white\",\"linecolor\":\"white\",\"ticks\":\"\"}},\"scene\":{\"xaxis\":{\"backgroundcolor\":\"#E5ECF6\",\"gridcolor\":\"white\",\"gridwidth\":2,\"linecolor\":\"white\",\"showbackground\":true,\"ticks\":\"\",\"zerolinecolor\":\"white\"},\"yaxis\":{\"backgroundcolor\":\"#E5ECF6\",\"gridcolor\":\"white\",\"gridwidth\":2,\"linecolor\":\"white\",\"showbackground\":true,\"ticks\":\"\",\"zerolinecolor\":\"white\"},\"zaxis\":{\"backgroundcolor\":\"#E5ECF6\",\"gridcolor\":\"white\",\"gridwidth\":2,\"linecolor\":\"white\",\"showbackground\":true,\"ticks\":\"\",\"zerolinecolor\":\"white\"}},\"shapedefaults\":{\"line\":{\"color\":\"#2a3f5f\"}},\"ternary\":{\"aaxis\":{\"gridcolor\":\"white\",\"linecolor\":\"white\",\"ticks\":\"\"},\"baxis\":{\"gridcolor\":\"white\",\"linecolor\":\"white\",\"ticks\":\"\"},\"bgcolor\":\"#E5ECF6\",\"caxis\":{\"gridcolor\":\"white\",\"linecolor\":\"white\",\"ticks\":\"\"}},\"title\":{\"x\":0.05},\"xaxis\":{\"automargin\":true,\"gridcolor\":\"white\",\"linecolor\":\"white\",\"ticks\":\"\",\"title\":{\"standoff\":15},\"zerolinecolor\":\"white\",\"zerolinewidth\":2},\"yaxis\":{\"automargin\":true,\"gridcolor\":\"white\",\"linecolor\":\"white\",\"ticks\":\"\",\"title\":{\"standoff\":15},\"zerolinecolor\":\"white\",\"zerolinewidth\":2}}},\"xaxis\":{\"anchor\":\"y\",\"domain\":[0.0,1.0],\"title\":{\"text\":\"horsepower\"}},\"yaxis\":{\"anchor\":\"x\",\"domain\":[0.0,1.0],\"title\":{\"text\":\"weight\"}}},                        {\"responsive\": true}                    ).then(function(){\n",
       "                            \n",
       "var gd = document.getElementById('a10c48d8-139d-4273-89ee-afc1bb82db77');\n",
       "var x = new MutationObserver(function (mutations, observer) {{\n",
       "        var display = window.getComputedStyle(gd).display;\n",
       "        if (!display || display === 'none') {{\n",
       "            console.log([gd, 'removed!']);\n",
       "            Plotly.purge(gd);\n",
       "            observer.disconnect();\n",
       "        }}\n",
       "}});\n",
       "\n",
       "// Listen for the removal of the full notebook cells\n",
       "var notebookContainer = gd.closest('#notebook-container');\n",
       "if (notebookContainer) {{\n",
       "    x.observe(notebookContainer, {childList: true});\n",
       "}}\n",
       "\n",
       "// Listen for the clearing of the current output cell\n",
       "var outputEl = gd.closest('.output');\n",
       "if (outputEl) {{\n",
       "    x.observe(outputEl, {childList: true});\n",
       "}}\n",
       "\n",
       "                        })                };                });            </script>        </div>"
      ]
     },
     "metadata": {},
     "output_type": "display_data"
    }
   ],
   "source": [
    "px.scatter(data_frame=dfsel, x='horsepower', y='weight', color=\"Cluster\")"
   ]
  },
  {
   "cell_type": "code",
   "execution_count": 58,
   "metadata": {
    "collapsed": false,
    "jupyter": {
     "outputs_hidden": false
    },
    "pycharm": {
     "name": "#%%\n"
    }
   },
   "outputs": [
    {
     "ename": "ValueError",
     "evalue": "Could not interpret value `Cluster` for parameter `hue`",
     "output_type": "error",
     "traceback": [
      "\u001b[0;31m---------------------------------------------------------------------------\u001b[0m",
      "\u001b[0;31mValueError\u001b[0m                                Traceback (most recent call last)",
      "\u001b[0;32m/var/folders/24/tg28vxls25l9mjvqrnh0plc80000gn/T/ipykernel_3583/3774673618.py\u001b[0m in \u001b[0;36m<module>\u001b[0;34m\u001b[0m\n\u001b[0;32m----> 1\u001b[0;31m \u001b[0msns\u001b[0m\u001b[0;34m.\u001b[0m\u001b[0mscatterplot\u001b[0m\u001b[0;34m(\u001b[0m\u001b[0mx\u001b[0m\u001b[0;34m=\u001b[0m\u001b[0;34m'cylinders'\u001b[0m\u001b[0;34m,\u001b[0m \u001b[0my\u001b[0m\u001b[0;34m=\u001b[0m\u001b[0;34m'weight'\u001b[0m\u001b[0;34m,\u001b[0m \u001b[0mhue\u001b[0m\u001b[0;34m=\u001b[0m \u001b[0;34m'Cluster'\u001b[0m\u001b[0;34m,\u001b[0m \u001b[0mdata\u001b[0m\u001b[0;34m=\u001b[0m\u001b[0mdf1\u001b[0m\u001b[0;34m,\u001b[0m \u001b[0mpalette\u001b[0m\u001b[0;34m=\u001b[0m\u001b[0;34m'Set2'\u001b[0m\u001b[0;34m)\u001b[0m\u001b[0;34m\u001b[0m\u001b[0;34m\u001b[0m\u001b[0m\n\u001b[0m",
      "\u001b[0;32m~/miniforge3/lib/python3.9/site-packages/seaborn/_decorators.py\u001b[0m in \u001b[0;36minner_f\u001b[0;34m(*args, **kwargs)\u001b[0m\n\u001b[1;32m     44\u001b[0m             )\n\u001b[1;32m     45\u001b[0m         \u001b[0mkwargs\u001b[0m\u001b[0;34m.\u001b[0m\u001b[0mupdate\u001b[0m\u001b[0;34m(\u001b[0m\u001b[0;34m{\u001b[0m\u001b[0mk\u001b[0m\u001b[0;34m:\u001b[0m \u001b[0marg\u001b[0m \u001b[0;32mfor\u001b[0m \u001b[0mk\u001b[0m\u001b[0;34m,\u001b[0m \u001b[0marg\u001b[0m \u001b[0;32min\u001b[0m \u001b[0mzip\u001b[0m\u001b[0;34m(\u001b[0m\u001b[0msig\u001b[0m\u001b[0;34m.\u001b[0m\u001b[0mparameters\u001b[0m\u001b[0;34m,\u001b[0m \u001b[0margs\u001b[0m\u001b[0;34m)\u001b[0m\u001b[0;34m}\u001b[0m\u001b[0;34m)\u001b[0m\u001b[0;34m\u001b[0m\u001b[0;34m\u001b[0m\u001b[0m\n\u001b[0;32m---> 46\u001b[0;31m         \u001b[0;32mreturn\u001b[0m \u001b[0mf\u001b[0m\u001b[0;34m(\u001b[0m\u001b[0;34m**\u001b[0m\u001b[0mkwargs\u001b[0m\u001b[0;34m)\u001b[0m\u001b[0;34m\u001b[0m\u001b[0;34m\u001b[0m\u001b[0m\n\u001b[0m\u001b[1;32m     47\u001b[0m     \u001b[0;32mreturn\u001b[0m \u001b[0minner_f\u001b[0m\u001b[0;34m\u001b[0m\u001b[0;34m\u001b[0m\u001b[0m\n\u001b[1;32m     48\u001b[0m \u001b[0;34m\u001b[0m\u001b[0m\n",
      "\u001b[0;32m~/miniforge3/lib/python3.9/site-packages/seaborn/relational.py\u001b[0m in \u001b[0;36mscatterplot\u001b[0;34m(x, y, hue, style, size, data, palette, hue_order, hue_norm, sizes, size_order, size_norm, markers, style_order, x_bins, y_bins, units, estimator, ci, n_boot, alpha, x_jitter, y_jitter, legend, ax, **kwargs)\u001b[0m\n\u001b[1;32m    806\u001b[0m \u001b[0;34m\u001b[0m\u001b[0m\n\u001b[1;32m    807\u001b[0m     \u001b[0mvariables\u001b[0m \u001b[0;34m=\u001b[0m \u001b[0m_ScatterPlotter\u001b[0m\u001b[0;34m.\u001b[0m\u001b[0mget_semantics\u001b[0m\u001b[0;34m(\u001b[0m\u001b[0mlocals\u001b[0m\u001b[0;34m(\u001b[0m\u001b[0;34m)\u001b[0m\u001b[0;34m)\u001b[0m\u001b[0;34m\u001b[0m\u001b[0;34m\u001b[0m\u001b[0m\n\u001b[0;32m--> 808\u001b[0;31m     p = _ScatterPlotter(\n\u001b[0m\u001b[1;32m    809\u001b[0m         \u001b[0mdata\u001b[0m\u001b[0;34m=\u001b[0m\u001b[0mdata\u001b[0m\u001b[0;34m,\u001b[0m \u001b[0mvariables\u001b[0m\u001b[0;34m=\u001b[0m\u001b[0mvariables\u001b[0m\u001b[0;34m,\u001b[0m\u001b[0;34m\u001b[0m\u001b[0;34m\u001b[0m\u001b[0m\n\u001b[1;32m    810\u001b[0m         \u001b[0mx_bins\u001b[0m\u001b[0;34m=\u001b[0m\u001b[0mx_bins\u001b[0m\u001b[0;34m,\u001b[0m \u001b[0my_bins\u001b[0m\u001b[0;34m=\u001b[0m\u001b[0my_bins\u001b[0m\u001b[0;34m,\u001b[0m\u001b[0;34m\u001b[0m\u001b[0;34m\u001b[0m\u001b[0m\n",
      "\u001b[0;32m~/miniforge3/lib/python3.9/site-packages/seaborn/relational.py\u001b[0m in \u001b[0;36m__init__\u001b[0;34m(self, data, variables, x_bins, y_bins, estimator, ci, n_boot, alpha, x_jitter, y_jitter, legend)\u001b[0m\n\u001b[1;32m    585\u001b[0m         )\n\u001b[1;32m    586\u001b[0m \u001b[0;34m\u001b[0m\u001b[0m\n\u001b[0;32m--> 587\u001b[0;31m         \u001b[0msuper\u001b[0m\u001b[0;34m(\u001b[0m\u001b[0;34m)\u001b[0m\u001b[0;34m.\u001b[0m\u001b[0m__init__\u001b[0m\u001b[0;34m(\u001b[0m\u001b[0mdata\u001b[0m\u001b[0;34m=\u001b[0m\u001b[0mdata\u001b[0m\u001b[0;34m,\u001b[0m \u001b[0mvariables\u001b[0m\u001b[0;34m=\u001b[0m\u001b[0mvariables\u001b[0m\u001b[0;34m)\u001b[0m\u001b[0;34m\u001b[0m\u001b[0;34m\u001b[0m\u001b[0m\n\u001b[0m\u001b[1;32m    588\u001b[0m \u001b[0;34m\u001b[0m\u001b[0m\n\u001b[1;32m    589\u001b[0m         \u001b[0mself\u001b[0m\u001b[0;34m.\u001b[0m\u001b[0malpha\u001b[0m \u001b[0;34m=\u001b[0m \u001b[0malpha\u001b[0m\u001b[0;34m\u001b[0m\u001b[0;34m\u001b[0m\u001b[0m\n",
      "\u001b[0;32m~/miniforge3/lib/python3.9/site-packages/seaborn/_core.py\u001b[0m in \u001b[0;36m__init__\u001b[0;34m(self, data, variables)\u001b[0m\n\u001b[1;32m    603\u001b[0m     \u001b[0;32mdef\u001b[0m \u001b[0m__init__\u001b[0m\u001b[0;34m(\u001b[0m\u001b[0mself\u001b[0m\u001b[0;34m,\u001b[0m \u001b[0mdata\u001b[0m\u001b[0;34m=\u001b[0m\u001b[0;32mNone\u001b[0m\u001b[0;34m,\u001b[0m \u001b[0mvariables\u001b[0m\u001b[0;34m=\u001b[0m\u001b[0;34m{\u001b[0m\u001b[0;34m}\u001b[0m\u001b[0;34m)\u001b[0m\u001b[0;34m:\u001b[0m\u001b[0;34m\u001b[0m\u001b[0;34m\u001b[0m\u001b[0m\n\u001b[1;32m    604\u001b[0m \u001b[0;34m\u001b[0m\u001b[0m\n\u001b[0;32m--> 605\u001b[0;31m         \u001b[0mself\u001b[0m\u001b[0;34m.\u001b[0m\u001b[0massign_variables\u001b[0m\u001b[0;34m(\u001b[0m\u001b[0mdata\u001b[0m\u001b[0;34m,\u001b[0m \u001b[0mvariables\u001b[0m\u001b[0;34m)\u001b[0m\u001b[0;34m\u001b[0m\u001b[0;34m\u001b[0m\u001b[0m\n\u001b[0m\u001b[1;32m    606\u001b[0m \u001b[0;34m\u001b[0m\u001b[0m\n\u001b[1;32m    607\u001b[0m         \u001b[0;32mfor\u001b[0m \u001b[0mvar\u001b[0m\u001b[0;34m,\u001b[0m \u001b[0mcls\u001b[0m \u001b[0;32min\u001b[0m \u001b[0mself\u001b[0m\u001b[0;34m.\u001b[0m\u001b[0m_semantic_mappings\u001b[0m\u001b[0;34m.\u001b[0m\u001b[0mitems\u001b[0m\u001b[0;34m(\u001b[0m\u001b[0;34m)\u001b[0m\u001b[0;34m:\u001b[0m\u001b[0;34m\u001b[0m\u001b[0;34m\u001b[0m\u001b[0m\n",
      "\u001b[0;32m~/miniforge3/lib/python3.9/site-packages/seaborn/_core.py\u001b[0m in \u001b[0;36massign_variables\u001b[0;34m(self, data, variables)\u001b[0m\n\u001b[1;32m    666\u001b[0m         \u001b[0;32melse\u001b[0m\u001b[0;34m:\u001b[0m\u001b[0;34m\u001b[0m\u001b[0;34m\u001b[0m\u001b[0m\n\u001b[1;32m    667\u001b[0m             \u001b[0mself\u001b[0m\u001b[0;34m.\u001b[0m\u001b[0minput_format\u001b[0m \u001b[0;34m=\u001b[0m \u001b[0;34m\"long\"\u001b[0m\u001b[0;34m\u001b[0m\u001b[0;34m\u001b[0m\u001b[0m\n\u001b[0;32m--> 668\u001b[0;31m             plot_data, variables = self._assign_variables_longform(\n\u001b[0m\u001b[1;32m    669\u001b[0m                 \u001b[0mdata\u001b[0m\u001b[0;34m,\u001b[0m \u001b[0;34m**\u001b[0m\u001b[0mvariables\u001b[0m\u001b[0;34m,\u001b[0m\u001b[0;34m\u001b[0m\u001b[0;34m\u001b[0m\u001b[0m\n\u001b[1;32m    670\u001b[0m             )\n",
      "\u001b[0;32m~/miniforge3/lib/python3.9/site-packages/seaborn/_core.py\u001b[0m in \u001b[0;36m_assign_variables_longform\u001b[0;34m(self, data, **kwargs)\u001b[0m\n\u001b[1;32m    901\u001b[0m \u001b[0;34m\u001b[0m\u001b[0m\n\u001b[1;32m    902\u001b[0m                 \u001b[0merr\u001b[0m \u001b[0;34m=\u001b[0m \u001b[0;34mf\"Could not interpret value `{val}` for parameter `{key}`\"\u001b[0m\u001b[0;34m\u001b[0m\u001b[0;34m\u001b[0m\u001b[0m\n\u001b[0;32m--> 903\u001b[0;31m                 \u001b[0;32mraise\u001b[0m \u001b[0mValueError\u001b[0m\u001b[0;34m(\u001b[0m\u001b[0merr\u001b[0m\u001b[0;34m)\u001b[0m\u001b[0;34m\u001b[0m\u001b[0;34m\u001b[0m\u001b[0m\n\u001b[0m\u001b[1;32m    904\u001b[0m \u001b[0;34m\u001b[0m\u001b[0m\n\u001b[1;32m    905\u001b[0m             \u001b[0;32melse\u001b[0m\u001b[0;34m:\u001b[0m\u001b[0;34m\u001b[0m\u001b[0;34m\u001b[0m\u001b[0m\n",
      "\u001b[0;31mValueError\u001b[0m: Could not interpret value `Cluster` for parameter `hue`"
     ]
    }
   ],
   "source": [
    "sns.scatterplot(x='cylinders', y='weight', hue= 'Cluster', data=df1, palette='Set2')"
   ]
  },
  {
   "cell_type": "markdown",
   "metadata": {},
   "source": [
    "# Interpretar Modelo"
   ]
  },
  {
   "cell_type": "markdown",
   "metadata": {},
   "source": [
    "> 1. Si tuvieras que ponerle nombre a cada grupo, ¿cuál le darías?\n",
    "> 2. ¿En qué te basas para ello?"
   ]
  },
  {
   "cell_type": "code",
   "execution_count": null,
   "metadata": {},
   "outputs": [],
   "source": [
    "pd.read_sql(sql = 'select * from ', con = )"
   ]
  },
  {
   "cell_type": "markdown",
   "metadata": {},
   "source": [
    "# Objetivos Alcanzados"
   ]
  },
  {
   "cell_type": "markdown",
   "metadata": {},
   "source": [
    "_Haz doble click sobre esta celda y pon una `X` dentro de las casillas [X] si crees que has superado los objetivos:_\n",
    "\n",
    "- [X] Entender **cómo la máquina optimiza un modelo**, que no es más que encontrar **los números** una ecuación matemática.\n",
    "- [X] La importancia de la **Suma de Cuadrados** como concepto fundamental de la estadística para medir el **error**.\n",
    "    - Regresion Lineal\n",
    "    - Support Vector Machines\n",
    "    - Neural Networks\n",
    "- [X] Entender la necesidad de **Normalizar** los datos al emplear un algoritmo que involucra el **cálculo de distancias**.\n",
    "- [X] Entender que la estadística no es más que una forma de aproximarse a la realidad. Y esta aproximación no es una ciencia exacta, sino **subjetiva**.\n",
    "- [X] Empezar a distinguir, más aún, que la programación es una herramienta hacia un fin.\n",
    "- [X] Al principio, nos salen muchos errores programando y creemos que no valemos para esto. Sin embargo, en este momento del programa, veremos que existen unos **patrones que siempre se cumplen en los errores** y empezaremos a **entender la máquina**.\n",
    "- [X] Una vez más, nos daremos cuenta de que existen **distintos modelos para realizar el Análisis de Cluster**. De la misma manera que en el anterior capítulo también existían diversos Modelos de Regresión."
   ]
  }
 ],
 "metadata": {
  "authors": [
   {
    "name": "Jesús López @sotastica"
   }
  ],
  "kernelspec": {
   "display_name": "Python 3 (ipykernel)",
   "language": "python",
   "name": "python3"
  },
  "language_info": {
   "codemirror_mode": {
    "name": "ipython",
    "version": 3
   },
   "file_extension": ".py",
   "mimetype": "text/x-python",
   "name": "python",
   "nbconvert_exporter": "python",
   "pygments_lexer": "ipython3",
   "version": "3.9.7"
  }
 },
 "nbformat": 4,
 "nbformat_minor": 4
}
