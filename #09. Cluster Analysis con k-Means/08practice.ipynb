{
 "cells": [
  {
   "cell_type": "markdown",
   "metadata": {},
   "source": [
    "<font size=\"+5\">#08. Cluster Analysis con k-Means</font>"
   ]
  },
  {
   "cell_type": "markdown",
   "metadata": {},
   "source": [
    "# Cargar Datos"
   ]
  },
  {
   "cell_type": "markdown",
   "metadata": {},
   "source": [
    "> - Simplemente, copiamos y pegamos las siguientes líneas de código para cargar los datos.\n",
    "> - La tabla contiene **estadísticas sobre Coches** (columnas).\n",
    "> - Para distintas **Marcas/Modelos de coche** (filas).\n",
    "\n",
    "```python\n",
    "import seaborn as sns\n",
    "\n",
    "df = sns.load_dataset(name='mpg', index_col='name')\n",
    "df.sample(10)\n",
    "```"
   ]
  },
  {
   "cell_type": "code",
   "execution_count": 34,
   "metadata": {},
   "outputs": [
    {
     "data": {
      "text/plain": "                               mpg  cylinders  displacement  horsepower  \\\nname                                                                      \nplymouth valiant              18.0          6         225.0       105.0   \npeugeot 505s turbo diesel     28.1          4         141.0        80.0   \npontiac phoenix lj            19.2          6         231.0       105.0   \nchevrolet nova custom         16.0          6         250.0       100.0   \npeugeot 504                   23.0          4         120.0        88.0   \ndodge dart custom             15.0          8         318.0       150.0   \ndodge colt                    26.0          4          98.0        79.0   \nmazda rx-7 gs                 23.7          3          70.0       100.0   \ntoyota starlet                39.1          4          79.0        58.0   \nchrysler new yorker brougham  13.0          8         440.0       215.0   \n\n                              weight  acceleration  model_year  origin  \nname                                                                    \nplymouth valiant                3121          16.5          73     usa  \npeugeot 505s turbo diesel       3230          20.4          81  europe  \npontiac phoenix lj              3535          19.2          78     usa  \nchevrolet nova custom           3278          18.0          73     usa  \npeugeot 504                     2957          17.0          75  europe  \ndodge dart custom               3399          11.0          73     usa  \ndodge colt                      2255          17.7          76     usa  \nmazda rx-7 gs                   2420          12.5          80   japan  \ntoyota starlet                  1755          16.9          81   japan  \nchrysler new yorker brougham    4735          11.0          73     usa  ",
      "text/html": "<div>\n<style scoped>\n    .dataframe tbody tr th:only-of-type {\n        vertical-align: middle;\n    }\n\n    .dataframe tbody tr th {\n        vertical-align: top;\n    }\n\n    .dataframe thead th {\n        text-align: right;\n    }\n</style>\n<table border=\"1\" class=\"dataframe\">\n  <thead>\n    <tr style=\"text-align: right;\">\n      <th></th>\n      <th>mpg</th>\n      <th>cylinders</th>\n      <th>displacement</th>\n      <th>horsepower</th>\n      <th>weight</th>\n      <th>acceleration</th>\n      <th>model_year</th>\n      <th>origin</th>\n    </tr>\n    <tr>\n      <th>name</th>\n      <th></th>\n      <th></th>\n      <th></th>\n      <th></th>\n      <th></th>\n      <th></th>\n      <th></th>\n      <th></th>\n    </tr>\n  </thead>\n  <tbody>\n    <tr>\n      <th>plymouth valiant</th>\n      <td>18.0</td>\n      <td>6</td>\n      <td>225.0</td>\n      <td>105.0</td>\n      <td>3121</td>\n      <td>16.5</td>\n      <td>73</td>\n      <td>usa</td>\n    </tr>\n    <tr>\n      <th>peugeot 505s turbo diesel</th>\n      <td>28.1</td>\n      <td>4</td>\n      <td>141.0</td>\n      <td>80.0</td>\n      <td>3230</td>\n      <td>20.4</td>\n      <td>81</td>\n      <td>europe</td>\n    </tr>\n    <tr>\n      <th>pontiac phoenix lj</th>\n      <td>19.2</td>\n      <td>6</td>\n      <td>231.0</td>\n      <td>105.0</td>\n      <td>3535</td>\n      <td>19.2</td>\n      <td>78</td>\n      <td>usa</td>\n    </tr>\n    <tr>\n      <th>chevrolet nova custom</th>\n      <td>16.0</td>\n      <td>6</td>\n      <td>250.0</td>\n      <td>100.0</td>\n      <td>3278</td>\n      <td>18.0</td>\n      <td>73</td>\n      <td>usa</td>\n    </tr>\n    <tr>\n      <th>peugeot 504</th>\n      <td>23.0</td>\n      <td>4</td>\n      <td>120.0</td>\n      <td>88.0</td>\n      <td>2957</td>\n      <td>17.0</td>\n      <td>75</td>\n      <td>europe</td>\n    </tr>\n    <tr>\n      <th>dodge dart custom</th>\n      <td>15.0</td>\n      <td>8</td>\n      <td>318.0</td>\n      <td>150.0</td>\n      <td>3399</td>\n      <td>11.0</td>\n      <td>73</td>\n      <td>usa</td>\n    </tr>\n    <tr>\n      <th>dodge colt</th>\n      <td>26.0</td>\n      <td>4</td>\n      <td>98.0</td>\n      <td>79.0</td>\n      <td>2255</td>\n      <td>17.7</td>\n      <td>76</td>\n      <td>usa</td>\n    </tr>\n    <tr>\n      <th>mazda rx-7 gs</th>\n      <td>23.7</td>\n      <td>3</td>\n      <td>70.0</td>\n      <td>100.0</td>\n      <td>2420</td>\n      <td>12.5</td>\n      <td>80</td>\n      <td>japan</td>\n    </tr>\n    <tr>\n      <th>toyota starlet</th>\n      <td>39.1</td>\n      <td>4</td>\n      <td>79.0</td>\n      <td>58.0</td>\n      <td>1755</td>\n      <td>16.9</td>\n      <td>81</td>\n      <td>japan</td>\n    </tr>\n    <tr>\n      <th>chrysler new yorker brougham</th>\n      <td>13.0</td>\n      <td>8</td>\n      <td>440.0</td>\n      <td>215.0</td>\n      <td>4735</td>\n      <td>11.0</td>\n      <td>73</td>\n      <td>usa</td>\n    </tr>\n  </tbody>\n</table>\n</div>"
     },
     "execution_count": 34,
     "metadata": {},
     "output_type": "execute_result"
    }
   ],
   "source": [
    "import pandas as pd\n",
    "import seaborn as sns\n",
    "\n",
    "df = sns.load_dataset(name='mpg', index_col='name')\n",
    "df.sample(10)"
   ]
  },
  {
   "cell_type": "markdown",
   "metadata": {},
   "source": [
    "# Seleccionar 2 Variables para el Análisis de Clúster"
   ]
  },
  {
   "cell_type": "markdown",
   "metadata": {},
   "source": [
    "> En este caso **ambas variables son explicativas**. La variable que queremos predecir no se la damos al modelo. Sino que tratará de adivinarla en base a cómo de cerca estén los puntos."
   ]
  },
  {
   "cell_type": "code",
   "execution_count": 57,
   "metadata": {},
   "outputs": [],
   "source": [
    "explanatory = df[['cylinders','weight']]"
   ]
  },
  {
   "cell_type": "code",
   "execution_count": 58,
   "outputs": [
    {
     "data": {
      "text/plain": "                           cylinders  weight\nname                                        \nchevrolet chevelle malibu          8    3504\nbuick skylark 320                  8    3693\nplymouth satellite                 8    3436\namc rebel sst                      8    3433\nford torino                        8    3449",
      "text/html": "<div>\n<style scoped>\n    .dataframe tbody tr th:only-of-type {\n        vertical-align: middle;\n    }\n\n    .dataframe tbody tr th {\n        vertical-align: top;\n    }\n\n    .dataframe thead th {\n        text-align: right;\n    }\n</style>\n<table border=\"1\" class=\"dataframe\">\n  <thead>\n    <tr style=\"text-align: right;\">\n      <th></th>\n      <th>cylinders</th>\n      <th>weight</th>\n    </tr>\n    <tr>\n      <th>name</th>\n      <th></th>\n      <th></th>\n    </tr>\n  </thead>\n  <tbody>\n    <tr>\n      <th>chevrolet chevelle malibu</th>\n      <td>8</td>\n      <td>3504</td>\n    </tr>\n    <tr>\n      <th>buick skylark 320</th>\n      <td>8</td>\n      <td>3693</td>\n    </tr>\n    <tr>\n      <th>plymouth satellite</th>\n      <td>8</td>\n      <td>3436</td>\n    </tr>\n    <tr>\n      <th>amc rebel sst</th>\n      <td>8</td>\n      <td>3433</td>\n    </tr>\n    <tr>\n      <th>ford torino</th>\n      <td>8</td>\n      <td>3449</td>\n    </tr>\n  </tbody>\n</table>\n</div>"
     },
     "execution_count": 58,
     "metadata": {},
     "output_type": "execute_result"
    }
   ],
   "source": [
    "explanatory.head()"
   ],
   "metadata": {
    "collapsed": false,
    "pycharm": {
     "name": "#%%\n"
    }
   }
  },
  {
   "cell_type": "markdown",
   "metadata": {},
   "source": [
    "# Scatterplot con las Variables"
   ]
  },
  {
   "cell_type": "markdown",
   "metadata": {},
   "source": [
    "> Deberíamos observar en la gráfica cuántos posibles grupos podríamos hacer para agrupar los puntos."
   ]
  },
  {
   "cell_type": "code",
   "execution_count": 59,
   "metadata": {},
   "outputs": [
    {
     "data": {
      "text/plain": "<AxesSubplot:xlabel='cylinders', ylabel='weight'>"
     },
     "execution_count": 59,
     "metadata": {},
     "output_type": "execute_result"
    },
    {
     "data": {
      "text/plain": "<Figure size 432x288 with 1 Axes>",
      "image/png": "[encoded data removed]"
     },
     "metadata": {
      "needs_background": "light"
     },
     "output_type": "display_data"
    }
   ],
   "source": [
    "sns.scatterplot(data = df ,x = 'cylinders', y = 'weight')"
   ]
  },
  {
   "cell_type": "markdown",
   "metadata": {},
   "source": [
    "# Transformación de los Datos"
   ]
  },
  {
   "cell_type": "markdown",
   "metadata": {},
   "source": [
    "> Deberíamos valorar si tenemos que realizar algunos cambios a los datos para que el modelo de k-Means se compute adecuadamente y pueda comparar ambas variables.\n",
    ">\n",
    "> Las variables originales pueden tener un rango de valores diferente.\n",
    ">\n",
    "> Imaginemos que tenemos dos variables:\n",
    ">\n",
    "> - Peso (en kilogramos)\n",
    "> - Altura (en metros)\n",
    ">\n",
    "> **Es lo mismo** incrementar 1 kilogramo de peso, que incrementar 1 metro de altura?\n",
    "> \n",
    "> - Hazte las mismas preguntas con tus variables."
   ]
  },
  {
   "cell_type": "code",
   "execution_count": 64,
   "metadata": {},
   "outputs": [],
   "source": [
    "from sklearn.preprocessing import MinMaxScaler\n"
   ]
  },
  {
   "cell_type": "code",
   "execution_count": 65,
   "outputs": [],
   "source": [
    "scaler = MinMaxScaler()"
   ],
   "metadata": {
    "collapsed": false,
    "pycharm": {
     "name": "#%%\n"
    }
   }
  },
  {
   "cell_type": "code",
   "execution_count": 66,
   "outputs": [
    {
     "data": {
      "text/plain": "array([[1.        , 0.5361497 ],\n       [1.        , 0.58973632],\n       [1.        , 0.51686986],\n       [1.        , 0.51601928],\n       [1.        , 0.52055571],\n       [1.        , 0.77346187],\n       [1.        , 0.77714772],\n       [1.        , 0.76523958],\n       [1.        , 0.79727814],\n       [1.        , 0.63425007],\n       [1.        , 0.5528778 ],\n       [1.        , 0.56592005],\n       [1.        , 0.60901616],\n       [1.        , 0.41763538],\n       [0.2       , 0.21519705],\n       [0.6       , 0.34590303],\n       [0.6       , 0.32917494],\n       [0.6       , 0.27615537],\n       [0.2       , 0.1465835 ],\n       [0.2       , 0.06294301],\n       [0.2       , 0.30025517],\n       [0.2       , 0.23164162],\n       [0.2       , 0.21604763],\n       [0.2       , 0.17607031],\n       [0.6       , 0.29345052],\n       [1.        , 0.85114828],\n       [1.        , 0.78338531],\n       [1.        , 0.78508648],\n       [1.        , 0.88432095],\n       [0.2       , 0.1465835 ],\n       [0.2       , 0.18457613],\n       [0.2       , 0.17436915],\n       [0.2       , 0.12276722],\n       [0.6       , 0.28948115],\n       [0.6       , 0.51772044],\n       [0.6       , 0.48653246],\n       [0.6       , 0.47887723],\n       [0.6       , 0.47490785],\n       [1.        , 0.73603629],\n       [1.        , 0.8083357 ],\n       [1.        , 0.7204423 ],\n       [1.        , 0.70399773],\n       [1.        , 0.94754749],\n       [1.        , 0.88829033],\n       [1.        , 1.        ],\n       [0.6       , 0.38247803],\n       [0.2       , 0.22540403],\n       [0.6       , 0.47320669],\n       [0.6       , 0.43266232],\n       [0.2       , 0.17210094],\n       [0.2       , 0.14459881],\n       [0.2       , 0.13070598],\n       [0.2       , 0.12815424],\n       [0.2       , 0.04536433],\n       [0.2       , 0.        ],\n       [0.2       , 0.06265948],\n       [0.2       , 0.09696626],\n       [0.2       , 0.18854551],\n       [0.2       , 0.14544939],\n       [0.2       , 0.18174086],\n       [0.2       , 0.22540403],\n       [0.2       , 0.1738021 ],\n       [1.        , 0.75446555],\n       [1.        , 0.78593706],\n       [1.        , 0.71505529],\n       [1.        , 0.71335413],\n       [1.        , 0.58378225],\n       [1.        , 0.85625177],\n       [1.        , 0.81910972],\n       [1.        , 0.80606748],\n       [1.        , 0.79642756],\n       [0.        , 0.20328891],\n       [1.        , 0.64615821],\n       [1.        , 0.70456479],\n       [1.        , 0.76013609],\n       [1.        , 0.69861072],\n       [0.2       , 0.37425574],\n       [0.2       , 0.25460731],\n       [0.2       , 0.38729799],\n       [0.2       , 0.1633116 ],\n       [0.2       , 0.22171817],\n       [0.2       , 0.19138078],\n       [0.2       , 0.25318968],\n       [0.2       , 0.15622342],\n       [0.2       , 0.13807769],\n       [1.        , 0.70513184],\n       [1.        , 0.58378225],\n       [1.        , 0.67337681],\n       [1.        , 0.68868727],\n       [1.        , 0.61355259],\n       [1.        , 0.94669691],\n       [1.        , 0.8083357 ],\n       [1.        , 0.77969946],\n       [1.        , 0.74397505],\n       [1.        , 0.88517153],\n       [1.        , 0.94641338],\n       [1.        , 0.62602779],\n       [0.6       , 0.42755883],\n       [0.6       , 0.47207258],\n       [0.6       , 0.37765807],\n       [0.6       , 0.39920612],\n       [0.6       , 0.36603346],\n       [0.2       , 0.09554862],\n       [1.        , 0.95945563],\n       [1.        , 0.93365466],\n       [1.        , 0.86220584],\n       [1.        , 0.81825914],\n       [0.6       , 0.33342784],\n       [0.2       , 0.18882903],\n       [0.2       , 0.22341934],\n       [0.2       , 0.21718174],\n       [0.        , 0.14488234],\n       [0.2       , 0.19761837],\n       [0.6       , 0.24354976],\n       [0.2       , 0.18485965],\n       [1.        , 0.70002835],\n       [1.        , 0.75559966],\n       [0.2       , 0.07201588],\n       [0.2       , 0.15452226],\n       [0.2       , 0.27473774],\n       [0.2       , 0.35582648],\n       [1.        , 0.50637936],\n       [0.2       , 0.29685285],\n       [0.6       , 0.33853133],\n       [1.        , 0.58151403],\n       [0.6       , 0.42217182],\n       [0.6       , 0.35781117],\n       [0.6       , 0.36518287],\n       [0.6       , 0.48851715],\n       [0.2       , 0.09554862],\n       [0.2       , 0.23759569],\n       [0.2       , 0.06322654],\n       [0.2       , 0.26339665],\n       [0.6       , 0.6146867 ],\n       [0.6       , 0.57244117],\n       [0.6       , 0.56705415],\n       [1.        , 0.71675645],\n       [1.        , 0.87496456],\n       [1.        , 0.80635101],\n       [1.        , 0.85766941],\n       [1.        , 0.74964559],\n       [0.2       , 0.17181741],\n       [0.2       , 0.09923448],\n       [0.2       , 0.1947831 ],\n       [0.2       , 0.01020697],\n       [0.2       , 0.11057556],\n       [0.2       , 0.14516586],\n       [0.2       , 0.1403459 ],\n       [0.2       , 0.17947264],\n       [0.2       , 0.24836972],\n       [0.2       , 0.22058407],\n       [0.2       , 0.10972498],\n       [0.6       , 0.4681032 ],\n       [0.6       , 0.52339098],\n       [0.6       , 0.51573575],\n       [0.6       , 0.43804933],\n       [1.        , 0.86617522],\n       [1.        , 0.80153105],\n       [1.        , 0.81797562],\n       [1.        , 0.86305642],\n       [0.6       , 0.65041111],\n       [0.6       , 0.64757584],\n       [0.6       , 0.60022682],\n       [0.6       , 0.61582081],\n       [0.6       , 0.40430961],\n       [1.        , 0.45591154],\n       [1.        , 0.44116813],\n       [0.2       , 0.15820811],\n       [0.2       , 0.29089878],\n       [0.6       , 0.36886873],\n       [0.2       , 0.27757301],\n       [0.2       , 0.30876099],\n       [0.2       , 0.17295152],\n       [0.2       , 0.26424724],\n       [0.6       , 0.38871562],\n       [0.2       , 0.09186277],\n       [0.6       , 0.45307627],\n       [0.2       , 0.30649277],\n       [0.2       , 0.38106039],\n       [0.2       , 0.37765807],\n       [0.2       , 0.29997165],\n       [0.2       , 0.05160193],\n       [0.2       , 0.24128154],\n       [0.2       , 0.17210094],\n       [0.2       , 0.27190247],\n       [0.2       , 0.18202438],\n       [0.2       , 0.16699745],\n       [1.        , 0.73773745],\n       [1.        , 0.73064928],\n       [1.        , 0.6660051 ],\n       [1.        , 0.73773745],\n       [0.6       , 0.45931386],\n       [0.6       , 0.49333711],\n       [0.6       , 0.39665438],\n       [0.6       , 0.41735186],\n       [0.2       , 0.11964843],\n       [0.2       , 0.15622342],\n       [0.2       , 0.09186277],\n       [0.2       , 0.05160193],\n       [0.6       , 0.57782818],\n       [0.6       , 0.5559966 ],\n       [0.6       , 0.57612702],\n       [0.6       , 0.44797278],\n       [0.2       , 0.06010774],\n       [0.2       , 0.10688971],\n       [0.2       , 0.15367168],\n       [0.2       , 0.26991778],\n       [0.2       , 0.43578112],\n       [1.        , 0.65976751],\n       [0.2       , 0.46980437],\n       [0.6       , 0.37340516],\n       [0.6       , 0.62574426],\n       [1.        , 0.78451942],\n       [1.        , 0.69237312],\n       [1.        , 0.63992061],\n       [1.        , 0.607315  ],\n       [0.2       , 0.1224837 ],\n       [0.2       , 0.15367168],\n       [0.2       , 0.06010774],\n       [0.2       , 0.1947831 ],\n       [0.2       , 0.09413099],\n       [1.        , 0.64275588],\n       [1.        , 0.69379076],\n       [1.        , 0.71647292],\n       [1.        , 0.76041962],\n       [0.6       , 0.54068614],\n       [0.6       , 0.51375106],\n       [0.6       , 0.57187411],\n       [0.6       , 0.54210377],\n       [1.        , 0.73915509],\n       [1.        , 0.7235611 ],\n       [1.        , 0.76892543],\n       [1.        , 0.7717607 ],\n       [0.2       , 0.09271335],\n       [0.2       , 0.31953502],\n       [0.2       , 0.18485965],\n       [0.2       , 0.32378792],\n       [0.2       , 0.12418486],\n       [0.2       , 0.13098951],\n       [0.2       , 0.10547207],\n       [0.2       , 0.16359512],\n       [0.6       , 0.34079955],\n       [0.2       , 0.27984122],\n       [0.        , 0.31386447],\n       [0.2       , 0.10547207],\n       [0.2       , 0.05301956],\n       [0.2       , 0.10547207],\n       [0.2       , 0.12957187],\n       [0.2       , 0.05301956],\n       [1.        , 0.49673944],\n       [1.        , 0.60164446],\n       [1.        , 0.55486249],\n       [0.6       , 0.54493904],\n       [0.6       , 0.43719875],\n       [0.6       , 0.38332861],\n       [0.2       , 0.31386447],\n       [0.6       , 0.5151687 ],\n       [0.6       , 0.45279274],\n       [0.6       , 0.50099234],\n       [0.6       , 0.41309895],\n       [0.6       , 0.56903884],\n       [0.6       , 0.50949816],\n       [1.        , 0.51375106],\n       [0.6       , 0.5194216 ],\n       [1.        , 0.45137511],\n       [1.        , 0.6994613 ],\n       [0.2       , 0.15367168],\n       [0.2       , 0.26850014],\n       [0.2       , 0.1947831 ],\n       [0.2       , 0.17493621],\n       [0.2       , 0.25574142],\n       [0.2       , 0.32095265],\n       [0.2       , 0.35214063],\n       [0.2       , 0.22455344],\n       [0.4       , 0.34505245],\n       [0.6       , 0.43294585],\n       [0.2       , 0.335129  ],\n       [0.6       , 0.50949816],\n       [0.2       , 0.10688971],\n       [0.2       , 0.14800113],\n       [0.6       , 0.46271619],\n       [0.6       , 0.39041678],\n       [0.2       , 0.36206408],\n       [0.6       , 0.46838673],\n       [0.6       , 0.4953218 ],\n       [1.        , 0.6314148 ],\n       [1.        , 0.59880919],\n       [1.        , 0.66402041],\n       [1.        , 0.62857953],\n       [1.        , 0.77884888],\n       [1.        , 0.69208959],\n       [1.        , 0.56478594],\n       [1.        , 0.65976751],\n       [0.2       , 0.08846045],\n       [0.2       , 0.1026368 ],\n       [0.2       , 0.08562518],\n       [0.2       , 0.29968812],\n       [0.4       , 0.54352141],\n       [1.        , 0.64842642],\n       [0.2       , 0.4471222 ],\n       [1.        , 0.51233343],\n       [0.2       , 0.16643039],\n       [0.2       , 0.15225404],\n       [0.2       , 0.11539552],\n       [0.2       , 0.1465835 ],\n       [0.2       , 0.29968812],\n       [0.6       , 0.27842359],\n       [0.6       , 0.30819393],\n       [0.2       , 0.26736603],\n       [0.2       , 0.15055288],\n       [0.2       , 0.10065211],\n       [0.2       , 0.14374823],\n       [0.2       , 0.11511199],\n       [0.2       , 0.30195634],\n       [0.2       , 0.35639354],\n       [0.2       , 0.39410264],\n       [0.6       , 0.50127587],\n       [0.2       , 0.16302807],\n       [0.2       , 0.31131273],\n       [0.2       , 0.26339665],\n       [0.2       , 0.23277573],\n       [0.2       , 0.18485965],\n       [0.2       , 0.14091296],\n       [0.2       , 0.33654664],\n       [0.2       , 0.14091296],\n       [0.2       , 0.13382478],\n       [0.2       , 0.20470655],\n       [0.4       , 0.3790757 ],\n       [0.2       , 0.46413382],\n       [0.2       , 0.06719592],\n       [0.2       , 0.06294301],\n       [0.2       , 0.1508364 ],\n       [0.2       , 0.06577828],\n       [0.6       , 0.36773462],\n       [0.        , 0.22880635],\n       [0.2       , 0.25148852],\n       [0.2       , 0.36631698],\n       [0.2       , 0.19194783],\n       [0.2       , 0.24865325],\n       [0.2       , 0.28976467],\n       [0.2       , 0.28551177],\n       [0.6       , 0.31528211],\n       [0.2       , 0.2188829 ],\n       [0.2       , 0.04026084],\n       [0.2       , 0.07428409],\n       [0.2       , 0.04167848],\n       [0.2       , 0.12815424],\n       [0.2       , 0.1026368 ],\n       [0.2       , 0.12390133],\n       [0.2       , 0.10547207],\n       [0.2       , 0.1706833 ],\n       [0.2       , 0.1224837 ],\n       [0.2       , 0.21746527],\n       [0.2       , 0.16359512],\n       [0.2       , 0.20045364],\n       [0.2       , 0.16926566],\n       [0.2       , 0.20895946],\n       [0.2       , 0.28409413],\n       [0.2       , 0.28976467],\n       [0.2       , 0.45846328],\n       [0.6       , 0.43861639],\n       [0.6       , 0.36489935],\n       [0.6       , 0.37340516],\n       [0.6       , 0.51091579],\n       [1.        , 0.59880919],\n       [0.6       , 0.41026368],\n       [0.6       , 0.52509215],\n       [0.2       , 0.28125886],\n       [0.2       , 0.29118231],\n       [0.2       , 0.22171817],\n       [0.2       , 0.27275305],\n       [0.2       , 0.25857669],\n       [0.2       , 0.31811738],\n       [0.2       , 0.3549759 ],\n       [0.2       , 0.4031755 ],\n       [0.2       , 0.10405444],\n       [0.2       , 0.11681316],\n       [0.2       , 0.10121917],\n       [0.2       , 0.14516586],\n       [0.2       , 0.14516586],\n       [0.2       , 0.15508931],\n       [0.2       , 0.16784803],\n       [0.2       , 0.17918911],\n       [0.2       , 0.09980153],\n       [0.2       , 0.09980153],\n       [0.2       , 0.10830734],\n       [0.6       , 0.37765807],\n       [0.6       , 0.39750496],\n       [0.2       , 0.27558832],\n       [0.6       , 0.34647009],\n       [0.2       , 0.29827048],\n       [0.2       , 0.21463   ],\n       [0.2       , 0.3790757 ],\n       [0.2       , 0.33371137],\n       [0.2       , 0.1465835 ],\n       [0.2       , 0.19336547],\n       [0.2       , 0.2869294 ],\n       [0.2       , 0.31386447]])"
     },
     "execution_count": 66,
     "metadata": {},
     "output_type": "execute_result"
    }
   ],
   "source": [
    "transform_scaler = scaler.fit_transform(X=explanatory)\n",
    "transform_scaler"
   ],
   "metadata": {
    "collapsed": false,
    "pycharm": {
     "name": "#%%\n"
    }
   }
  },
  {
   "cell_type": "code",
   "execution_count": 67,
   "outputs": [
    {
     "data": {
      "text/plain": "     cylinders    weight\n0          1.0  0.536150\n1          1.0  0.589736\n2          1.0  0.516870\n3          1.0  0.516019\n4          1.0  0.520556\n..         ...       ...\n393        0.2  0.333711\n394        0.2  0.146583\n395        0.2  0.193365\n396        0.2  0.286929\n397        0.2  0.313864\n\n[398 rows x 2 columns]",
      "text/html": "<div>\n<style scoped>\n    .dataframe tbody tr th:only-of-type {\n        vertical-align: middle;\n    }\n\n    .dataframe tbody tr th {\n        vertical-align: top;\n    }\n\n    .dataframe thead th {\n        text-align: right;\n    }\n</style>\n<table border=\"1\" class=\"dataframe\">\n  <thead>\n    <tr style=\"text-align: right;\">\n      <th></th>\n      <th>cylinders</th>\n      <th>weight</th>\n    </tr>\n  </thead>\n  <tbody>\n    <tr>\n      <th>0</th>\n      <td>1.0</td>\n      <td>0.536150</td>\n    </tr>\n    <tr>\n      <th>1</th>\n      <td>1.0</td>\n      <td>0.589736</td>\n    </tr>\n    <tr>\n      <th>2</th>\n      <td>1.0</td>\n      <td>0.516870</td>\n    </tr>\n    <tr>\n      <th>3</th>\n      <td>1.0</td>\n      <td>0.516019</td>\n    </tr>\n    <tr>\n      <th>4</th>\n      <td>1.0</td>\n      <td>0.520556</td>\n    </tr>\n    <tr>\n      <th>...</th>\n      <td>...</td>\n      <td>...</td>\n    </tr>\n    <tr>\n      <th>393</th>\n      <td>0.2</td>\n      <td>0.333711</td>\n    </tr>\n    <tr>\n      <th>394</th>\n      <td>0.2</td>\n      <td>0.146583</td>\n    </tr>\n    <tr>\n      <th>395</th>\n      <td>0.2</td>\n      <td>0.193365</td>\n    </tr>\n    <tr>\n      <th>396</th>\n      <td>0.2</td>\n      <td>0.286929</td>\n    </tr>\n    <tr>\n      <th>397</th>\n      <td>0.2</td>\n      <td>0.313864</td>\n    </tr>\n  </tbody>\n</table>\n<p>398 rows × 2 columns</p>\n</div>"
     },
     "execution_count": 67,
     "metadata": {},
     "output_type": "execute_result"
    }
   ],
   "source": [
    "df_scaled = pd.DataFrame(transform_scaler, columns=explanatory.columns)\n",
    "df_scaled"
   ],
   "metadata": {
    "collapsed": false,
    "pycharm": {
     "name": "#%%\n"
    }
   }
  },
  {
   "cell_type": "markdown",
   "metadata": {},
   "source": [
    "# Entrenar Modelo `KMeans()`"
   ]
  },
  {
   "cell_type": "markdown",
   "metadata": {},
   "source": [
    "> Podremos predecir 1, 2, 3,..., k grupos. Tantos como queramos. Sin embargo, seleccionaremos `n_cluster = 3` para no complicarnos la vida.\n",
    "> 1. **Necesidad:** Entrenar Modelo\n",
    "> 2. **Solución: Función** `fit()`"
   ]
  },
  {
   "cell_type": "code",
   "execution_count": 68,
   "metadata": {},
   "outputs": [],
   "source": [
    "from sklearn.cluster import KMeans"
   ]
  },
  {
   "cell_type": "code",
   "execution_count": 69,
   "outputs": [],
   "source": [
    "model = KMeans(n_clusters=3, verbose=1)"
   ],
   "metadata": {
    "collapsed": false,
    "pycharm": {
     "name": "#%%\n"
    }
   }
  },
  {
   "cell_type": "code",
   "execution_count": 70,
   "outputs": [
    {
     "data": {
      "text/plain": "{'algorithm': 'auto',\n 'copy_x': True,\n 'init': 'k-means++',\n 'max_iter': 300,\n 'n_clusters': 3,\n 'n_init': 10,\n 'n_jobs': 'deprecated',\n 'precompute_distances': 'deprecated',\n 'random_state': None,\n 'tol': 0.0001,\n 'verbose': 1}"
     },
     "execution_count": 70,
     "metadata": {},
     "output_type": "execute_result"
    }
   ],
   "source": [
    "model.get_params()"
   ],
   "metadata": {
    "collapsed": false,
    "pycharm": {
     "name": "#%%\n"
    }
   }
  },
  {
   "cell_type": "code",
   "execution_count": 71,
   "outputs": [
    {
     "name": "stdout",
     "output_type": "stream",
     "text": [
      "Initialization complete\n",
      "Iteration 0, inertia 42732548.0\n",
      "Iteration 1, inertia 36012487.04540475\n",
      "Iteration 2, inertia 34176445.19595156\n",
      "Iteration 3, inertia 33813088.12803913\n",
      "Iteration 4, inertia 33625672.77626843\n",
      "Iteration 5, inertia 33552629.887148898\n",
      "Iteration 6, inertia 33508207.878222417\n",
      "Iteration 7, inertia 33450489.87851169\n",
      "Iteration 8, inertia 33401536.065699093\n",
      "Iteration 9, inertia 33355922.25302927\n",
      "Converged at iteration 9: center shift 18.563629869238085 within tolerance 35.76710074429941.\n",
      "Initialization complete\n",
      "Iteration 0, inertia 43589433.0\n",
      "Iteration 1, inertia 33628420.84514271\n",
      "Iteration 2, inertia 33166533.31479215\n",
      "Iteration 3, inertia 33123862.65587824\n",
      "Iteration 4, inertia 33118254.162970953\n",
      "Converged at iteration 4: strict convergence.\n",
      "Initialization complete\n",
      "Iteration 0, inertia 46173172.0\n",
      "Iteration 1, inertia 35828167.043416515\n",
      "Iteration 2, inertia 34052731.45369302\n",
      "Iteration 3, inertia 33756013.81113995\n",
      "Iteration 4, inertia 33606160.93131662\n",
      "Iteration 5, inertia 33537153.36054927\n",
      "Iteration 6, inertia 33484724.970088307\n",
      "Iteration 7, inertia 33430021.403024912\n",
      "Iteration 8, inertia 33401536.065699093\n",
      "Iteration 9, inertia 33355922.25302927\n",
      "Converged at iteration 9: center shift 18.563629869238085 within tolerance 35.76710074429941.\n",
      "Initialization complete\n",
      "Iteration 0, inertia 48089220.0\n",
      "Iteration 1, inertia 36780857.70565718\n",
      "Iteration 2, inertia 34900084.97870656\n",
      "Iteration 3, inertia 33972784.054155804\n",
      "Iteration 4, inertia 33525393.312942736\n",
      "Iteration 5, inertia 33388029.22654207\n",
      "Iteration 6, inertia 33317209.52232738\n",
      "Converged at iteration 6: center shift 21.623089349148504 within tolerance 35.76710074429941.\n",
      "Initialization complete\n",
      "Iteration 0, inertia 34864474.0\n",
      "Iteration 1, inertia 33566424.88895616\n",
      "Iteration 2, inertia 33498051.443106353\n",
      "Iteration 3, inertia 33450489.87851169\n",
      "Iteration 4, inertia 33401536.065699093\n",
      "Iteration 5, inertia 33355922.25302927\n",
      "Converged at iteration 5: center shift 18.563629869238085 within tolerance 35.76710074429941.\n",
      "Initialization complete\n",
      "Iteration 0, inertia 49351375.0\n",
      "Iteration 1, inertia 40870746.87004835\n",
      "Iteration 2, inertia 37531967.68510733\n",
      "Iteration 3, inertia 35125323.633282796\n",
      "Iteration 4, inertia 34176445.19595156\n",
      "Iteration 5, inertia 33813088.12803913\n",
      "Iteration 6, inertia 33625672.77626843\n",
      "Iteration 7, inertia 33552629.887148898\n",
      "Iteration 8, inertia 33508207.878222417\n",
      "Iteration 9, inertia 33450489.87851169\n",
      "Iteration 10, inertia 33401536.065699093\n",
      "Iteration 11, inertia 33355922.25302927\n",
      "Converged at iteration 11: center shift 18.563629869238085 within tolerance 35.76710074429941.\n",
      "Initialization complete\n",
      "Iteration 0, inertia 67222196.0\n",
      "Iteration 1, inertia 35239762.96889167\n",
      "Iteration 2, inertia 33832285.726055175\n",
      "Iteration 3, inertia 33648700.64816126\n",
      "Iteration 4, inertia 33568635.99320505\n",
      "Iteration 5, inertia 33520848.768375147\n",
      "Iteration 6, inertia 33473184.198401604\n",
      "Iteration 7, inertia 33418427.314369578\n",
      "Iteration 8, inertia 33385929.982544858\n",
      "Iteration 9, inertia 33348119.366602033\n",
      "Iteration 10, inertia 33269701.862908337\n",
      "Iteration 11, inertia 33231031.380589627\n",
      "Iteration 12, inertia 33218652.905944355\n",
      "Converged at iteration 12: strict convergence.\n",
      "Initialization complete\n",
      "Iteration 0, inertia 47373121.0\n",
      "Iteration 1, inertia 39437043.583914034\n",
      "Iteration 2, inertia 36269153.30670205\n",
      "Iteration 3, inertia 34476880.24427816\n",
      "Iteration 4, inertia 33697836.13032949\n",
      "Iteration 5, inertia 33503461.614154704\n",
      "Iteration 6, inertia 33388029.22654207\n",
      "Iteration 7, inertia 33317209.52232738\n",
      "Converged at iteration 7: center shift 21.623089349148504 within tolerance 35.76710074429941.\n",
      "Initialization complete\n",
      "Iteration 0, inertia 54299880.0\n",
      "Iteration 1, inertia 35698884.83193815\n",
      "Iteration 2, inertia 34345980.828705266\n",
      "Iteration 3, inertia 33666372.86901619\n",
      "Iteration 4, inertia 33503461.614154704\n",
      "Iteration 5, inertia 33388029.22654207\n",
      "Iteration 6, inertia 33317209.52232738\n",
      "Converged at iteration 6: center shift 21.623089349148504 within tolerance 35.76710074429941.\n",
      "Initialization complete\n",
      "Iteration 0, inertia 55373085.0\n",
      "Iteration 1, inertia 38369423.71243319\n",
      "Iteration 2, inertia 35524268.100150354\n",
      "Iteration 3, inertia 34120506.22538746\n",
      "Iteration 4, inertia 33525393.312942736\n",
      "Iteration 5, inertia 33388029.22654207\n",
      "Iteration 6, inertia 33317209.52232738\n",
      "Converged at iteration 6: center shift 21.623089349148504 within tolerance 35.76710074429941.\n"
     ]
    },
    {
     "data": {
      "text/plain": "KMeans(n_clusters=3, verbose=1)"
     },
     "execution_count": 71,
     "metadata": {},
     "output_type": "execute_result"
    }
   ],
   "source": [
    "model.fit(X=explanatory)"
   ],
   "metadata": {
    "collapsed": false,
    "pycharm": {
     "name": "#%%\n"
    }
   }
  },
  {
   "cell_type": "markdown",
   "source": [],
   "metadata": {
    "collapsed": false,
    "pycharm": {
     "name": "#%% md\n"
    }
   }
  },
  {
   "cell_type": "markdown",
   "metadata": {},
   "source": [
    "# Realizar Predicciones"
   ]
  },
  {
   "cell_type": "markdown",
   "metadata": {},
   "source": [
    "> - `model.predict()`"
   ]
  },
  {
   "cell_type": "markdown",
   "metadata": {
    "pycharm": {
     "name": "#%% md\n"
    }
   },
   "source": [
    "Creo un modelo para introducir el número de cluster cómo una nueva columna"
   ]
  },
  {
   "cell_type": "code",
   "execution_count": 76,
   "outputs": [],
   "source": [
    "df1 = df[['cylinders', 'weight']]"
   ],
   "metadata": {
    "collapsed": false,
    "pycharm": {
     "name": "#%%\n"
    }
   }
  },
  {
   "cell_type": "code",
   "execution_count": 77,
   "outputs": [
    {
     "name": "stderr",
     "output_type": "stream",
     "text": [
      "<ipython-input-77-dc100d071e1f>:1: SettingWithCopyWarning: \n",
      "A value is trying to be set on a copy of a slice from a DataFrame.\n",
      "Try using .loc[row_indexer,col_indexer] = value instead\n",
      "\n",
      "See the caveats in the documentation: https://pandas.pydata.org/pandas-docs/stable/user_guide/indexing.html#returning-a-view-versus-a-copy\n",
      "  df1['Cluster'] = model.predict(X=explanatory)\n"
     ]
    }
   ],
   "source": [
    "df1['Cluster'] = model.predict(X=explanatory)"
   ],
   "metadata": {
    "collapsed": false,
    "pycharm": {
     "name": "#%%\n"
    }
   }
  },
  {
   "cell_type": "code",
   "execution_count": 78,
   "outputs": [
    {
     "data": {
      "text/plain": "                           cylinders  weight  Cluster\nname                                                 \nchevrolet chevelle malibu          8    3504        2\nbuick skylark 320                  8    3693        2\nplymouth satellite                 8    3436        2\namc rebel sst                      8    3433        2\nford torino                        8    3449        2\n...                              ...     ...      ...\nford mustang gl                    4    2790        2\nvw pickup                          4    2130        0\ndodge rampage                      4    2295        0\nford ranger                        4    2625        0\nchevy s-10                         4    2720        2\n\n[398 rows x 3 columns]",
      "text/html": "<div>\n<style scoped>\n    .dataframe tbody tr th:only-of-type {\n        vertical-align: middle;\n    }\n\n    .dataframe tbody tr th {\n        vertical-align: top;\n    }\n\n    .dataframe thead th {\n        text-align: right;\n    }\n</style>\n<table border=\"1\" class=\"dataframe\">\n  <thead>\n    <tr style=\"text-align: right;\">\n      <th></th>\n      <th>cylinders</th>\n      <th>weight</th>\n      <th>Cluster</th>\n    </tr>\n    <tr>\n      <th>name</th>\n      <th></th>\n      <th></th>\n      <th></th>\n    </tr>\n  </thead>\n  <tbody>\n    <tr>\n      <th>chevrolet chevelle malibu</th>\n      <td>8</td>\n      <td>3504</td>\n      <td>2</td>\n    </tr>\n    <tr>\n      <th>buick skylark 320</th>\n      <td>8</td>\n      <td>3693</td>\n      <td>2</td>\n    </tr>\n    <tr>\n      <th>plymouth satellite</th>\n      <td>8</td>\n      <td>3436</td>\n      <td>2</td>\n    </tr>\n    <tr>\n      <th>amc rebel sst</th>\n      <td>8</td>\n      <td>3433</td>\n      <td>2</td>\n    </tr>\n    <tr>\n      <th>ford torino</th>\n      <td>8</td>\n      <td>3449</td>\n      <td>2</td>\n    </tr>\n    <tr>\n      <th>...</th>\n      <td>...</td>\n      <td>...</td>\n      <td>...</td>\n    </tr>\n    <tr>\n      <th>ford mustang gl</th>\n      <td>4</td>\n      <td>2790</td>\n      <td>2</td>\n    </tr>\n    <tr>\n      <th>vw pickup</th>\n      <td>4</td>\n      <td>2130</td>\n      <td>0</td>\n    </tr>\n    <tr>\n      <th>dodge rampage</th>\n      <td>4</td>\n      <td>2295</td>\n      <td>0</td>\n    </tr>\n    <tr>\n      <th>ford ranger</th>\n      <td>4</td>\n      <td>2625</td>\n      <td>0</td>\n    </tr>\n    <tr>\n      <th>chevy s-10</th>\n      <td>4</td>\n      <td>2720</td>\n      <td>2</td>\n    </tr>\n  </tbody>\n</table>\n<p>398 rows × 3 columns</p>\n</div>"
     },
     "execution_count": 78,
     "metadata": {},
     "output_type": "execute_result"
    }
   ],
   "source": [
    "df1"
   ],
   "metadata": {
    "collapsed": false,
    "pycharm": {
     "name": "#%%\n"
    }
   }
  },
  {
   "cell_type": "markdown",
   "metadata": {},
   "source": [
    "# Visualizar Modelo"
   ]
  },
  {
   "cell_type": "markdown",
   "metadata": {},
   "source": [
    "> - Scatterplot con puntos coloreados según el grupo al que pertenece cada observación: `hue = model.labels_`\n",
    "> - Añade otra capa de puntos, los cuales indicarán los centroides (se encuentran en `model.cluster_centers_`)"
   ]
  },
  {
   "cell_type": "code",
   "execution_count": 79,
   "metadata": {},
   "outputs": [],
   "source": [
    "import matplotlib.pyplot as px"
   ]
  },
  {
   "cell_type": "code",
   "execution_count": 81,
   "outputs": [
    {
     "data": {
      "text/plain": "<AxesSubplot:xlabel='cylinders', ylabel='weight'>"
     },
     "execution_count": 81,
     "metadata": {},
     "output_type": "execute_result"
    },
    {
     "data": {
      "text/plain": "<Figure size 432x288 with 1 Axes>",
      "image/png": "[encoded data removed]"
     },
     "metadata": {
      "needs_background": "light"
     },
     "output_type": "display_data"
    }
   ],
   "source": [
    "sns.scatterplot(x='cylinders', y='weight', hue= 'Cluster', data=df1, palette='Set2')"
   ],
   "metadata": {
    "collapsed": false,
    "pycharm": {
     "name": "#%%\n"
    }
   }
  },
  {
   "cell_type": "markdown",
   "metadata": {},
   "source": [
    "# Interpretar Modelo"
   ]
  },
  {
   "cell_type": "markdown",
   "metadata": {},
   "source": [
    "> 1. Si tuvieras que ponerle nombre a cada grupo, ¿cuál le darías?\n",
    "> 2. ¿En qué te basas para ello?"
   ]
  },
  {
   "cell_type": "code",
   "execution_count": null,
   "metadata": {},
   "outputs": [],
   "source": []
  },
  {
   "cell_type": "markdown",
   "metadata": {},
   "source": [
    "# Objetivos Alcanzados"
   ]
  },
  {
   "cell_type": "markdown",
   "metadata": {},
   "source": [
    "_Haz doble click sobre esta celda y pon una `X` dentro de las casillas [X] si crees que has superado los objetivos:_\n",
    "\n",
    "- [ ] Entender **cómo la máquina optimiza un modelo**, que no es más que encontrar **los números** una ecuación matemática.\n",
    "- [ ] La importancia de la **Suma de Cuadrados** como concepto fundamental de la estadística para medir el **error**.\n",
    "- [ ] Entender la necesidad de **Normalizar** los datos al emplear un algoritmo que involucra el **cálculo de distancias**.\n",
    "- [ ] Entender que la estadística no es más que una forma de aproximarse a la realidad. Y esta aproximación no es una ciencia exacta, sino **subjetiva**.\n",
    "- [ ] Empezar a distinguir, más aún, que la programación es una herramienta hacia un fin.\n",
    "- [ ] Al principio, nos salen muchos errores programando y creemos que no valemos para esto. Sin embargo, en este momento del programa, veremos que existen unos **patrones que siempre se cumplen en los errores** y empezaremos a **entender la máquina**.\n",
    "- [ ] Una vez más, nos daremos cuenta de que existen **distintos modelos para realizar el Análisis de Cluster**. De la misma manera que en el anterior capítulo también existían diversos Modelos de Regresión."
   ]
  }
 ],
 "metadata": {
  "authors": [
   {
    "name": "Jesús López @sotastica"
   }
  ],
  "kernelspec": {
   "display_name": "",
   "name": ""
  },
  "language_info": {
   "codemirror_mode": {
    "name": "ipython",
    "version": 3
   },
   "file_extension": ".py",
   "mimetype": "text/x-python",
   "name": "python",
   "nbconvert_exporter": "python",
   "pygments_lexer": "ipython3",
   "version": "3.8.5"
  }
 },
 "nbformat": 4,
 "nbformat_minor": 4
}